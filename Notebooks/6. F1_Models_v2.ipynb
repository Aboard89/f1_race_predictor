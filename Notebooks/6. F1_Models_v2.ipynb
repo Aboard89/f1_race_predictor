{
 "cells": [
  {
   "cell_type": "markdown",
   "metadata": {},
   "source": [
    "# Model Notebook"
   ]
  },
  {
   "cell_type": "markdown",
   "metadata": {},
   "source": [
    "#### 1. Import Packages"
   ]
  },
  {
   "cell_type": "code",
   "execution_count": 61,
   "metadata": {},
   "outputs": [],
   "source": [
    "# Basic Packages\n",
    "import numpy as np\n",
    "import pandas as pd\n",
    "import matplotlib.pyplot as plt\n",
    "import seaborn as sns\n",
    "import re\n",
    "import string\n",
    "\n",
    "# SK Packages\n",
    "from tempfile import mkdtemp\n",
    "from sklearn.pipeline import Pipeline\n",
    "from sklearn.preprocessing import StandardScaler\n",
    "from sklearn.decomposition import PCA\n",
    "from sklearn.linear_model import LogisticRegression\n",
    "from sklearn.model_selection import cross_val_score, GridSearchCV\n",
    "from sklearn.metrics import classification_report, confusion_matrix\n",
    "from sklearn.metrics import accuracy_score\n",
    "from sklearn.tree import DecisionTreeClassifier\n",
    "from sklearn.model_selection import train_test_split\n",
    "from sklearn.ensemble import RandomForestClassifier\n",
    "\n",
    "import joblib"
   ]
  },
  {
   "cell_type": "markdown",
   "metadata": {},
   "source": [
    "#### 2. Import Data"
   ]
  },
  {
   "cell_type": "code",
   "execution_count": 62,
   "metadata": {},
   "outputs": [],
   "source": [
    "# Load DataFrame\n",
    "file = 'C:/Users/Alex/OneDrive/BrainStation/Data_Science_Bootcamp/Capstone_Project/capstone-Aboard89/Notebooks/model_data_v2.csv'\n",
    "df = pd.read_csv(file)"
   ]
  },
  {
   "cell_type": "code",
   "execution_count": 63,
   "metadata": {},
   "outputs": [
    {
     "data": {
      "text/html": [
       "<div>\n",
       "<style scoped>\n",
       "    .dataframe tbody tr th:only-of-type {\n",
       "        vertical-align: middle;\n",
       "    }\n",
       "\n",
       "    .dataframe tbody tr th {\n",
       "        vertical-align: top;\n",
       "    }\n",
       "\n",
       "    .dataframe thead th {\n",
       "        text-align: right;\n",
       "    }\n",
       "</style>\n",
       "<table border=\"1\" class=\"dataframe\">\n",
       "  <thead>\n",
       "    <tr style=\"text-align: right;\">\n",
       "      <th></th>\n",
       "      <th>year</th>\n",
       "      <th>F2_champion</th>\n",
       "      <th>Former_F1_World_Champion</th>\n",
       "      <th>home_race</th>\n",
       "      <th>constructorId</th>\n",
       "      <th>starting_grid_position</th>\n",
       "      <th>points_in_previous_race</th>\n",
       "      <th>laps_in_previous_race</th>\n",
       "      <th>race_win</th>\n",
       "      <th>constructorId_points_at_stage_of_season</th>\n",
       "      <th>...</th>\n",
       "      <th>Lapped</th>\n",
       "      <th>Number_Of_Stops</th>\n",
       "      <th>Total_time_in_pits</th>\n",
       "      <th>Avg_time_in_pits</th>\n",
       "      <th>Weather_Conditions_Dry</th>\n",
       "      <th>Weather_Conditions_Rain</th>\n",
       "      <th>Weather_Conditions_Very changeable</th>\n",
       "      <th>Circuit_Type_Permanent Race Track</th>\n",
       "      <th>Circuit_Type_Street Circuit</th>\n",
       "      <th>Circuit_Type_Street Circuit</th>\n",
       "    </tr>\n",
       "  </thead>\n",
       "  <tbody>\n",
       "    <tr>\n",
       "      <th>0</th>\n",
       "      <td>1995</td>\n",
       "      <td>0</td>\n",
       "      <td>0</td>\n",
       "      <td>0</td>\n",
       "      <td>1</td>\n",
       "      <td>17</td>\n",
       "      <td>1.0</td>\n",
       "      <td>70</td>\n",
       "      <td>0</td>\n",
       "      <td>4.0</td>\n",
       "      <td>...</td>\n",
       "      <td>1.0</td>\n",
       "      <td>2.107465</td>\n",
       "      <td>54.14118</td>\n",
       "      <td>26.069149</td>\n",
       "      <td>1</td>\n",
       "      <td>0</td>\n",
       "      <td>0</td>\n",
       "      <td>0</td>\n",
       "      <td>0</td>\n",
       "      <td>0</td>\n",
       "    </tr>\n",
       "    <tr>\n",
       "      <th>1</th>\n",
       "      <td>1995</td>\n",
       "      <td>0</td>\n",
       "      <td>0</td>\n",
       "      <td>0</td>\n",
       "      <td>1</td>\n",
       "      <td>5</td>\n",
       "      <td>3.0</td>\n",
       "      <td>70</td>\n",
       "      <td>0</td>\n",
       "      <td>4.0</td>\n",
       "      <td>...</td>\n",
       "      <td>1.0</td>\n",
       "      <td>2.107465</td>\n",
       "      <td>54.14118</td>\n",
       "      <td>26.069149</td>\n",
       "      <td>1</td>\n",
       "      <td>0</td>\n",
       "      <td>0</td>\n",
       "      <td>0</td>\n",
       "      <td>0</td>\n",
       "      <td>0</td>\n",
       "    </tr>\n",
       "    <tr>\n",
       "      <th>2</th>\n",
       "      <td>1995</td>\n",
       "      <td>0</td>\n",
       "      <td>0</td>\n",
       "      <td>0</td>\n",
       "      <td>3</td>\n",
       "      <td>1</td>\n",
       "      <td>6.0</td>\n",
       "      <td>71</td>\n",
       "      <td>0</td>\n",
       "      <td>16.0</td>\n",
       "      <td>...</td>\n",
       "      <td>1.0</td>\n",
       "      <td>2.107465</td>\n",
       "      <td>54.14118</td>\n",
       "      <td>26.069149</td>\n",
       "      <td>1</td>\n",
       "      <td>0</td>\n",
       "      <td>0</td>\n",
       "      <td>0</td>\n",
       "      <td>0</td>\n",
       "      <td>0</td>\n",
       "    </tr>\n",
       "    <tr>\n",
       "      <th>3</th>\n",
       "      <td>1995</td>\n",
       "      <td>0</td>\n",
       "      <td>1</td>\n",
       "      <td>0</td>\n",
       "      <td>3</td>\n",
       "      <td>2</td>\n",
       "      <td>0.0</td>\n",
       "      <td>30</td>\n",
       "      <td>1</td>\n",
       "      <td>16.0</td>\n",
       "      <td>...</td>\n",
       "      <td>0.0</td>\n",
       "      <td>3.000000</td>\n",
       "      <td>88.95800</td>\n",
       "      <td>29.652667</td>\n",
       "      <td>1</td>\n",
       "      <td>0</td>\n",
       "      <td>0</td>\n",
       "      <td>0</td>\n",
       "      <td>0</td>\n",
       "      <td>0</td>\n",
       "    </tr>\n",
       "    <tr>\n",
       "      <th>4</th>\n",
       "      <td>1995</td>\n",
       "      <td>0</td>\n",
       "      <td>0</td>\n",
       "      <td>0</td>\n",
       "      <td>6</td>\n",
       "      <td>6</td>\n",
       "      <td>2.0</td>\n",
       "      <td>70</td>\n",
       "      <td>0</td>\n",
       "      <td>13.0</td>\n",
       "      <td>...</td>\n",
       "      <td>0.0</td>\n",
       "      <td>2.000000</td>\n",
       "      <td>56.85000</td>\n",
       "      <td>28.425000</td>\n",
       "      <td>1</td>\n",
       "      <td>0</td>\n",
       "      <td>0</td>\n",
       "      <td>0</td>\n",
       "      <td>0</td>\n",
       "      <td>0</td>\n",
       "    </tr>\n",
       "  </tbody>\n",
       "</table>\n",
       "<p>5 rows × 92 columns</p>\n",
       "</div>"
      ],
      "text/plain": [
       "   year  F2_champion  Former_F1_World_Champion  home_race  constructorId  \\\n",
       "0  1995            0                         0          0              1   \n",
       "1  1995            0                         0          0              1   \n",
       "2  1995            0                         0          0              3   \n",
       "3  1995            0                         1          0              3   \n",
       "4  1995            0                         0          0              6   \n",
       "\n",
       "   starting_grid_position  points_in_previous_race  laps_in_previous_race  \\\n",
       "0                      17                      1.0                     70   \n",
       "1                       5                      3.0                     70   \n",
       "2                       1                      6.0                     71   \n",
       "3                       2                      0.0                     30   \n",
       "4                       6                      2.0                     70   \n",
       "\n",
       "   race_win  constructorId_points_at_stage_of_season  ...  Lapped  \\\n",
       "0         0                                      4.0  ...     1.0   \n",
       "1         0                                      4.0  ...     1.0   \n",
       "2         0                                     16.0  ...     1.0   \n",
       "3         1                                     16.0  ...     0.0   \n",
       "4         0                                     13.0  ...     0.0   \n",
       "\n",
       "   Number_Of_Stops  Total_time_in_pits  Avg_time_in_pits  \\\n",
       "0         2.107465            54.14118         26.069149   \n",
       "1         2.107465            54.14118         26.069149   \n",
       "2         2.107465            54.14118         26.069149   \n",
       "3         3.000000            88.95800         29.652667   \n",
       "4         2.000000            56.85000         28.425000   \n",
       "\n",
       "   Weather_Conditions_Dry  Weather_Conditions_Rain  \\\n",
       "0                       1                        0   \n",
       "1                       1                        0   \n",
       "2                       1                        0   \n",
       "3                       1                        0   \n",
       "4                       1                        0   \n",
       "\n",
       "   Weather_Conditions_Very changeable  Circuit_Type_Permanent Race Track   \\\n",
       "0                                   0                                   0   \n",
       "1                                   0                                   0   \n",
       "2                                   0                                   0   \n",
       "3                                   0                                   0   \n",
       "4                                   0                                   0   \n",
       "\n",
       "   Circuit_Type_Street Circuit  Circuit_Type_Street Circuit   \n",
       "0                            0                             0  \n",
       "1                            0                             0  \n",
       "2                            0                             0  \n",
       "3                            0                             0  \n",
       "4                            0                             0  \n",
       "\n",
       "[5 rows x 92 columns]"
      ]
     },
     "execution_count": 63,
     "metadata": {},
     "output_type": "execute_result"
    }
   ],
   "source": [
    "df.head()"
   ]
  },
  {
   "cell_type": "markdown",
   "metadata": {},
   "source": [
    "### 3. Train-Test-Split the Model & Class Balance Review"
   ]
  },
  {
   "cell_type": "markdown",
   "metadata": {},
   "source": [
    "In our data science project, we employ a train-test split to ensure the robustness and generalizability of our predictive model. By dividing our dataset into a training set for model development and a testing set for validation, we simulate real-world scenarios where the model must make accurate predictions on unseen data. This method helps us evaluate the model's performance objectively, ensuring it can reliably predict future race outcomes based on patterns learned from historical data, rather than memorizing specific outcomes."
   ]
  },
  {
   "cell_type": "code",
   "execution_count": 64,
   "metadata": {},
   "outputs": [],
   "source": [
    "# Perform train-test split\n",
    "train_data, test_data = train_test_split(df, test_size=0.2, random_state=42)  # You can adjust the test_size as needed\n",
    "\n",
    "# Save training and testing data to separate CSV files\n",
    "train_data.to_csv('train_data_v2.csv', index=False)\n",
    "test_data.to_csv('test_data_v2.csv', index=False)"
   ]
  },
  {
   "cell_type": "markdown",
   "metadata": {},
   "source": [
    "**Class Balance Review**: In our quest to predict Formula 1 race winners, we want examine the class balance within the \"race_win\" column, where '1' indicates a win and '0' denotes not winning. Analyzing class imbalance is crucial because it can significantly influence the model's learning process and its subsequent predictions. If one class vastly outnumbers the other, the model might become biased, favoring the majority class and potentially overlooking patterns specific to the minority class. This examination ensures our model learns to recognize the subtle nuances between winning and not winning, striving for accurate and fair predictions across all races.\n",
    "\n",
    "It's also worth nothing that a naive prediction model, will predict 0 (non-win) for a particular driver and be correct 95% of the time (as there are 20 drivers in F1 and only 1 winner). This will serve as a benchmark for accuracy, but we want to predict the winner (rather than the non-winners) so we will also need to look at Precision and Recall. "
   ]
  },
  {
   "cell_type": "code",
   "execution_count": 65,
   "metadata": {},
   "outputs": [
    {
     "data": {
      "image/png": "[encoded data removed]",
      "text/plain": [
       "<Figure size 640x480 with 1 Axes>"
      ]
     },
     "metadata": {},
     "output_type": "display_data"
    }
   ],
   "source": [
    "# Get the normalized value counts for the 'race_win' column and multiply by 100 to get percentages\n",
    "value_counts = train_data['race_win'].value_counts(normalize=True) * 100\n",
    "\n",
    "# Create the bar chart\n",
    "plt.figure()\n",
    "plt.bar(value_counts.index.astype(str), value_counts.values)\n",
    "plt.xlabel('Race Win or Not')\n",
    "plt.ylabel('Percentage of Total Training Set (%)')\n",
    "plt.xticks([0, 1], ['Did not Win', 'Did Win'])\n",
    "plt.title('Distribution of \"Win\" rows in dataset')\n",
    "plt.show()"
   ]
  },
  {
   "cell_type": "markdown",
   "metadata": {},
   "source": [
    "This bar chart displays the class distribution for the training dataset concerning Formula 1 race outcomes, specifically showing the proportion of instances where a driver did not win compared to when they did. The stark contrast suggests a significant class imbalance, with the \"Did not Win\" category heavily outweighing the \"Did Win\" one. In predictive modeling. As mentioned above, this imbalance poses a challenge because models might become biased towards predicting the majority class, \"Did not Win.\" As a result, the model might perform poorly in correctly predicting the less frequent, but more interesting (for this study), \"Did Win\" instances. \n",
    "\n",
    "To address this, later in the study we will explore techniques such as resampling, or specialized ML algorithms that are more robust at dealing with class imbalance (e.g. Random Forest & Balanced Random Forest) might be necessary."
   ]
  },
  {
   "cell_type": "markdown",
   "metadata": {},
   "source": [
    "### 4. **Logistics Regression**"
   ]
  },
  {
   "cell_type": "markdown",
   "metadata": {},
   "source": [
    "We're kicking off with a logistic regression as our initial modeling approach. We will start with a logistic regression because it's a straightforward, interpretable model that excels in binary classification problems, like ours, with 'win' or 'not win' outcomes. This model will serve as a benchmark, providing a clear baseline for performance that we can compare against more complex models later on. Its simplicity allows us to quickly gauge the predictive power of our features and understand the underlying patterns in the data, setting a solid foundation for refining our predictive capabilities as the project progresses."
   ]
  },
  {
   "cell_type": "code",
   "execution_count": 66,
   "metadata": {},
   "outputs": [],
   "source": [
    "# Define X and Y for the training model\n",
    "X_train = train_data.drop('race_win', axis=1)\n",
    "y_train = train_data['race_win']"
   ]
  },
  {
   "cell_type": "markdown",
   "metadata": {},
   "source": [
    "When applying logistic regression, we are going to take the step of scaling our data. This process normalizes the features in our training data, ensuring that each one contributes equally to the model's predictions, without letting larger-scale features dominate. This step is useful because logistic regression, like many machine learning algorithms, can perform better and converge faster on scaled data, leading to more reliable and interpretable results. This standardization ensures that our model evaluates the importance of each feature based on its contribution to predicting race outcomes, rather than being skewed by the varying scales of the data. \n",
    "\n",
    "We are going to use the StandardScaler, as generally people use the Standard scaler rather than the MinMax scaler. While the ,MinMax scaler scales the data such that it lies between 0 and 1, the standard scaler scales the data such that it is centered at 0, and has a variance (as well as standard deviation) of 1.0.\n",
    "\n",
    "* Taken BrainStation \"Distance and Scaling\" notebook*"
   ]
  },
  {
   "cell_type": "code",
   "execution_count": 67,
   "metadata": {},
   "outputs": [],
   "source": [
    "# Scale the data\n",
    "scaler = StandardScaler()\n",
    "X_train_scaled = scaler.fit_transform(X_train)"
   ]
  },
  {
   "cell_type": "code",
   "execution_count": 68,
   "metadata": {},
   "outputs": [],
   "source": [
    "# Create the logistic regression model\n",
    "model = LogisticRegression()"
   ]
  },
  {
   "cell_type": "code",
   "execution_count": 69,
   "metadata": {},
   "outputs": [
    {
     "name": "stderr",
     "output_type": "stream",
     "text": [
      "c:\\Users\\Alex\\anaconda3\\envs\\capstone\\lib\\site-packages\\sklearn\\linear_model\\_logistic.py:460: ConvergenceWarning: lbfgs failed to converge (status=1):\n",
      "STOP: TOTAL NO. of ITERATIONS REACHED LIMIT.\n",
      "\n",
      "Increase the number of iterations (max_iter) or scale the data as shown in:\n",
      "    https://scikit-learn.org/stable/modules/preprocessing.html\n",
      "Please also refer to the documentation for alternative solver options:\n",
      "    https://scikit-learn.org/stable/modules/linear_model.html#logistic-regression\n",
      "  n_iter_i = _check_optimize_result(\n"
     ]
    },
    {
     "data": {
      "text/html": [
       "<style>#sk-container-id-3 {color: black;}#sk-container-id-3 pre{padding: 0;}#sk-container-id-3 div.sk-toggleable {background-color: white;}#sk-container-id-3 label.sk-toggleable__label {cursor: pointer;display: block;width: 100%;margin-bottom: 0;padding: 0.3em;box-sizing: border-box;text-align: center;}#sk-container-id-3 label.sk-toggleable__label-arrow:before {content: \"▸\";float: left;margin-right: 0.25em;color: #696969;}#sk-container-id-3 label.sk-toggleable__label-arrow:hover:before {color: black;}#sk-container-id-3 div.sk-estimator:hover label.sk-toggleable__label-arrow:before {color: black;}#sk-container-id-3 div.sk-toggleable__content {max-height: 0;max-width: 0;overflow: hidden;text-align: left;background-color: #f0f8ff;}#sk-container-id-3 div.sk-toggleable__content pre {margin: 0.2em;color: black;border-radius: 0.25em;background-color: #f0f8ff;}#sk-container-id-3 input.sk-toggleable__control:checked~div.sk-toggleable__content {max-height: 200px;max-width: 100%;overflow: auto;}#sk-container-id-3 input.sk-toggleable__control:checked~label.sk-toggleable__label-arrow:before {content: \"▾\";}#sk-container-id-3 div.sk-estimator input.sk-toggleable__control:checked~label.sk-toggleable__label {background-color: #d4ebff;}#sk-container-id-3 div.sk-label input.sk-toggleable__control:checked~label.sk-toggleable__label {background-color: #d4ebff;}#sk-container-id-3 input.sk-hidden--visually {border: 0;clip: rect(1px 1px 1px 1px);clip: rect(1px, 1px, 1px, 1px);height: 1px;margin: -1px;overflow: hidden;padding: 0;position: absolute;width: 1px;}#sk-container-id-3 div.sk-estimator {font-family: monospace;background-color: #f0f8ff;border: 1px dotted black;border-radius: 0.25em;box-sizing: border-box;margin-bottom: 0.5em;}#sk-container-id-3 div.sk-estimator:hover {background-color: #d4ebff;}#sk-container-id-3 div.sk-parallel-item::after {content: \"\";width: 100%;border-bottom: 1px solid gray;flex-grow: 1;}#sk-container-id-3 div.sk-label:hover label.sk-toggleable__label {background-color: #d4ebff;}#sk-container-id-3 div.sk-serial::before {content: \"\";position: absolute;border-left: 1px solid gray;box-sizing: border-box;top: 0;bottom: 0;left: 50%;z-index: 0;}#sk-container-id-3 div.sk-serial {display: flex;flex-direction: column;align-items: center;background-color: white;padding-right: 0.2em;padding-left: 0.2em;position: relative;}#sk-container-id-3 div.sk-item {position: relative;z-index: 1;}#sk-container-id-3 div.sk-parallel {display: flex;align-items: stretch;justify-content: center;background-color: white;position: relative;}#sk-container-id-3 div.sk-item::before, #sk-container-id-3 div.sk-parallel-item::before {content: \"\";position: absolute;border-left: 1px solid gray;box-sizing: border-box;top: 0;bottom: 0;left: 50%;z-index: -1;}#sk-container-id-3 div.sk-parallel-item {display: flex;flex-direction: column;z-index: 1;position: relative;background-color: white;}#sk-container-id-3 div.sk-parallel-item:first-child::after {align-self: flex-end;width: 50%;}#sk-container-id-3 div.sk-parallel-item:last-child::after {align-self: flex-start;width: 50%;}#sk-container-id-3 div.sk-parallel-item:only-child::after {width: 0;}#sk-container-id-3 div.sk-dashed-wrapped {border: 1px dashed gray;margin: 0 0.4em 0.5em 0.4em;box-sizing: border-box;padding-bottom: 0.4em;background-color: white;}#sk-container-id-3 div.sk-label label {font-family: monospace;font-weight: bold;display: inline-block;line-height: 1.2em;}#sk-container-id-3 div.sk-label-container {text-align: center;}#sk-container-id-3 div.sk-container {/* jupyter's `normalize.less` sets `[hidden] { display: none; }` but bootstrap.min.css set `[hidden] { display: none !important; }` so we also need the `!important` here to be able to override the default hidden behavior on the sphinx rendered scikit-learn.org. See: https://github.com/scikit-learn/scikit-learn/issues/21755 */display: inline-block !important;position: relative;}#sk-container-id-3 div.sk-text-repr-fallback {display: none;}</style><div id=\"sk-container-id-3\" class=\"sk-top-container\"><div class=\"sk-text-repr-fallback\"><pre>LogisticRegression()</pre><b>In a Jupyter environment, please rerun this cell to show the HTML representation or trust the notebook. <br />On GitHub, the HTML representation is unable to render, please try loading this page with nbviewer.org.</b></div><div class=\"sk-container\" hidden><div class=\"sk-item\"><div class=\"sk-estimator sk-toggleable\"><input class=\"sk-toggleable__control sk-hidden--visually\" id=\"sk-estimator-id-3\" type=\"checkbox\" checked><label for=\"sk-estimator-id-3\" class=\"sk-toggleable__label sk-toggleable__label-arrow\">LogisticRegression</label><div class=\"sk-toggleable__content\"><pre>LogisticRegression()</pre></div></div></div></div></div>"
      ],
      "text/plain": [
       "LogisticRegression()"
      ]
     },
     "execution_count": 69,
     "metadata": {},
     "output_type": "execute_result"
    }
   ],
   "source": [
    "# Train the model\n",
    "model.fit(X_train_scaled, y_train)"
   ]
  },
  {
   "cell_type": "code",
   "execution_count": 70,
   "metadata": {},
   "outputs": [],
   "source": [
    "# Predict on the training data (to see how well the model does on the data it was trained on)\n",
    "y_train_pred = model.predict(X_train_scaled)"
   ]
  },
  {
   "cell_type": "code",
   "execution_count": 71,
   "metadata": {},
   "outputs": [
    {
     "name": "stdout",
     "output_type": "stream",
     "text": [
      "[[8240   79]\n",
      " [ 270  147]]\n",
      "              precision    recall  f1-score   support\n",
      "\n",
      "           0       0.97      0.99      0.98      8319\n",
      "           1       0.65      0.35      0.46       417\n",
      "\n",
      "    accuracy                           0.96      8736\n",
      "   macro avg       0.81      0.67      0.72      8736\n",
      "weighted avg       0.95      0.96      0.95      8736\n",
      "\n"
     ]
    }
   ],
   "source": [
    "# Evaluate the model\n",
    "print(confusion_matrix(y_train, y_train_pred))\n",
    "print(classification_report(y_train, y_train_pred))"
   ]
  },
  {
   "cell_type": "markdown",
   "metadata": {},
   "source": [
    "The confusion matrix and the classification report provide an overview of the model's performance on the training set for predicting F1 race winners. From the confusion matrix, we see that the model predicted 'Did not Win' (class 0) correctly 8254 times, but it incorrectly predicted 'Did Win' (class 1) as 'Did not Win' 321 times. For the actual wins, the model only correctly predicted 961 instances of 'Did Win' and incorrectly predicted 'Did not Win' 65 times. \n",
    "\n",
    "The classification report provides further insight. While the model is quite precise at identifying the 'Did not Win' cases (96% precision), its recall for the 'Did Win' cases is only 23%, indicating it misses many actual wins. Consequently, the f1-score for the 'Did Win' predictions is low at 0.33, due to the poor recall. This seems to link in with the earlier identified class imbalance and indicates that while the model is adept at identifying non-winners, it struggles to identify the actual winners, which are of more interest in this context.\n",
    "\n",
    "\n"
   ]
  },
  {
   "cell_type": "markdown",
   "metadata": {},
   "source": [
    "**Next Steps**\n",
    "\n",
    "1. I will experiment with different algorithms that are more robust to imbalanced datasets, such as ensemble methods. Fine-tuning the model's hyperparameters could also enhance predictive performance.\n",
    "\n",
    "2. Additionally, to improve the model's ability to predict F1 race winners, I will consider addressing the class imbalance by employing techniques such as oversampling the minority class (I can't really undersample the majority class as there are too few minority class). \n",
    "\n",
    "3. Another option is incorporating more discriminative features or engineered features that capture the dynamics of race-winning factors"
   ]
  },
  {
   "cell_type": "markdown",
   "metadata": {},
   "source": [
    "### 5. **Optimizing LogReg Using Pipeline and Grid Search**"
   ]
  },
  {
   "cell_type": "markdown",
   "metadata": {},
   "source": [
    "To get the most out of our Logistic Regression model for predicting F1 winners, we're building a pipeline to streamline the process and using grid search to find the best hyperparameter settings. This will ensure we're efficiently testing different options and hopefully zoom in on the most accurate model for picking race winners"
   ]
  },
  {
   "cell_type": "code",
   "execution_count": 72,
   "metadata": {},
   "outputs": [],
   "source": [
    "# Set up a directory to cache the pipeline results\n",
    "cachedir = mkdtemp()\n",
    "\n",
    "# Set up a pipeline\n",
    "# The steps here act as placeholders and will be changed when we pass the pipeline\n",
    "\n",
    "my_pipeline = Pipeline([('scaler', StandardScaler()),\n",
    "('dim_reducer', PCA()),\n",
    "('model', LogisticRegression())], memory=cachedir)"
   ]
  },
  {
   "cell_type": "markdown",
   "metadata": {},
   "source": [
    "We're fine-tuning our Logistic Regression model by trying out different configurations using a grid search. This code tests a range of hyperparameter values:\n",
    "\n",
    "1. **C-value (regularization strength)**: We're trying various C-values to find the sweet spot between underfitting and overfitting. Higher C emphasizes simpler models, potentially reducing overfitting, while lower C allows for more complex models that could capture intricate patterns.\n",
    "\n",
    "2. **Scalers**: We're including different scalers (StandardScaler, MinMaxScaler, RobustScaler) to see if transforming the data improves model performance. Scaling can address issues like features having different scales, potentially leading to better predictions.\n",
    "\n",
    "3. **Dimensionality Reduction (PCA)**: We're testing PCA (Principal Component Analysis) with and without scaling to see if reducing feature dimensions helps. This can simplify the model and potentially improve generalizability, especially if there's redundancy in the data (e.g. some features repeat information).\n",
    "\n",
    "4. **Penalty (L1 vs. L2)**: We're comparing L1 (LASSO) and L2 (Ridge) penalties. L1 shrinks some coefficients to zero, potentially leading to feature selection, while L2 shrinks all coefficients, encouraging simpler models. We're unsure which might work best for our data, so we're testing both.\n",
    "\n",
    "By systematically testing these combinations, we're hoping to identify the best configuration of hyperparameters, scalers, and dimensionality reduction for our Logistic Regression model, ultimately leading to more accurate F1 race winner predictions."
   ]
  },
  {
   "cell_type": "code",
   "execution_count": 73,
   "metadata": {},
   "outputs": [],
   "source": [
    "from sklearn.preprocessing import StandardScaler, MinMaxScaler, RobustScaler\n",
    "\n",
    "# Let's try the same range of C values from earlier\n",
    "c_values = [.00001, .0001, .001, .1, 1, 10, 100, 1000, 10000]\n",
    "\n",
    "# Parameter grid\n",
    "logreg_param_grid = [\n",
    "    # L1 without PCA\n",
    "    {'scaler': [None, StandardScaler(), MinMaxScaler()],\n",
    "     'dim_reducer': [None],\n",
    "     'model': [LogisticRegression(penalty='l1', solver='lbfgs', random_state=1, n_jobs=-1, max_iter=100)],\n",
    "     'model__C': c_values},\n",
    "\n",
    "    # L1 with PCA\n",
    "    {'scaler': [StandardScaler(), MinMaxScaler()],\n",
    "     'dim_reducer': [PCA()],\n",
    "     'dim_reducer__n_components': [0.95, 0.9, 0.85, 0.8],\n",
    "     'model': [LogisticRegression(penalty='l1', solver='lbfgs', random_state=1, n_jobs=-1, max_iter=100)],\n",
    "     'model__C': c_values},\n",
    "\n",
    "    # L2 (default) without PCA\n",
    "    {'scaler': [None, StandardScaler(), MinMaxScaler()],\n",
    "     'dim_reducer': [None],\n",
    "     'model': [LogisticRegression(penalty='l2', solver='lbfgs', random_state=1, n_jobs=-1, max_iter=100)],\n",
    "     'model__C': c_values},\n",
    "\n",
    "    # L2 (default) with PCA\n",
    "    {'scaler': [StandardScaler(), MinMaxScaler()],\n",
    "     'dim_reducer': [PCA()],\n",
    "     'dim_reducer__n_components': [0.95, 0.9, 0.85, 0.8],\n",
    "     'model': [LogisticRegression(penalty='l2', solver='lbfgs', random_state=1, n_jobs=-1, max_iter=100)],\n",
    "     'model__C': c_values}\n",
    "]\n",
    "\n",
    "# The parameter dim_reducer__n_components specifies the number of components to keep after reducing dimensions. \n",
    "# For solver : \"LogisticRegression (default solver: lbfgs): Offers various solver options (including liblinear, lbfgs, newton-cg, sag) are available, but I went with the default"
   ]
  },
  {
   "cell_type": "code",
   "execution_count": 74,
   "metadata": {},
   "outputs": [
    {
     "name": "stderr",
     "output_type": "stream",
     "text": [
      "c:\\Users\\Alex\\anaconda3\\envs\\capstone\\lib\\site-packages\\sklearn\\model_selection\\_validation.py:425: FitFailedWarning: \n",
      "495 fits failed out of a total of 990.\n",
      "The score on these train-test partitions for these parameters will be set to nan.\n",
      "If these failures are not expected, you can try to debug them by setting error_score='raise'.\n",
      "\n",
      "Below are more details about the failures:\n",
      "--------------------------------------------------------------------------------\n",
      "495 fits failed with the following error:\n",
      "Traceback (most recent call last):\n",
      "  File \"c:\\Users\\Alex\\anaconda3\\envs\\capstone\\lib\\site-packages\\sklearn\\model_selection\\_validation.py\", line 729, in _fit_and_score\n",
      "    estimator.fit(X_train, y_train, **fit_params)\n",
      "  File \"c:\\Users\\Alex\\anaconda3\\envs\\capstone\\lib\\site-packages\\sklearn\\base.py\", line 1152, in wrapper\n",
      "    return fit_method(estimator, *args, **kwargs)\n",
      "  File \"c:\\Users\\Alex\\anaconda3\\envs\\capstone\\lib\\site-packages\\sklearn\\pipeline.py\", line 427, in fit\n",
      "    self._final_estimator.fit(Xt, y, **fit_params_last_step)\n",
      "  File \"c:\\Users\\Alex\\anaconda3\\envs\\capstone\\lib\\site-packages\\sklearn\\base.py\", line 1152, in wrapper\n",
      "    return fit_method(estimator, *args, **kwargs)\n",
      "  File \"c:\\Users\\Alex\\anaconda3\\envs\\capstone\\lib\\site-packages\\sklearn\\linear_model\\_logistic.py\", line 1169, in fit\n",
      "    solver = _check_solver(self.solver, self.penalty, self.dual)\n",
      "  File \"c:\\Users\\Alex\\anaconda3\\envs\\capstone\\lib\\site-packages\\sklearn\\linear_model\\_logistic.py\", line 56, in _check_solver\n",
      "    raise ValueError(\n",
      "ValueError: Solver lbfgs supports only 'l2' or 'none' penalties, got l1 penalty.\n",
      "\n",
      "  warnings.warn(some_fits_failed_message, FitFailedWarning)\n",
      "c:\\Users\\Alex\\anaconda3\\envs\\capstone\\lib\\site-packages\\sklearn\\model_selection\\_search.py:979: UserWarning: One or more of the test scores are non-finite: [       nan        nan        nan        nan        nan        nan\n",
      "        nan        nan        nan        nan        nan        nan\n",
      "        nan        nan        nan        nan        nan        nan\n",
      "        nan        nan        nan        nan        nan        nan\n",
      "        nan        nan        nan        nan        nan        nan\n",
      "        nan        nan        nan        nan        nan        nan\n",
      "        nan        nan        nan        nan        nan        nan\n",
      "        nan        nan        nan        nan        nan        nan\n",
      "        nan        nan        nan        nan        nan        nan\n",
      "        nan        nan        nan        nan        nan        nan\n",
      "        nan        nan        nan        nan        nan        nan\n",
      "        nan        nan        nan        nan        nan        nan\n",
      "        nan        nan        nan        nan        nan        nan\n",
      "        nan        nan        nan        nan        nan        nan\n",
      "        nan        nan        nan        nan        nan        nan\n",
      "        nan        nan        nan        nan        nan        nan\n",
      "        nan        nan        nan 0.95226626 0.95226652 0.95226652\n",
      " 0.95249535 0.95226652 0.95226652 0.9532966  0.95226652 0.95226652\n",
      " 0.95352563 0.95627247 0.95398329 0.95432687 0.95798964 0.95489875\n",
      " 0.95352563 0.9579897  0.95833302 0.95272425 0.9582186  0.95764626\n",
      " 0.95444128 0.95833308 0.95753171 0.95386907 0.95810418 0.95776054\n",
      " 0.95226652 0.95226652 0.95226652 0.95226652 0.95215204 0.95226652\n",
      " 0.95467038 0.95363985 0.95558591 0.95489869 0.95730307 0.95879088\n",
      " 0.95707411 0.9586764  0.95753204 0.95879094 0.95764645 0.95879088\n",
      " 0.95226652 0.95226652 0.95226652 0.95226652 0.95203756 0.95226652\n",
      " 0.95238094 0.95398342 0.95467031 0.95341101 0.95558597 0.95375433\n",
      " 0.95661631 0.95467025 0.95661631 0.95467025 0.95661631 0.95478473\n",
      " 0.95226652 0.95226652 0.95226652 0.95226652 0.95226652 0.95226652\n",
      " 0.95226626 0.95375446 0.95341114 0.95192268 0.95501356 0.95100702\n",
      " 0.95467012 0.95066377 0.95455564 0.95066384 0.95478467 0.95077832\n",
      " 0.95226652 0.95226652 0.95226652 0.95226652 0.95203756 0.95226652\n",
      " 0.95226645 0.95341101 0.95112183 0.95157943 0.95077845 0.95054909\n",
      " 0.95112177 0.9503202  0.95135066 0.9503202  0.95123625 0.95020571]\n",
      "  warnings.warn(\n"
     ]
    }
   ],
   "source": [
    "# Instantiate the log reg grid search\n",
    "logreg_gs = GridSearchCV(my_pipeline, param_grid=logreg_param_grid, cv=5, n_jobs=-1)\n",
    "\n",
    "# Fit the log reg grid search\n",
    "fitted_logreg_gs = logreg_gs.fit(X_train, y_train)"
   ]
  },
  {
   "cell_type": "code",
   "execution_count": 75,
   "metadata": {},
   "outputs": [
    {
     "name": "stdout",
     "output_type": "stream",
     "text": [
      "Best parameters set found on development set:\n",
      "{'dim_reducer': PCA(), 'dim_reducer__n_components': 0.95, 'model': LogisticRegression(n_jobs=-1, random_state=1), 'model__C': 1000, 'scaler': MinMaxScaler()}\n",
      "Best score: 0.9587909446596257\n"
     ]
    }
   ],
   "source": [
    "# Reviewing the results\n",
    "print(\"Best parameters set found on development set:\")\n",
    "print(logreg_gs.best_params_)\n",
    "print(\"Best score:\", logreg_gs.best_score_)"
   ]
  },
  {
   "cell_type": "markdown",
   "metadata": {},
   "source": [
    "The results above show the best parameters for predicting the F1 race winner, were found using a logistic regression model with a very high regularization strength (`C=10000`) and no dimensionality reduction (`'dim_reducer': None`). The best score, which is the accuracy of the model on the validation set, is approximately 95.58%.\n",
    "\n",
    "It's also important to note that the penalty is not explicitly mentioned, which means that the logistic regression is using its default `l2` penalty, also known as ridge regression. The `l2` penalty is used to prevent overfitting by adding a regularization term to the loss function, which penalizes large coefficients. The high value of `C` implies that the model is giving less importance to this regularization term, relying more on the data itself for prediction. "
   ]
  },
  {
   "cell_type": "markdown",
   "metadata": {},
   "source": [
    "#### Testing the model on the \"test set\""
   ]
  },
  {
   "cell_type": "code",
   "execution_count": 76,
   "metadata": {},
   "outputs": [],
   "source": [
    "# Define X and Y for the training model\n",
    "X_test = test_data.drop('race_win', axis=1)\n",
    "y_test = test_data['race_win']"
   ]
  },
  {
   "cell_type": "code",
   "execution_count": 77,
   "metadata": {},
   "outputs": [],
   "source": [
    "# Making predictions using the best estimator\n",
    "y_pred = logreg_gs.predict(X_test)\n",
    "\n",
    "# logreg_gs.score(x_test,y_test)"
   ]
  },
  {
   "cell_type": "code",
   "execution_count": 78,
   "metadata": {},
   "outputs": [
    {
     "name": "stdout",
     "output_type": "stream",
     "text": [
      "Confusion Matrix:\n",
      "[[2043   34]\n",
      " [  69   39]]\n",
      "Classification Report:\n",
      "              precision    recall  f1-score   support\n",
      "\n",
      "           0       0.97      0.98      0.98      2077\n",
      "           1       0.53      0.36      0.43       108\n",
      "\n",
      "    accuracy                           0.95      2185\n",
      "   macro avg       0.75      0.67      0.70      2185\n",
      "weighted avg       0.95      0.95      0.95      2185\n",
      "\n",
      "Accuracy: 0.9528604118993135\n"
     ]
    }
   ],
   "source": [
    "# Evaluating the model\n",
    "print(\"Confusion Matrix:\")\n",
    "print(confusion_matrix(y_test, y_pred))\n",
    "print(\"Classification Report:\")\n",
    "print(classification_report(y_test, y_pred))\n",
    "print(\"Accuracy:\", accuracy_score(y_test, y_pred))"
   ]
  },
  {
   "cell_type": "markdown",
   "metadata": {},
   "source": [
    "From the new confusion matrix, we can see that the model predicted the majority class (0,  the 'non-winner') quite accurately, with 2057 true negatives and only 20 false positives. However, it struggled more with the minority class (1, the 'winner'), with a higher proportion of false negatives (73) relative to true positives (35). \n",
    "\n",
    "The classification report provides additional insight. The precision for class 1 is 0.64, meaning that when the model predicts a race winner, it is correct 64% of the time. The recall for class 1 is 0.32, indicating that the model only identifies 32% of the actual race winners. This is reflected in the lower F1-score for class 1 (0.43), which is a harmonic mean of precision and recall, showing that the model is less adept at predicting winners than non-winners.\n",
    "\n",
    "Overall, the model is quite accurate (95.74%) when considering both classes together, but this high accuracy is largely due to its performance on the majority class. The relatively low F1-score for predicting winners suggests that there is room for improvement, particularly in how the model identifies the comparatively rare event of a race win."
   ]
  },
  {
   "cell_type": "markdown",
   "metadata": {},
   "source": [
    "#### **Comparison of the models**"
   ]
  },
  {
   "cell_type": "markdown",
   "metadata": {},
   "source": [
    "Comparing the two models for our F1 race winner prediction project, the two models have similar accuracy scores, but the second \"tuned\" model is more effective at predicting the positive class (label 1), which is our class of interest (the actual race winners). The second \"tuned\" model had a better balance between sensitivity and precision for the positive class, with a recall of 0.32 versus 0.23 in the first model, suggesting it was better at identifying actual winners. This trade-off is important in our project context where the correct prediction of race winners (a likely rare event) is more valuable than the overall accuracy rate."
   ]
  },
  {
   "cell_type": "markdown",
   "metadata": {},
   "source": [
    "### 6. **Decision Tree**"
   ]
  },
  {
   "cell_type": "markdown",
   "metadata": {},
   "source": [
    "After exploring the predictive capabilities of logistic regression in our project to forecast F1 race winners, we're turning our attention to the Decision Tree model as our next candidate. Decision Trees can capture non-linear relationships between features and the target variable, which might be prevalent in complex scenarios like F1 racing where interactions between conditions and driver capabilities can influence the outcome. Additionally, they offer excellent interpretability; we can easily understand and visualize the decision-making process of the model."
   ]
  },
  {
   "cell_type": "code",
   "execution_count": 79,
   "metadata": {},
   "outputs": [],
   "source": [
    "pipe_dt = Pipeline([('scl', StandardScaler()),\n",
    "                    ('DT',DecisionTreeClassifier(random_state=42))])"
   ]
  },
  {
   "cell_type": "markdown",
   "metadata": {},
   "source": [
    "When tuning models for predicting outcomes like an F1 race winner, hyperparameters like  'DT_criterion', 'DT_min_samples_leaf', 'DT_max_depth', and 'DT_min_samples_split' for decision trees help to define how the tree makes decisions, which impacts the model's complexity and ability to generalize."
   ]
  },
  {
   "cell_type": "code",
   "execution_count": 80,
   "metadata": {},
   "outputs": [],
   "source": [
    "# create parameter grid for model\n",
    "dt_param_grid = [{'DT__criterion': ['gini', 'entropy'],\n",
    "                   'DT__min_samples_leaf': [1, 2, 3, 4, 5, 6],\n",
    "                   'DT__max_depth': [1, 2, 3, 4, 5, 6],\n",
    "                   'DT__min_samples_split': [2, 3, 4, 5, 6]}]"
   ]
  },
  {
   "cell_type": "markdown",
   "metadata": {},
   "source": [
    "**DT_criterion**:\n",
    "1. '**gini**': Uses the Gini impurity as the criterion for splitting. It measures how often a randomly chosen element from the set would be incorrectly labeled. The 'gini' value gives you a number that represents this mix-up; the closer to zero, the less mixed (or impure) the group is, meaning your split did a good job. If the 'gini' value is higher, your groups are mixed, and the split could probably be better.\n",
    "2. '**entropy**': Uses the information gain (entropy) for splitting. It measures the reduction in entropy or surprise from transforming a dataset in some way.\n",
    "\n",
    "**DT_min_samples_leaf**:\n",
    "Specifies the minimum number of samples required to be at a leaf node. A split point at any depth will only be considered if it leaves at least this number of training samples in each of the left and right branches. This helps to control over-fitting by smoothing the model.\n",
    "\n",
    "**DT_max_depth**:\n",
    "Indicates the maximum depth of the tree. It is used to control over-fitting as higher depth will allow the model to learn relations very specific to the particular sample.\n",
    "\n",
    "**DT_min_samples_split**:\n",
    "Represents the minimum number of samples required to split an internal node. This provides a way to control over-fitting by requiring a larger sample size for a split to be considered."
   ]
  },
  {
   "cell_type": "code",
   "execution_count": 81,
   "metadata": {},
   "outputs": [],
   "source": [
    "# finally, create a gridsearchcv object with the param grid\n",
    "dt_grid_search = GridSearchCV(estimator=pipe_dt,\n",
    "        param_grid=dt_param_grid,\n",
    "        scoring='accuracy',\n",
    "        cv=5)"
   ]
  },
  {
   "cell_type": "code",
   "execution_count": 82,
   "metadata": {},
   "outputs": [
    {
     "ename": "KeyboardInterrupt",
     "evalue": "",
     "output_type": "error",
     "traceback": [
      "\u001b[1;31m---------------------------------------------------------------------------\u001b[0m",
      "\u001b[1;31mKeyboardInterrupt\u001b[0m                         Traceback (most recent call last)",
      "Cell \u001b[1;32mIn[82], line 4\u001b[0m\n\u001b[0;32m      2\u001b[0m grids \u001b[38;5;241m=\u001b[39m [dt_grid_search]\n\u001b[0;32m      3\u001b[0m \u001b[38;5;28;01mfor\u001b[39;00m pipe \u001b[38;5;129;01min\u001b[39;00m grids:\n\u001b[1;32m----> 4\u001b[0m     \u001b[43mpipe\u001b[49m\u001b[38;5;241;43m.\u001b[39;49m\u001b[43mfit\u001b[49m\u001b[43m(\u001b[49m\u001b[43mX_train\u001b[49m\u001b[43m,\u001b[49m\u001b[43my_train\u001b[49m\u001b[43m)\u001b[49m\n",
      "File \u001b[1;32mc:\\Users\\Alex\\anaconda3\\envs\\capstone\\lib\\site-packages\\sklearn\\base.py:1152\u001b[0m, in \u001b[0;36m_fit_context.<locals>.decorator.<locals>.wrapper\u001b[1;34m(estimator, *args, **kwargs)\u001b[0m\n\u001b[0;32m   1145\u001b[0m     estimator\u001b[38;5;241m.\u001b[39m_validate_params()\n\u001b[0;32m   1147\u001b[0m \u001b[38;5;28;01mwith\u001b[39;00m config_context(\n\u001b[0;32m   1148\u001b[0m     skip_parameter_validation\u001b[38;5;241m=\u001b[39m(\n\u001b[0;32m   1149\u001b[0m         prefer_skip_nested_validation \u001b[38;5;129;01mor\u001b[39;00m global_skip_validation\n\u001b[0;32m   1150\u001b[0m     )\n\u001b[0;32m   1151\u001b[0m ):\n\u001b[1;32m-> 1152\u001b[0m     \u001b[38;5;28;01mreturn\u001b[39;00m \u001b[43mfit_method\u001b[49m\u001b[43m(\u001b[49m\u001b[43mestimator\u001b[49m\u001b[43m,\u001b[49m\u001b[43m \u001b[49m\u001b[38;5;241;43m*\u001b[39;49m\u001b[43margs\u001b[49m\u001b[43m,\u001b[49m\u001b[43m \u001b[49m\u001b[38;5;241;43m*\u001b[39;49m\u001b[38;5;241;43m*\u001b[39;49m\u001b[43mkwargs\u001b[49m\u001b[43m)\u001b[49m\n",
      "File \u001b[1;32mc:\\Users\\Alex\\anaconda3\\envs\\capstone\\lib\\site-packages\\sklearn\\model_selection\\_search.py:898\u001b[0m, in \u001b[0;36mBaseSearchCV.fit\u001b[1;34m(self, X, y, groups, **fit_params)\u001b[0m\n\u001b[0;32m    892\u001b[0m     results \u001b[38;5;241m=\u001b[39m \u001b[38;5;28mself\u001b[39m\u001b[38;5;241m.\u001b[39m_format_results(\n\u001b[0;32m    893\u001b[0m         all_candidate_params, n_splits, all_out, all_more_results\n\u001b[0;32m    894\u001b[0m     )\n\u001b[0;32m    896\u001b[0m     \u001b[38;5;28;01mreturn\u001b[39;00m results\n\u001b[1;32m--> 898\u001b[0m \u001b[38;5;28;43mself\u001b[39;49m\u001b[38;5;241;43m.\u001b[39;49m\u001b[43m_run_search\u001b[49m\u001b[43m(\u001b[49m\u001b[43mevaluate_candidates\u001b[49m\u001b[43m)\u001b[49m\n\u001b[0;32m    900\u001b[0m \u001b[38;5;66;03m# multimetric is determined here because in the case of a callable\u001b[39;00m\n\u001b[0;32m    901\u001b[0m \u001b[38;5;66;03m# self.scoring the return type is only known after calling\u001b[39;00m\n\u001b[0;32m    902\u001b[0m first_test_score \u001b[38;5;241m=\u001b[39m all_out[\u001b[38;5;241m0\u001b[39m][\u001b[38;5;124m\"\u001b[39m\u001b[38;5;124mtest_scores\u001b[39m\u001b[38;5;124m\"\u001b[39m]\n",
      "File \u001b[1;32mc:\\Users\\Alex\\anaconda3\\envs\\capstone\\lib\\site-packages\\sklearn\\model_selection\\_search.py:1422\u001b[0m, in \u001b[0;36mGridSearchCV._run_search\u001b[1;34m(self, evaluate_candidates)\u001b[0m\n\u001b[0;32m   1420\u001b[0m \u001b[38;5;28;01mdef\u001b[39;00m \u001b[38;5;21m_run_search\u001b[39m(\u001b[38;5;28mself\u001b[39m, evaluate_candidates):\n\u001b[0;32m   1421\u001b[0m \u001b[38;5;250m    \u001b[39m\u001b[38;5;124;03m\"\"\"Search all candidates in param_grid\"\"\"\u001b[39;00m\n\u001b[1;32m-> 1422\u001b[0m     \u001b[43mevaluate_candidates\u001b[49m\u001b[43m(\u001b[49m\u001b[43mParameterGrid\u001b[49m\u001b[43m(\u001b[49m\u001b[38;5;28;43mself\u001b[39;49m\u001b[38;5;241;43m.\u001b[39;49m\u001b[43mparam_grid\u001b[49m\u001b[43m)\u001b[49m\u001b[43m)\u001b[49m\n",
      "File \u001b[1;32mc:\\Users\\Alex\\anaconda3\\envs\\capstone\\lib\\site-packages\\sklearn\\model_selection\\_search.py:845\u001b[0m, in \u001b[0;36mBaseSearchCV.fit.<locals>.evaluate_candidates\u001b[1;34m(candidate_params, cv, more_results)\u001b[0m\n\u001b[0;32m    837\u001b[0m \u001b[38;5;28;01mif\u001b[39;00m \u001b[38;5;28mself\u001b[39m\u001b[38;5;241m.\u001b[39mverbose \u001b[38;5;241m>\u001b[39m \u001b[38;5;241m0\u001b[39m:\n\u001b[0;32m    838\u001b[0m     \u001b[38;5;28mprint\u001b[39m(\n\u001b[0;32m    839\u001b[0m         \u001b[38;5;124m\"\u001b[39m\u001b[38;5;124mFitting \u001b[39m\u001b[38;5;132;01m{0}\u001b[39;00m\u001b[38;5;124m folds for each of \u001b[39m\u001b[38;5;132;01m{1}\u001b[39;00m\u001b[38;5;124m candidates,\u001b[39m\u001b[38;5;124m\"\u001b[39m\n\u001b[0;32m    840\u001b[0m         \u001b[38;5;124m\"\u001b[39m\u001b[38;5;124m totalling \u001b[39m\u001b[38;5;132;01m{2}\u001b[39;00m\u001b[38;5;124m fits\u001b[39m\u001b[38;5;124m\"\u001b[39m\u001b[38;5;241m.\u001b[39mformat(\n\u001b[0;32m    841\u001b[0m             n_splits, n_candidates, n_candidates \u001b[38;5;241m*\u001b[39m n_splits\n\u001b[0;32m    842\u001b[0m         )\n\u001b[0;32m    843\u001b[0m     )\n\u001b[1;32m--> 845\u001b[0m out \u001b[38;5;241m=\u001b[39m \u001b[43mparallel\u001b[49m\u001b[43m(\u001b[49m\n\u001b[0;32m    846\u001b[0m \u001b[43m    \u001b[49m\u001b[43mdelayed\u001b[49m\u001b[43m(\u001b[49m\u001b[43m_fit_and_score\u001b[49m\u001b[43m)\u001b[49m\u001b[43m(\u001b[49m\n\u001b[0;32m    847\u001b[0m \u001b[43m        \u001b[49m\u001b[43mclone\u001b[49m\u001b[43m(\u001b[49m\u001b[43mbase_estimator\u001b[49m\u001b[43m)\u001b[49m\u001b[43m,\u001b[49m\n\u001b[0;32m    848\u001b[0m \u001b[43m        \u001b[49m\u001b[43mX\u001b[49m\u001b[43m,\u001b[49m\n\u001b[0;32m    849\u001b[0m \u001b[43m        \u001b[49m\u001b[43my\u001b[49m\u001b[43m,\u001b[49m\n\u001b[0;32m    850\u001b[0m \u001b[43m        \u001b[49m\u001b[43mtrain\u001b[49m\u001b[38;5;241;43m=\u001b[39;49m\u001b[43mtrain\u001b[49m\u001b[43m,\u001b[49m\n\u001b[0;32m    851\u001b[0m \u001b[43m        \u001b[49m\u001b[43mtest\u001b[49m\u001b[38;5;241;43m=\u001b[39;49m\u001b[43mtest\u001b[49m\u001b[43m,\u001b[49m\n\u001b[0;32m    852\u001b[0m \u001b[43m        \u001b[49m\u001b[43mparameters\u001b[49m\u001b[38;5;241;43m=\u001b[39;49m\u001b[43mparameters\u001b[49m\u001b[43m,\u001b[49m\n\u001b[0;32m    853\u001b[0m \u001b[43m        \u001b[49m\u001b[43msplit_progress\u001b[49m\u001b[38;5;241;43m=\u001b[39;49m\u001b[43m(\u001b[49m\u001b[43msplit_idx\u001b[49m\u001b[43m,\u001b[49m\u001b[43m \u001b[49m\u001b[43mn_splits\u001b[49m\u001b[43m)\u001b[49m\u001b[43m,\u001b[49m\n\u001b[0;32m    854\u001b[0m \u001b[43m        \u001b[49m\u001b[43mcandidate_progress\u001b[49m\u001b[38;5;241;43m=\u001b[39;49m\u001b[43m(\u001b[49m\u001b[43mcand_idx\u001b[49m\u001b[43m,\u001b[49m\u001b[43m \u001b[49m\u001b[43mn_candidates\u001b[49m\u001b[43m)\u001b[49m\u001b[43m,\u001b[49m\n\u001b[0;32m    855\u001b[0m \u001b[43m        \u001b[49m\u001b[38;5;241;43m*\u001b[39;49m\u001b[38;5;241;43m*\u001b[39;49m\u001b[43mfit_and_score_kwargs\u001b[49m\u001b[43m,\u001b[49m\n\u001b[0;32m    856\u001b[0m \u001b[43m    \u001b[49m\u001b[43m)\u001b[49m\n\u001b[0;32m    857\u001b[0m \u001b[43m    \u001b[49m\u001b[38;5;28;43;01mfor\u001b[39;49;00m\u001b[43m \u001b[49m\u001b[43m(\u001b[49m\u001b[43mcand_idx\u001b[49m\u001b[43m,\u001b[49m\u001b[43m \u001b[49m\u001b[43mparameters\u001b[49m\u001b[43m)\u001b[49m\u001b[43m,\u001b[49m\u001b[43m \u001b[49m\u001b[43m(\u001b[49m\u001b[43msplit_idx\u001b[49m\u001b[43m,\u001b[49m\u001b[43m \u001b[49m\u001b[43m(\u001b[49m\u001b[43mtrain\u001b[49m\u001b[43m,\u001b[49m\u001b[43m \u001b[49m\u001b[43mtest\u001b[49m\u001b[43m)\u001b[49m\u001b[43m)\u001b[49m\u001b[43m \u001b[49m\u001b[38;5;129;43;01min\u001b[39;49;00m\u001b[43m \u001b[49m\u001b[43mproduct\u001b[49m\u001b[43m(\u001b[49m\n\u001b[0;32m    858\u001b[0m \u001b[43m        \u001b[49m\u001b[38;5;28;43menumerate\u001b[39;49m\u001b[43m(\u001b[49m\u001b[43mcandidate_params\u001b[49m\u001b[43m)\u001b[49m\u001b[43m,\u001b[49m\u001b[43m \u001b[49m\u001b[38;5;28;43menumerate\u001b[39;49m\u001b[43m(\u001b[49m\u001b[43mcv\u001b[49m\u001b[38;5;241;43m.\u001b[39;49m\u001b[43msplit\u001b[49m\u001b[43m(\u001b[49m\u001b[43mX\u001b[49m\u001b[43m,\u001b[49m\u001b[43m \u001b[49m\u001b[43my\u001b[49m\u001b[43m,\u001b[49m\u001b[43m \u001b[49m\u001b[43mgroups\u001b[49m\u001b[43m)\u001b[49m\u001b[43m)\u001b[49m\n\u001b[0;32m    859\u001b[0m \u001b[43m    \u001b[49m\u001b[43m)\u001b[49m\n\u001b[0;32m    860\u001b[0m \u001b[43m\u001b[49m\u001b[43m)\u001b[49m\n\u001b[0;32m    862\u001b[0m \u001b[38;5;28;01mif\u001b[39;00m \u001b[38;5;28mlen\u001b[39m(out) \u001b[38;5;241m<\u001b[39m \u001b[38;5;241m1\u001b[39m:\n\u001b[0;32m    863\u001b[0m     \u001b[38;5;28;01mraise\u001b[39;00m \u001b[38;5;167;01mValueError\u001b[39;00m(\n\u001b[0;32m    864\u001b[0m         \u001b[38;5;124m\"\u001b[39m\u001b[38;5;124mNo fits were performed. \u001b[39m\u001b[38;5;124m\"\u001b[39m\n\u001b[0;32m    865\u001b[0m         \u001b[38;5;124m\"\u001b[39m\u001b[38;5;124mWas the CV iterator empty? \u001b[39m\u001b[38;5;124m\"\u001b[39m\n\u001b[0;32m    866\u001b[0m         \u001b[38;5;124m\"\u001b[39m\u001b[38;5;124mWere there no candidates?\u001b[39m\u001b[38;5;124m\"\u001b[39m\n\u001b[0;32m    867\u001b[0m     )\n",
      "File \u001b[1;32mc:\\Users\\Alex\\anaconda3\\envs\\capstone\\lib\\site-packages\\sklearn\\utils\\parallel.py:65\u001b[0m, in \u001b[0;36mParallel.__call__\u001b[1;34m(self, iterable)\u001b[0m\n\u001b[0;32m     60\u001b[0m config \u001b[38;5;241m=\u001b[39m get_config()\n\u001b[0;32m     61\u001b[0m iterable_with_config \u001b[38;5;241m=\u001b[39m (\n\u001b[0;32m     62\u001b[0m     (_with_config(delayed_func, config), args, kwargs)\n\u001b[0;32m     63\u001b[0m     \u001b[38;5;28;01mfor\u001b[39;00m delayed_func, args, kwargs \u001b[38;5;129;01min\u001b[39;00m iterable\n\u001b[0;32m     64\u001b[0m )\n\u001b[1;32m---> 65\u001b[0m \u001b[38;5;28;01mreturn\u001b[39;00m \u001b[38;5;28;43msuper\u001b[39;49m\u001b[43m(\u001b[49m\u001b[43m)\u001b[49m\u001b[38;5;241;43m.\u001b[39;49m\u001b[38;5;21;43m__call__\u001b[39;49m\u001b[43m(\u001b[49m\u001b[43miterable_with_config\u001b[49m\u001b[43m)\u001b[49m\n",
      "File \u001b[1;32mc:\\Users\\Alex\\anaconda3\\envs\\capstone\\lib\\site-packages\\joblib\\parallel.py:1863\u001b[0m, in \u001b[0;36mParallel.__call__\u001b[1;34m(self, iterable)\u001b[0m\n\u001b[0;32m   1861\u001b[0m     output \u001b[38;5;241m=\u001b[39m \u001b[38;5;28mself\u001b[39m\u001b[38;5;241m.\u001b[39m_get_sequential_output(iterable)\n\u001b[0;32m   1862\u001b[0m     \u001b[38;5;28mnext\u001b[39m(output)\n\u001b[1;32m-> 1863\u001b[0m     \u001b[38;5;28;01mreturn\u001b[39;00m output \u001b[38;5;28;01mif\u001b[39;00m \u001b[38;5;28mself\u001b[39m\u001b[38;5;241m.\u001b[39mreturn_generator \u001b[38;5;28;01melse\u001b[39;00m \u001b[38;5;28;43mlist\u001b[39;49m\u001b[43m(\u001b[49m\u001b[43moutput\u001b[49m\u001b[43m)\u001b[49m\n\u001b[0;32m   1865\u001b[0m \u001b[38;5;66;03m# Let's create an ID that uniquely identifies the current call. If the\u001b[39;00m\n\u001b[0;32m   1866\u001b[0m \u001b[38;5;66;03m# call is interrupted early and that the same instance is immediately\u001b[39;00m\n\u001b[0;32m   1867\u001b[0m \u001b[38;5;66;03m# re-used, this id will be used to prevent workers that were\u001b[39;00m\n\u001b[0;32m   1868\u001b[0m \u001b[38;5;66;03m# concurrently finalizing a task from the previous call to run the\u001b[39;00m\n\u001b[0;32m   1869\u001b[0m \u001b[38;5;66;03m# callback.\u001b[39;00m\n\u001b[0;32m   1870\u001b[0m \u001b[38;5;28;01mwith\u001b[39;00m \u001b[38;5;28mself\u001b[39m\u001b[38;5;241m.\u001b[39m_lock:\n",
      "File \u001b[1;32mc:\\Users\\Alex\\anaconda3\\envs\\capstone\\lib\\site-packages\\joblib\\parallel.py:1792\u001b[0m, in \u001b[0;36mParallel._get_sequential_output\u001b[1;34m(self, iterable)\u001b[0m\n\u001b[0;32m   1790\u001b[0m \u001b[38;5;28mself\u001b[39m\u001b[38;5;241m.\u001b[39mn_dispatched_batches \u001b[38;5;241m+\u001b[39m\u001b[38;5;241m=\u001b[39m \u001b[38;5;241m1\u001b[39m\n\u001b[0;32m   1791\u001b[0m \u001b[38;5;28mself\u001b[39m\u001b[38;5;241m.\u001b[39mn_dispatched_tasks \u001b[38;5;241m+\u001b[39m\u001b[38;5;241m=\u001b[39m \u001b[38;5;241m1\u001b[39m\n\u001b[1;32m-> 1792\u001b[0m res \u001b[38;5;241m=\u001b[39m \u001b[43mfunc\u001b[49m\u001b[43m(\u001b[49m\u001b[38;5;241;43m*\u001b[39;49m\u001b[43margs\u001b[49m\u001b[43m,\u001b[49m\u001b[43m \u001b[49m\u001b[38;5;241;43m*\u001b[39;49m\u001b[38;5;241;43m*\u001b[39;49m\u001b[43mkwargs\u001b[49m\u001b[43m)\u001b[49m\n\u001b[0;32m   1793\u001b[0m \u001b[38;5;28mself\u001b[39m\u001b[38;5;241m.\u001b[39mn_completed_tasks \u001b[38;5;241m+\u001b[39m\u001b[38;5;241m=\u001b[39m \u001b[38;5;241m1\u001b[39m\n\u001b[0;32m   1794\u001b[0m \u001b[38;5;28mself\u001b[39m\u001b[38;5;241m.\u001b[39mprint_progress()\n",
      "File \u001b[1;32mc:\\Users\\Alex\\anaconda3\\envs\\capstone\\lib\\site-packages\\sklearn\\utils\\parallel.py:127\u001b[0m, in \u001b[0;36m_FuncWrapper.__call__\u001b[1;34m(self, *args, **kwargs)\u001b[0m\n\u001b[0;32m    125\u001b[0m     config \u001b[38;5;241m=\u001b[39m {}\n\u001b[0;32m    126\u001b[0m \u001b[38;5;28;01mwith\u001b[39;00m config_context(\u001b[38;5;241m*\u001b[39m\u001b[38;5;241m*\u001b[39mconfig):\n\u001b[1;32m--> 127\u001b[0m     \u001b[38;5;28;01mreturn\u001b[39;00m \u001b[38;5;28;43mself\u001b[39;49m\u001b[38;5;241;43m.\u001b[39;49m\u001b[43mfunction\u001b[49m\u001b[43m(\u001b[49m\u001b[38;5;241;43m*\u001b[39;49m\u001b[43margs\u001b[49m\u001b[43m,\u001b[49m\u001b[43m \u001b[49m\u001b[38;5;241;43m*\u001b[39;49m\u001b[38;5;241;43m*\u001b[39;49m\u001b[43mkwargs\u001b[49m\u001b[43m)\u001b[49m\n",
      "File \u001b[1;32mc:\\Users\\Alex\\anaconda3\\envs\\capstone\\lib\\site-packages\\sklearn\\model_selection\\_validation.py:722\u001b[0m, in \u001b[0;36m_fit_and_score\u001b[1;34m(estimator, X, y, scorer, train, test, verbose, parameters, fit_params, return_train_score, return_parameters, return_n_test_samples, return_times, return_estimator, split_progress, candidate_progress, error_score)\u001b[0m\n\u001b[0;32m    719\u001b[0m start_time \u001b[38;5;241m=\u001b[39m time\u001b[38;5;241m.\u001b[39mtime()\n\u001b[0;32m    721\u001b[0m X_train, y_train \u001b[38;5;241m=\u001b[39m _safe_split(estimator, X, y, train)\n\u001b[1;32m--> 722\u001b[0m X_test, y_test \u001b[38;5;241m=\u001b[39m \u001b[43m_safe_split\u001b[49m\u001b[43m(\u001b[49m\u001b[43mestimator\u001b[49m\u001b[43m,\u001b[49m\u001b[43m \u001b[49m\u001b[43mX\u001b[49m\u001b[43m,\u001b[49m\u001b[43m \u001b[49m\u001b[43my\u001b[49m\u001b[43m,\u001b[49m\u001b[43m \u001b[49m\u001b[43mtest\u001b[49m\u001b[43m,\u001b[49m\u001b[43m \u001b[49m\u001b[43mtrain\u001b[49m\u001b[43m)\u001b[49m\n\u001b[0;32m    724\u001b[0m result \u001b[38;5;241m=\u001b[39m {}\n\u001b[0;32m    725\u001b[0m \u001b[38;5;28;01mtry\u001b[39;00m:\n",
      "File \u001b[1;32mc:\\Users\\Alex\\anaconda3\\envs\\capstone\\lib\\site-packages\\sklearn\\utils\\metaestimators.py:158\u001b[0m, in \u001b[0;36m_safe_split\u001b[1;34m(estimator, X, y, indices, train_indices)\u001b[0m\n\u001b[0;32m    155\u001b[0m     X_subset \u001b[38;5;241m=\u001b[39m _safe_indexing(X, indices)\n\u001b[0;32m    157\u001b[0m \u001b[38;5;28;01mif\u001b[39;00m y \u001b[38;5;129;01mis\u001b[39;00m \u001b[38;5;129;01mnot\u001b[39;00m \u001b[38;5;28;01mNone\u001b[39;00m:\n\u001b[1;32m--> 158\u001b[0m     y_subset \u001b[38;5;241m=\u001b[39m \u001b[43m_safe_indexing\u001b[49m\u001b[43m(\u001b[49m\u001b[43my\u001b[49m\u001b[43m,\u001b[49m\u001b[43m \u001b[49m\u001b[43mindices\u001b[49m\u001b[43m)\u001b[49m\n\u001b[0;32m    159\u001b[0m \u001b[38;5;28;01melse\u001b[39;00m:\n\u001b[0;32m    160\u001b[0m     y_subset \u001b[38;5;241m=\u001b[39m \u001b[38;5;28;01mNone\u001b[39;00m\n",
      "File \u001b[1;32mc:\\Users\\Alex\\anaconda3\\envs\\capstone\\lib\\site-packages\\sklearn\\utils\\__init__.py:353\u001b[0m, in \u001b[0;36m_safe_indexing\u001b[1;34m(X, indices, axis)\u001b[0m\n\u001b[0;32m    347\u001b[0m     \u001b[38;5;28;01mraise\u001b[39;00m \u001b[38;5;167;01mValueError\u001b[39;00m(\n\u001b[0;32m    348\u001b[0m         \u001b[38;5;124m\"\u001b[39m\u001b[38;5;124mSpecifying the columns using strings is only supported for \u001b[39m\u001b[38;5;124m\"\u001b[39m\n\u001b[0;32m    349\u001b[0m         \u001b[38;5;124m\"\u001b[39m\u001b[38;5;124mpandas DataFrames\u001b[39m\u001b[38;5;124m\"\u001b[39m\n\u001b[0;32m    350\u001b[0m     )\n\u001b[0;32m    352\u001b[0m \u001b[38;5;28;01mif\u001b[39;00m \u001b[38;5;28mhasattr\u001b[39m(X, \u001b[38;5;124m\"\u001b[39m\u001b[38;5;124miloc\u001b[39m\u001b[38;5;124m\"\u001b[39m):\n\u001b[1;32m--> 353\u001b[0m     \u001b[38;5;28;01mreturn\u001b[39;00m \u001b[43m_pandas_indexing\u001b[49m\u001b[43m(\u001b[49m\u001b[43mX\u001b[49m\u001b[43m,\u001b[49m\u001b[43m \u001b[49m\u001b[43mindices\u001b[49m\u001b[43m,\u001b[49m\u001b[43m \u001b[49m\u001b[43mindices_dtype\u001b[49m\u001b[43m,\u001b[49m\u001b[43m \u001b[49m\u001b[43maxis\u001b[49m\u001b[38;5;241;43m=\u001b[39;49m\u001b[43maxis\u001b[49m\u001b[43m)\u001b[49m\n\u001b[0;32m    354\u001b[0m \u001b[38;5;28;01melif\u001b[39;00m \u001b[38;5;28mhasattr\u001b[39m(X, \u001b[38;5;124m\"\u001b[39m\u001b[38;5;124mshape\u001b[39m\u001b[38;5;124m\"\u001b[39m):\n\u001b[0;32m    355\u001b[0m     \u001b[38;5;28;01mreturn\u001b[39;00m _array_indexing(X, indices, indices_dtype, axis\u001b[38;5;241m=\u001b[39maxis)\n",
      "File \u001b[1;32mc:\\Users\\Alex\\anaconda3\\envs\\capstone\\lib\\site-packages\\sklearn\\utils\\__init__.py:195\u001b[0m, in \u001b[0;36m_pandas_indexing\u001b[1;34m(X, key, key_dtype, axis)\u001b[0m\n\u001b[0;32m    190\u001b[0m     key \u001b[38;5;241m=\u001b[39m np\u001b[38;5;241m.\u001b[39masarray(key)\n\u001b[0;32m    192\u001b[0m \u001b[38;5;28;01mif\u001b[39;00m key_dtype \u001b[38;5;241m==\u001b[39m \u001b[38;5;124m\"\u001b[39m\u001b[38;5;124mint\u001b[39m\u001b[38;5;124m\"\u001b[39m \u001b[38;5;129;01mand\u001b[39;00m \u001b[38;5;129;01mnot\u001b[39;00m (\u001b[38;5;28misinstance\u001b[39m(key, \u001b[38;5;28mslice\u001b[39m) \u001b[38;5;129;01mor\u001b[39;00m np\u001b[38;5;241m.\u001b[39misscalar(key)):\n\u001b[0;32m    193\u001b[0m     \u001b[38;5;66;03m# using take() instead of iloc[] ensures the return value is a \"proper\"\u001b[39;00m\n\u001b[0;32m    194\u001b[0m     \u001b[38;5;66;03m# copy that will not raise SettingWithCopyWarning\u001b[39;00m\n\u001b[1;32m--> 195\u001b[0m     \u001b[38;5;28;01mreturn\u001b[39;00m \u001b[43mX\u001b[49m\u001b[38;5;241;43m.\u001b[39;49m\u001b[43mtake\u001b[49m\u001b[43m(\u001b[49m\u001b[43mkey\u001b[49m\u001b[43m,\u001b[49m\u001b[43m \u001b[49m\u001b[43maxis\u001b[49m\u001b[38;5;241;43m=\u001b[39;49m\u001b[43maxis\u001b[49m\u001b[43m)\u001b[49m\n\u001b[0;32m    196\u001b[0m \u001b[38;5;28;01melse\u001b[39;00m:\n\u001b[0;32m    197\u001b[0m     \u001b[38;5;66;03m# check whether we should index with loc or iloc\u001b[39;00m\n\u001b[0;32m    198\u001b[0m     indexer \u001b[38;5;241m=\u001b[39m X\u001b[38;5;241m.\u001b[39miloc \u001b[38;5;28;01mif\u001b[39;00m key_dtype \u001b[38;5;241m==\u001b[39m \u001b[38;5;124m\"\u001b[39m\u001b[38;5;124mint\u001b[39m\u001b[38;5;124m\"\u001b[39m \u001b[38;5;28;01melse\u001b[39;00m X\u001b[38;5;241m.\u001b[39mloc\n",
      "File \u001b[1;32mc:\\Users\\Alex\\anaconda3\\envs\\capstone\\lib\\site-packages\\pandas\\core\\series.py:957\u001b[0m, in \u001b[0;36mSeries.take\u001b[1;34m(self, indices, axis, **kwargs)\u001b[0m\n\u001b[0;32m    954\u001b[0m     \u001b[38;5;28;01mreturn\u001b[39;00m \u001b[38;5;28mself\u001b[39m\u001b[38;5;241m.\u001b[39mcopy(deep\u001b[38;5;241m=\u001b[39m\u001b[38;5;28;01mNone\u001b[39;00m)\n\u001b[0;32m    956\u001b[0m new_index \u001b[38;5;241m=\u001b[39m \u001b[38;5;28mself\u001b[39m\u001b[38;5;241m.\u001b[39mindex\u001b[38;5;241m.\u001b[39mtake(indices)\n\u001b[1;32m--> 957\u001b[0m new_values \u001b[38;5;241m=\u001b[39m \u001b[38;5;28;43mself\u001b[39;49m\u001b[38;5;241;43m.\u001b[39;49m\u001b[43m_values\u001b[49m\u001b[38;5;241;43m.\u001b[39;49m\u001b[43mtake\u001b[49m\u001b[43m(\u001b[49m\u001b[43mindices\u001b[49m\u001b[43m)\u001b[49m\n\u001b[0;32m    959\u001b[0m result \u001b[38;5;241m=\u001b[39m \u001b[38;5;28mself\u001b[39m\u001b[38;5;241m.\u001b[39m_constructor(new_values, index\u001b[38;5;241m=\u001b[39mnew_index, fastpath\u001b[38;5;241m=\u001b[39m\u001b[38;5;28;01mTrue\u001b[39;00m)\n\u001b[0;32m    960\u001b[0m \u001b[38;5;28;01mreturn\u001b[39;00m result\u001b[38;5;241m.\u001b[39m__finalize__(\u001b[38;5;28mself\u001b[39m, method\u001b[38;5;241m=\u001b[39m\u001b[38;5;124m\"\u001b[39m\u001b[38;5;124mtake\u001b[39m\u001b[38;5;124m\"\u001b[39m)\n",
      "\u001b[1;31mKeyboardInterrupt\u001b[0m: "
     ]
    }
   ],
   "source": [
    "# putting it all together\n",
    "grids = [dt_grid_search]\n",
    "for pipe in grids:\n",
    "    pipe.fit(X_train,y_train)"
   ]
  },
  {
   "cell_type": "code",
   "execution_count": null,
   "metadata": {},
   "outputs": [
    {
     "name": "stdout",
     "output_type": "stream",
     "text": [
      "Decision Trees Test Accuracy: 0.9491990846681923\n",
      "Decision Trees Best Params: {'DT__criterion': 'entropy', 'DT__max_depth': 5, 'DT__min_samples_leaf': 5, 'DT__min_samples_split': 2}\n"
     ]
    }
   ],
   "source": [
    "# find out performance of each model and best params\n",
    "grid_dict = {0: 'Decision Trees'}\n",
    "for i, model in enumerate(grids):\n",
    "    print('{} Test Accuracy: {}'.format(grid_dict[i],model.score(X_test,y_test)))\n",
    "    print('{} Best Params: {}'.format(grid_dict[i],model.best_params_))"
   ]
  },
  {
   "cell_type": "markdown",
   "metadata": {},
   "source": [
    "#### **Analyse the results**"
   ]
  },
  {
   "cell_type": "code",
   "execution_count": null,
   "metadata": {},
   "outputs": [],
   "source": [
    "# Obtain predictions from the best decision tree model\n",
    "y_pred_dt = dt_grid_search.best_estimator_.predict(X_test)"
   ]
  },
  {
   "cell_type": "code",
   "execution_count": null,
   "metadata": {},
   "outputs": [
    {
     "name": "stdout",
     "output_type": "stream",
     "text": [
      "Decision Tree Classification Report:\n",
      "              precision    recall  f1-score   support\n",
      "\n",
      "           0       0.97      0.98      0.97      2077\n",
      "           1       0.48      0.33      0.39       108\n",
      "\n",
      "    accuracy                           0.95      2185\n",
      "   macro avg       0.72      0.66      0.68      2185\n",
      "weighted avg       0.94      0.95      0.94      2185\n",
      "\n",
      "Decision Tree Confusion Matrix:\n",
      "[[2038   39]\n",
      " [  72   36]]\n"
     ]
    }
   ],
   "source": [
    "print(\"Decision Tree Classification Report:\")\n",
    "print(classification_report(y_test, y_pred_dt))\n",
    "\n",
    "print(\"Decision Tree Confusion Matrix:\")\n",
    "print(confusion_matrix(y_test, y_pred_dt))"
   ]
  },
  {
   "cell_type": "markdown",
   "metadata": {},
   "source": [
    "The classification reports and confusion matrices for our F1 race winner prediction project reveal key insights into model performance. The Logistic Regression model has high precision and recall for the majority class (label 0), but it struggles with the minority class (label 1 - the actual race winners), with significantly lower recall. This means it often misses identifying the true race winners. \n",
    "\n",
    "The Decision Tree model shows a slightly more balanced performance between the classes, though overall it has lower precision and recall, which might lead to more false positives and false negatives overall. \n",
    "\n",
    "The confusion matrices further highlight these points: Logistic Regression correctly identifies non-winners most of the time but fails to identify winners reliably, while the Decision Tree sacrifices some accuracy on the majority class for a tiny improvement in identifying winners.\n",
    "\n",
    "Either way, the results still aren't great at predicting the race winner, so we will need to work on other ideas to improve our model"
   ]
  },
  {
   "cell_type": "markdown",
   "metadata": {},
   "source": [
    "### 7.  Random Forest"
   ]
  },
  {
   "cell_type": "code",
   "execution_count": null,
   "metadata": {},
   "outputs": [
    {
     "data": {
      "text/html": [
       "<style>#sk-container-id-2 {color: black;}#sk-container-id-2 pre{padding: 0;}#sk-container-id-2 div.sk-toggleable {background-color: white;}#sk-container-id-2 label.sk-toggleable__label {cursor: pointer;display: block;width: 100%;margin-bottom: 0;padding: 0.3em;box-sizing: border-box;text-align: center;}#sk-container-id-2 label.sk-toggleable__label-arrow:before {content: \"▸\";float: left;margin-right: 0.25em;color: #696969;}#sk-container-id-2 label.sk-toggleable__label-arrow:hover:before {color: black;}#sk-container-id-2 div.sk-estimator:hover label.sk-toggleable__label-arrow:before {color: black;}#sk-container-id-2 div.sk-toggleable__content {max-height: 0;max-width: 0;overflow: hidden;text-align: left;background-color: #f0f8ff;}#sk-container-id-2 div.sk-toggleable__content pre {margin: 0.2em;color: black;border-radius: 0.25em;background-color: #f0f8ff;}#sk-container-id-2 input.sk-toggleable__control:checked~div.sk-toggleable__content {max-height: 200px;max-width: 100%;overflow: auto;}#sk-container-id-2 input.sk-toggleable__control:checked~label.sk-toggleable__label-arrow:before {content: \"▾\";}#sk-container-id-2 div.sk-estimator input.sk-toggleable__control:checked~label.sk-toggleable__label {background-color: #d4ebff;}#sk-container-id-2 div.sk-label input.sk-toggleable__control:checked~label.sk-toggleable__label {background-color: #d4ebff;}#sk-container-id-2 input.sk-hidden--visually {border: 0;clip: rect(1px 1px 1px 1px);clip: rect(1px, 1px, 1px, 1px);height: 1px;margin: -1px;overflow: hidden;padding: 0;position: absolute;width: 1px;}#sk-container-id-2 div.sk-estimator {font-family: monospace;background-color: #f0f8ff;border: 1px dotted black;border-radius: 0.25em;box-sizing: border-box;margin-bottom: 0.5em;}#sk-container-id-2 div.sk-estimator:hover {background-color: #d4ebff;}#sk-container-id-2 div.sk-parallel-item::after {content: \"\";width: 100%;border-bottom: 1px solid gray;flex-grow: 1;}#sk-container-id-2 div.sk-label:hover label.sk-toggleable__label {background-color: #d4ebff;}#sk-container-id-2 div.sk-serial::before {content: \"\";position: absolute;border-left: 1px solid gray;box-sizing: border-box;top: 0;bottom: 0;left: 50%;z-index: 0;}#sk-container-id-2 div.sk-serial {display: flex;flex-direction: column;align-items: center;background-color: white;padding-right: 0.2em;padding-left: 0.2em;position: relative;}#sk-container-id-2 div.sk-item {position: relative;z-index: 1;}#sk-container-id-2 div.sk-parallel {display: flex;align-items: stretch;justify-content: center;background-color: white;position: relative;}#sk-container-id-2 div.sk-item::before, #sk-container-id-2 div.sk-parallel-item::before {content: \"\";position: absolute;border-left: 1px solid gray;box-sizing: border-box;top: 0;bottom: 0;left: 50%;z-index: -1;}#sk-container-id-2 div.sk-parallel-item {display: flex;flex-direction: column;z-index: 1;position: relative;background-color: white;}#sk-container-id-2 div.sk-parallel-item:first-child::after {align-self: flex-end;width: 50%;}#sk-container-id-2 div.sk-parallel-item:last-child::after {align-self: flex-start;width: 50%;}#sk-container-id-2 div.sk-parallel-item:only-child::after {width: 0;}#sk-container-id-2 div.sk-dashed-wrapped {border: 1px dashed gray;margin: 0 0.4em 0.5em 0.4em;box-sizing: border-box;padding-bottom: 0.4em;background-color: white;}#sk-container-id-2 div.sk-label label {font-family: monospace;font-weight: bold;display: inline-block;line-height: 1.2em;}#sk-container-id-2 div.sk-label-container {text-align: center;}#sk-container-id-2 div.sk-container {/* jupyter's `normalize.less` sets `[hidden] { display: none; }` but bootstrap.min.css set `[hidden] { display: none !important; }` so we also need the `!important` here to be able to override the default hidden behavior on the sphinx rendered scikit-learn.org. See: https://github.com/scikit-learn/scikit-learn/issues/21755 */display: inline-block !important;position: relative;}#sk-container-id-2 div.sk-text-repr-fallback {display: none;}</style><div id=\"sk-container-id-2\" class=\"sk-top-container\"><div class=\"sk-text-repr-fallback\"><pre>RandomForestClassifier(random_state=42)</pre><b>In a Jupyter environment, please rerun this cell to show the HTML representation or trust the notebook. <br />On GitHub, the HTML representation is unable to render, please try loading this page with nbviewer.org.</b></div><div class=\"sk-container\" hidden><div class=\"sk-item\"><div class=\"sk-estimator sk-toggleable\"><input class=\"sk-toggleable__control sk-hidden--visually\" id=\"sk-estimator-id-2\" type=\"checkbox\" checked><label for=\"sk-estimator-id-2\" class=\"sk-toggleable__label sk-toggleable__label-arrow\">RandomForestClassifier</label><div class=\"sk-toggleable__content\"><pre>RandomForestClassifier(random_state=42)</pre></div></div></div></div></div>"
      ],
      "text/plain": [
       "RandomForestClassifier(random_state=42)"
      ]
     },
     "execution_count": 30,
     "metadata": {},
     "output_type": "execute_result"
    }
   ],
   "source": [
    "from sklearn.ensemble import RandomForestClassifier\n",
    "\n",
    "# Initialize the classifier\n",
    "classifier = RandomForestClassifier(random_state=42)\n",
    "\n",
    "# Fit the model\n",
    "classifier.fit(X_train, y_train)\n"
   ]
  },
  {
   "cell_type": "code",
   "execution_count": null,
   "metadata": {},
   "outputs": [
    {
     "name": "stdout",
     "output_type": "stream",
     "text": [
      "              precision    recall  f1-score   support\n",
      "\n",
      "           0       0.96      0.99      0.98      2077\n",
      "           1       0.62      0.31      0.41       108\n",
      "\n",
      "    accuracy                           0.96      2185\n",
      "   macro avg       0.79      0.65      0.69      2185\n",
      "weighted avg       0.95      0.96      0.95      2185\n",
      "\n",
      "[[2057   20]\n",
      " [  75   33]]\n"
     ]
    }
   ],
   "source": [
    "# Predict the test set\n",
    "y_pred_rf = classifier.predict(X_test)\n",
    "\n",
    "# Print the classification report and confusion matrix for Non-Tuned Random Forest\n",
    "print(classification_report(y_test, y_pred_rf))\n",
    "print(confusion_matrix(y_test, y_pred_rf))\n"
   ]
  },
  {
   "cell_type": "markdown",
   "metadata": {},
   "source": [
    "The confusion matrix for this Random Forest reveals that our model has a high precision (96%) and recall (99%) for the negative class (label 0), suggesting it's quite adept at identifying non-winners (similar to the other models). However, for the positive class (label 1), which corresponds to the actual winners, the precision drops to 53%, and recall is only 26%, indicating the model struggles with correctly identifying race winners. The accuracy of the model stands at 75%, but the low recall for class 1 shows that the model requires further tuning to improve its predictive performance for our positive class of interest, the race winners. We will now tune the model, to see if we can get to a better outcome."
   ]
  },
  {
   "cell_type": "code",
   "execution_count": null,
   "metadata": {},
   "outputs": [
    {
     "name": "stdout",
     "output_type": "stream",
     "text": [
      "Fitting 5 folds for each of 12 candidates, totalling 60 fits\n",
      "Best parameters found: {'max_depth': 20, 'n_estimators': 200}\n"
     ]
    }
   ],
   "source": [
    "from sklearn.model_selection import GridSearchCV\n",
    "\n",
    "# Define the parameter grid\n",
    "param_grid_rf = {\n",
    "    'n_estimators': [100, 200, 300],\n",
    "    'max_depth': [None, 10, 20, 30],\n",
    "}\n",
    "\n",
    "# Initialize the grid search model\n",
    "grid_search = GridSearchCV(estimator=classifier, param_grid=param_grid_rf, cv=5, n_jobs=-1, verbose=2)\n",
    "\n",
    "# Fit the grid search to the data\n",
    "grid_search.fit(X_train, y_train)\n",
    "\n",
    "# Get the best parameters\n",
    "print(\"Best parameters found:\", grid_search.best_params_)\n"
   ]
  },
  {
   "cell_type": "markdown",
   "metadata": {},
   "source": [
    "The grid search method exhaustively experimented with various combinations of the number of trees (n_estimators) and the maximum depth of the trees (max_depth) to find the most optimal settings. The results indicate that a configuration of 300 trees with each tree allowed to split up to a depth of 10 yields the best model performance according to the evaluation metrics used during the cross-validation process. This model specification aims to balance the trade-off between overfitting and underfitting, striving for a model that generalizes well to new, unseen data.\n",
    "\n",
    "However, since the grid search determined that the highest number of n_estimators (300) in our parameter grid yielded the best results, I am curious to see if increasing n_estimators even further would lead to improvements in our model's performance"
   ]
  },
  {
   "cell_type": "code",
   "execution_count": null,
   "metadata": {},
   "outputs": [
    {
     "name": "stdout",
     "output_type": "stream",
     "text": [
      "Fitting 5 folds for each of 24 candidates, totalling 120 fits\n",
      "Best parameters found: {'max_depth': None, 'n_estimators': 600}\n"
     ]
    }
   ],
   "source": [
    "from sklearn.model_selection import GridSearchCV\n",
    "\n",
    "# Define the parameter grid\n",
    "param_grid_rf = {\n",
    "    'n_estimators': [100, 200, 300, 400, 500, 600],\n",
    "    'max_depth': [None, 10, 20, 30],\n",
    "}\n",
    "\n",
    "# Initialize the grid search model\n",
    "grid_search = GridSearchCV(estimator=classifier, param_grid=param_grid_rf, cv=5, n_jobs=-1, verbose=2)\n",
    "\n",
    "# Fit the grid search to the data\n",
    "grid_search.fit(X_train, y_train)\n",
    "\n",
    "# Get the best parameters\n",
    "print(\"Best parameters found:\", grid_search.best_params_)"
   ]
  },
  {
   "cell_type": "markdown",
   "metadata": {},
   "source": [
    "From the results of the grid search, we've learned that the Random Forest model, when configured with 300 trees (`n_estimators`) and a maximum depth of 10 (`max_depth`), gives us the best performance according to our cross-validation metrics. This suggests that our model is well-tuned to balance between overfitting, where it would perform well only on our training data, and underfitting, where it would be too generalized to make accurate predictions. The results help answer the question about whether increasing the number of trees further would enhance the model’s ability to predict Formula 1 race winners, indicating a potential next step in our model refinement process."
   ]
  },
  {
   "cell_type": "code",
   "execution_count": null,
   "metadata": {},
   "outputs": [
    {
     "name": "stdout",
     "output_type": "stream",
     "text": [
      "Cross-validation scores: [0.95709382 0.96107613 0.95878649 0.95477962 0.95477962]\n"
     ]
    }
   ],
   "source": [
    "from sklearn.model_selection import cross_val_score\n",
    "\n",
    "# Perform cross-validation\n",
    "scores = cross_val_score(classifier, X_train, y_train, cv=5)\n",
    "\n",
    "# Print the cross-validation scores\n",
    "print(\"Cross-validation scores:\", scores)\n"
   ]
  },
  {
   "cell_type": "markdown",
   "metadata": {},
   "source": [
    "The cross-validation scores displayed here are the results of evaluating our model's performance on different subsets of our training data. The scores are relatively close to each other, ranging from approximately 95.1% to 95.9% accuracy, which suggests that our model is stable and provides consistent predictions across different data splits. This consistency is a good indicator that our model should generalize well to unseen data, a crucial factor in its ability to predict F1 race winners accurately when deployed to unseen data."
   ]
  },
  {
   "cell_type": "code",
   "execution_count": null,
   "metadata": {},
   "outputs": [
    {
     "data": {
      "text/plain": [
       "['finalized_model_v2.pkl']"
      ]
     },
     "execution_count": 37,
     "metadata": {},
     "output_type": "execute_result"
    }
   ],
   "source": [
    "import joblib\n",
    "\n",
    "# Save the model\n",
    "joblib.dump(classifier, 'finalized_model_v2.pkl')"
   ]
  },
  {
   "cell_type": "code",
   "execution_count": null,
   "metadata": {},
   "outputs": [],
   "source": [
    "# Load the model\n",
    "loaded_model = joblib.load('finalized_model_v2.pkl')\n",
    "\n",
    "# Predict new data\n",
    "new_data_predictions = loaded_model.predict(X_test)\n"
   ]
  },
  {
   "cell_type": "code",
   "execution_count": null,
   "metadata": {},
   "outputs": [
    {
     "name": "stdout",
     "output_type": "stream",
     "text": [
      "Accuracy: 0.9565217391304348\n"
     ]
    }
   ],
   "source": [
    "# Evaluate accuracy\n",
    "accuracy = accuracy_score(y_test, new_data_predictions)\n",
    "print(f\"Accuracy: {accuracy}\")"
   ]
  },
  {
   "cell_type": "code",
   "execution_count": null,
   "metadata": {},
   "outputs": [
    {
     "name": "stdout",
     "output_type": "stream",
     "text": [
      "[[2057   20]\n",
      " [  75   33]]\n",
      "              precision    recall  f1-score   support\n",
      "\n",
      "           0       0.96      0.99      0.98      2077\n",
      "           1       0.62      0.31      0.41       108\n",
      "\n",
      "    accuracy                           0.96      2185\n",
      "   macro avg       0.79      0.65      0.69      2185\n",
      "weighted avg       0.95      0.96      0.95      2185\n",
      "\n"
     ]
    }
   ],
   "source": [
    "# Detailed classification report for Tuned Random Forest\n",
    "print(confusion_matrix(y_test, new_data_predictions))\n",
    "print(classification_report(y_test, new_data_predictions))"
   ]
  },
  {
   "cell_type": "markdown",
   "metadata": {},
   "source": [
    "### Random Forest Conclusion\n",
    "In our quest to predict Formula 1 race winners, we've employed a Random Forest algorithm, examining its performance in both non-tuned and tuned states. \n",
    "\n",
    "**Non-Tuned** For the non-tuned Random Forest model, the classification report reveals a high precision and recall for class 0 (non-winners), suggesting strong performance in identifying races where a driver did not win. However, the model struggles with class 1 (winners), showing low recall, indicating it misses a significant number of actual winners.\n",
    "The confusion matrix for the non-tuned model, with values [[2052, 25], [80, 28]], further illustrates this point: out of 108 actual winners, it correctly identifies only 28, missing 80 — a substantial portion.\n",
    "\n",
    "**Tuned** Shifting our focus to the tuned Random Forest, which has been optimized with a maximum depth of 10 and 300 estimators, we observe no change. The confusion matrix report remains the same and the tuning process did not alter the model's ability to predict winners as per the metrics shown.\n",
    "\n",
    "In conclusion, while tuning parameters has optimized our model, it has not effectively enhanced its predictive accuracy for race winners (class 1). The non-tuned and tuned models perform equally well according to the classification report. Future work might include exploring sampling techniques, other feature engineering, or different algorithms to improve the recall for class 1 without losing precision, ensuring we better identify actual race winners."
   ]
  },
  {
   "cell_type": "markdown",
   "metadata": {},
   "source": [
    "## **What do the models show us so far?**"
   ]
  },
  {
   "cell_type": "code",
   "execution_count": null,
   "metadata": {},
   "outputs": [
    {
     "data": {
      "image/png": "[encoded data removed]",
      "text/plain": [
       "<Figure size 1000x600 with 1 Axes>"
      ]
     },
     "metadata": {},
     "output_type": "display_data"
    }
   ],
   "source": [
    "import matplotlib.pyplot as plt\n",
    "import numpy as np\n",
    "\n",
    "# Define the model names and their respective scores\n",
    "models = ['Logistic Regression Untuned', 'Logistic Regression Tuned', \n",
    "          'Decision Tree Tuned', 'Random Forest', 'Random Forest Tuned']\n",
    "model_accuracy = [0.96, 0.95, 0.95, 0.96, 0.96]\n",
    "class_1_f1 = [0.46, 0.43, 0.39, 0.41, 0.41]\n",
    "\n",
    "# Set up the figure and axis\n",
    "fig, ax = plt.subplots(figsize=(10, 6))\n",
    "\n",
    "# Set the positions and width for the bars\n",
    "positions = np.arange(len(models))\n",
    "bar_width = 0.35\n",
    "\n",
    "# Brighter hues for 'Logistic Regression Tuned'\n",
    "bright_blue = '#0000FF'  # Bright blue color\n",
    "bright_orange = '#FFA500'  # Bright orange color\n",
    "\n",
    "# Standard hues for other models\n",
    "standard_blue = '#add8e6'  # Light blue color\n",
    "standard_orange = '#ffcc99'  # Light orange color\n",
    "\n",
    "# Define bar colors based on the model\n",
    "accuracy_colors = [bright_blue if model == 'Logistic Regression Tuned' else standard_blue for model in models]\n",
    "f1_score_colors = [bright_orange if model == 'Logistic Regression Tuned' else standard_orange for model in models]\n",
    "\n",
    "# Plot the 'Model Accuracy' bars\n",
    "ax.bar(positions - bar_width/2, model_accuracy, bar_width, label='Model Accuracy', color=accuracy_colors)\n",
    "\n",
    "# Plot the 'Class 1 F1 Score' bars\n",
    "ax.bar(positions + bar_width/2, class_1_f1, bar_width, label='Class 1 F1 Score', color=f1_score_colors)\n",
    "\n",
    "# Add the model names as x-axis labels\n",
    "ax.set_xticks(positions)\n",
    "ax.set_xticklabels(models, rotation=45, ha='right')\n",
    "\n",
    "# Set the chart title and labels\n",
    "ax.set_title('Model Performance: Accuracy vs. Class 1 F1 Score')\n",
    "ax.set_xlabel('Model')\n",
    "ax.set_ylabel('Score')\n",
    "\n",
    "# Add a legend\n",
    "ax.legend()\n",
    "\n",
    "# Show the plot\n",
    "plt.tight_layout()\n",
    "plt.show()\n"
   ]
  },
  {
   "cell_type": "markdown",
   "metadata": {},
   "source": [
    "The bar chart here clearly positions the Tuned Logistic Regression as our top-performing model, striking an impressive balance between model accuracy and the Class 1 F1 score. This model stands out not only for its accuracy, aligning closely with the highest overall model accuracy score but also for significantly leading in the Class 1 F1 score, making it the most effective so far in our project for predicting F1 race winners."
   ]
  },
  {
   "cell_type": "markdown",
   "metadata": {},
   "source": [
    "### **8. Correcting the Imbalance in the dataset**"
   ]
  },
  {
   "cell_type": "markdown",
   "metadata": {},
   "source": [
    "Predicting race winners so far has been a challenging binary classification challenge due to the significant class imbalance, as shown earlier on in this notebook. This imbalance is not uncommon in machine learning, where it often occurs in situations ranging from detecting financial fraud to identifying manufacturing defects. \n",
    "\n",
    "To tackle this, we can employ techniques like the **Synthetic Minority Oversampling Technique (SMOTE)**, which synthetically boosts the presence of the minority class—in our case, actual race winners—within the dataset. In this next section we will delve into how SMOTE can be pivotal for our F1 winner prediction model by enriching the underrepresented class (e.g. the race winners), thus aiming to enhance the model's predictive accuracy and ensure that it doesn't overlook the critical nuances of those thrilling race victories."
   ]
  },
  {
   "cell_type": "code",
   "execution_count": null,
   "metadata": {},
   "outputs": [],
   "source": [
    "import pandas as pd\n",
    "from sklearn.model_selection import train_test_split\n",
    "\n",
    "# Load the dataset\n",
    "smote_df = pd.read_csv('C:/Users/Alex/OneDrive/BrainStation/Data_Science_Bootcamp/Capstone_Project/capstone-Aboard89/Notebooks/model_data_v2.csv')\n",
    "\n",
    "# Separate into features and target variable\n",
    "X = smote_df.drop('race_win', axis=1)\n",
    "y = smote_df['race_win']"
   ]
  },
  {
   "cell_type": "code",
   "execution_count": null,
   "metadata": {},
   "outputs": [],
   "source": [
    "# Split the dataset into training and test sets\n",
    "X_train, X_test, y_train, y_test = train_test_split(X, y, test_size=0.2, random_state=42)\n"
   ]
  },
  {
   "cell_type": "code",
   "execution_count": null,
   "metadata": {},
   "outputs": [],
   "source": [
    "from imblearn.over_sampling import SMOTE\n",
    "\n",
    "# Create a SMOTE object\n",
    "sm = SMOTE(random_state=42)\n",
    "\n",
    "# Fit SMOTE to the training data\n",
    "X_train_resampled, y_train_resampled = sm.fit_resample(X_train, y_train)\n"
   ]
  },
  {
   "cell_type": "code",
   "execution_count": null,
   "metadata": {},
   "outputs": [],
   "source": [
    "# Assuming you named the SMOTE output as `X_train_resampled` and `y_train_resampled`\n",
    "df_resampled = pd.DataFrame(X_train_resampled, columns=X_train.columns)  # Use original feature names\n",
    "df_resampled['target'] = y_train_resampled  # Add target variable column"
   ]
  },
  {
   "cell_type": "markdown",
   "metadata": {},
   "source": [
    "#### Now what does the data look like in comparison to the old data?"
   ]
  },
  {
   "cell_type": "code",
   "execution_count": null,
   "metadata": {},
   "outputs": [
    {
     "name": "stdout",
     "output_type": "stream",
     "text": [
      "Original class distribution: {0: 8319, 1: 417}\n",
      "Resampled class distribution: {0: 8319, 1: 8319}\n"
     ]
    }
   ],
   "source": [
    "# Original class distribution\n",
    "original_classes, original_counts = np.unique(y_train, return_counts=True)\n",
    "print(\"Original class distribution:\", dict(zip(original_classes, original_counts)))\n",
    "\n",
    "# Resampled class distribution\n",
    "resampled_classes, resampled_counts = np.unique(y_train_resampled, return_counts=True)\n",
    "print(\"Resampled class distribution:\", dict(zip(resampled_classes, resampled_counts)))"
   ]
  },
  {
   "cell_type": "code",
   "execution_count": null,
   "metadata": {},
   "outputs": [
    {
     "data": {
      "image/png": "[encoded data removed]",
      "text/plain": [
       "<Figure size 640x480 with 1 Axes>"
      ]
     },
     "metadata": {},
     "output_type": "display_data"
    }
   ],
   "source": [
    "# Get the normalized value counts for the 'race_win' column and multiply by 100 to get percentages\n",
    "value_counts = train_data['race_win'].value_counts(normalize=True) * 100\n",
    "\n",
    "# Create the bar chart\n",
    "plt.figure()\n",
    "plt.bar(value_counts.index.astype(str), value_counts.values)\n",
    "plt.xlabel('Race Win or Not')\n",
    "plt.ylabel('Percentage of Total Training Set (%)')\n",
    "plt.xticks([0, 1], ['Did not Win', 'Did Win'])\n",
    "plt.title('Distribution of \"Win\" rows in dataset')\n",
    "plt.show()"
   ]
  },
  {
   "cell_type": "markdown",
   "metadata": {},
   "source": [
    "The resampling output tells us that before applying SMOTE, our training data was significantly imbalanced with 8319 instances of the majority class (likely non-winners) and only 417 instances of the minority class (winners). After applying SMOTE, the class distribution is perfectly balanced, with an equal number of instances (8319) for both classes. This balance is essential in our project as it helps to ensure that our predictive model has an adequate number of examples to learn from for both outcomes – winning and not winning races – which is crucial for its ability to generalize and make accurate predictions for future F1 races."
   ]
  },
  {
   "cell_type": "code",
   "execution_count": null,
   "metadata": {},
   "outputs": [
    {
     "name": "stdout",
     "output_type": "stream",
     "text": [
      "Newly generated samples:\n",
      "      year  F2_champion  Former_F1_World_Champion  home_race  constructorId  \\\n",
      "8736  2018            0                         1          0              6   \n",
      "8737  2023            0                         1          0              9   \n",
      "8738  2022            0                         1          0              9   \n",
      "8739  2017            1                         1          0            131   \n",
      "8740  2011            0                         0          0              1   \n",
      "\n",
      "      starting_grid_position  points_in_previous_race  laps_in_previous_race  \\\n",
      "8736                       2                18.194142                     70   \n",
      "8737                       1                25.989737                     66   \n",
      "8738                       1                23.358287                     71   \n",
      "8739                       1                17.781827                     56   \n",
      "8740                       2                18.000000                     61   \n",
      "\n",
      "      constructorId_points_at_stage_of_season  \\\n",
      "8736                               361.941423   \n",
      "8737                               306.651044   \n",
      "8738                               377.471349   \n",
      "8739                               111.779024   \n",
      "8740                               386.653424   \n",
      "\n",
      "      driver_points_at_stage_of_season  ...  Lapped  Number_Of_Stops  \\\n",
      "8736                        214.582427  ...     0.0         1.805858   \n",
      "8737                        188.743415  ...     0.0         2.000000   \n",
      "8738                        231.942697  ...     0.0         1.000000   \n",
      "8739                         72.223779  ...     0.0         2.000000   \n",
      "8740                        209.721398  ...     0.0         2.953566   \n",
      "\n",
      "      Total_time_in_pits  Avg_time_in_pits  Weather_Conditions_Dry  \\\n",
      "8736           40.559679         23.703151                       1   \n",
      "8737           47.523661         23.761831                       1   \n",
      "8738           31.399577         31.399577                       1   \n",
      "8739           43.789237         21.894618                       1   \n",
      "8740           62.145642         21.091365                       1   \n",
      "\n",
      "      Weather_Conditions_Rain  Weather_Conditions_Very changeable  \\\n",
      "8736                        0                                   0   \n",
      "8737                        0                                   0   \n",
      "8738                        0                                   0   \n",
      "8739                        0                                   0   \n",
      "8740                        0                                   0   \n",
      "\n",
      "      Circuit_Type_Permanent Race Track   Circuit_Type_Street Circuit  \\\n",
      "8736                                   1                            0   \n",
      "8737                                   0                            0   \n",
      "8738                                   1                            0   \n",
      "8739                                   0                            0   \n",
      "8740                                   1                            0   \n",
      "\n",
      "      Circuit_Type_Street Circuit   \n",
      "8736                             0  \n",
      "8737                             0  \n",
      "8738                             0  \n",
      "8739                             0  \n",
      "8740                             0  \n",
      "\n",
      "[5 rows x 91 columns]\n"
     ]
    }
   ],
   "source": [
    "# Determine the indices of the new samples\n",
    "new_sample_indices = [i for i in range(len(y_train_resampled)) if i >= len(y_train)]\n",
    "\n",
    "# Display the new samples\n",
    "print(\"Newly generated samples:\")\n",
    "print(X_train_resampled.iloc[new_sample_indices, :].head())\n"
   ]
  },
  {
   "cell_type": "markdown",
   "metadata": {},
   "source": [
    "This output showcases the new synthetic samples generated by the SMOTE algorithm, which we applied to our dataset to balance the number of instances between the winners and non-winners of F1 races. The displayed rows are these new examples that were not part of the original dataset; they were created to provide a more balanced view and help our predictive model learn better. "
   ]
  },
  {
   "cell_type": "code",
   "execution_count": null,
   "metadata": {},
   "outputs": [
    {
     "data": {
      "image/png": "[encoded data removed]",
      "text/plain": [
       "<Figure size 640x480 with 1 Axes>"
      ]
     },
     "metadata": {},
     "output_type": "display_data"
    }
   ],
   "source": [
    "# Reduce the data to two dimensions for visualization\n",
    "pca = PCA(n_components=2)\n",
    "X_train_pca = pca.fit_transform(X_train_resampled)\n",
    "\n",
    "# Plot the original samples and the synthetic samples\n",
    "plt.scatter(X_train_pca[:len(y_train), 0], X_train_pca[:len(y_train), 1], label='Original')\n",
    "plt.scatter(X_train_pca[len(y_train):, 0], X_train_pca[len(y_train):, 1], label='SMOTE')\n",
    "plt.legend()\n",
    "plt.title('Visualization of Original and SMOTE Resampled Data')\n",
    "plt.xlabel('First Principal Component') # Label for the x-axis\n",
    "plt.ylabel('Second Principal Component') # Label for the y-axis\n",
    "plt.show()\n"
   ]
  },
  {
   "cell_type": "markdown",
   "metadata": {},
   "source": [
    "This chart visualizes our dataset after applying SMOTE (Synthetic Minority Over-sampling Technique) to address class imbalance. The 'Original' points represent our initial data, while the 'SMOTE' points are the synthetic samples created to augment the minority class. Through PCA, we've reduced the feature space to two dimensions, termed 'First Principal Component' and 'Second Principal Component', which capture the most significant variance in the data. The overlap between the original and SMOTE-generated points indicates that the synthetic samples are well-blended with the original minority class. In theory, this technique enhances our model's ability to learn by providing a more balanced representation of winners and non-winners in Formula 1 races, which is crucial for improving the predictive performance of our algorithms. It is also interesting to see that there is no obvious distinction between classes (win and non-win)."
   ]
  },
  {
   "cell_type": "markdown",
   "metadata": {},
   "source": [
    "### 9. Gridsearch for best model on the new SMOTE data"
   ]
  },
  {
   "cell_type": "markdown",
   "metadata": {},
   "source": [
    "Now we are orchestrating a hyperparameter tuning exercise to refine models for predicting F1 race winners with this new SMOTE data. We establish pipelines for Logistic Regression, Decision Tree, and Random Forest classifiers, incorporating steps like feature scaling and, for Logistic Regression, dimensionality reduction. Then, we define parameter grids for each model, detailing an array of hyperparameters to explore. These grids will guide a grid search to exhaustively evaluate model configurations, allowing us to pinpoint the most effective hyperparameter combinations for accurate predictions."
   ]
  },
  {
   "cell_type": "code",
   "execution_count": null,
   "metadata": {},
   "outputs": [],
   "source": [
    "# Create pipelines for each model\n",
    "pipe_lr = Pipeline([\n",
    "    ('scl', StandardScaler()),\n",
    "    ('dim_reducer', PCA()),\n",
    "    ('clf', LogisticRegression(random_state=42, max_iter=1000))\n",
    "])\n",
    "\n",
    "pipe_dt = Pipeline([\n",
    "    ('scl', StandardScaler()),\n",
    "    ('clf', DecisionTreeClassifier(random_state=42))\n",
    "])\n",
    "\n",
    "pipe_rf = Pipeline([\n",
    "    ('scl', StandardScaler()),\n",
    "    ('clf', RandomForestClassifier(random_state=42))\n",
    "])"
   ]
  },
  {
   "cell_type": "code",
   "execution_count": null,
   "metadata": {},
   "outputs": [],
   "source": [
    "# Create parameter grids for each model\n",
    "# Let's try the same range of C values from earlier\n",
    "c_values = [.00001, .0001, .001, .1, 1, 10, 100, 1000, 10000]\n",
    "\n",
    "# Parameter grid\n",
    "lr_param_grid = {\n",
    "    'clf__C': c_values,  # Corrected from 'model__C' to 'clf__C'\n",
    "    'clf__penalty': ['l2'],  # lbfgs supports only 'l2' or 'none'\n",
    "    # Include other parameters if needed\n",
    "}\n",
    "\n",
    "dt_param_grid = [{'clf__criterion': ['gini', 'entropy'],\n",
    "                  'clf__min_samples_leaf': [1, 2, 3, 4, 5, 6],\n",
    "                  'clf__max_depth': [1, 2, 3, 4, 5, 6, 7, 8, 9, 10, 11, 12],\n",
    "                  'clf__min_samples_split': [2, 3, 4, 5, 6]}]\n",
    "\n",
    "rf_param_grid = [{\n",
    "    'clf__n_estimators': [100, 200, 300],  # Prefix with 'clf__'\n",
    "    'clf__max_depth': [10, 20, 30, 40, 50, 60],  # Prefix with 'clf__'\n",
    "}]"
   ]
  },
  {
   "cell_type": "markdown",
   "metadata": {},
   "source": [
    "In this predictive model for F1 race winners, the parameters selected for testing have been chosen for their influence on model performance and their common use in model tuning. \n",
    "\n",
    "1. For logistic regression, we're adjusting the regularization strength (C) to control for overfitting. \n",
    "2. In decision trees, criteria for splits, depth of the tree, and minimum samples per leaf or split affect the tree's complexity and its ability to generalize. \n",
    "3. For the random forest, we're testing the number of trees (n_estimators) and max_depth to balance between overfitting and underfitting. "
   ]
  },
  {
   "cell_type": "code",
   "execution_count": null,
   "metadata": {},
   "outputs": [],
   "source": [
    "# Create a list to store GridSearchCV objects for each pipeline\n",
    "grid_search_objects = []"
   ]
  },
  {
   "cell_type": "code",
   "execution_count": null,
   "metadata": {},
   "outputs": [],
   "source": [
    "# Define a list of tuples to keep model and its grid parameters together\n",
    "models_grids = [(pipe_lr, lr_param_grid), (pipe_dt, dt_param_grid), (pipe_rf, rf_param_grid)]"
   ]
  },
  {
   "cell_type": "code",
   "execution_count": null,
   "metadata": {},
   "outputs": [
    {
     "name": "stdout",
     "output_type": "stream",
     "text": [
      "Fitting 5 folds for each of 9 candidates, totalling 45 fits\n",
      "Fitting 5 folds for each of 720 candidates, totalling 3600 fits\n",
      "Fitting 5 folds for each of 18 candidates, totalling 90 fits\n"
     ]
    }
   ],
   "source": [
    "# Perform GridSearchCV for each model\n",
    "for pipe, param_grid in models_grids:\n",
    "    gs = GridSearchCV(estimator=pipe,\n",
    "                      param_grid=param_grid,\n",
    "                      scoring='accuracy',\n",
    "                      cv=5,\n",
    "                      n_jobs=-1,\n",
    "                      verbose=1)\n",
    "    gs.fit(X_train_resampled, y_train_resampled)\n",
    "    grid_search_objects.append(gs)"
   ]
  },
  {
   "cell_type": "markdown",
   "metadata": {},
   "source": [
    "This code systematically searches through combinations of parameters for each of our models, evaluating their performance through cross-validation. The output tells us that for one of the models, we evaluated 9 different combinations, for another we assessed 720 combinations, and for the last one, 90 combinations. This was done across 5 different folds of our data, amounting to a total of 45, 3600, and 90 individual fits, respectively. It ensures we're not just finding a good set of parameters by chance, but by rigorously testing a range of options to hone in on the best model configuration."
   ]
  },
  {
   "cell_type": "code",
   "execution_count": null,
   "metadata": {},
   "outputs": [
    {
     "name": "stdout",
     "output_type": "stream",
     "text": [
      "Logistic Regression Test Accuracy: 0.9395881006864989\n",
      "Logistic Regression Best Params: {'clf__C': 10, 'clf__penalty': 'l2'}\n",
      "Decision Trees Test Accuracy: 0.9203661327231121\n",
      "Decision Trees Best Params: {'clf__criterion': 'gini', 'clf__max_depth': 12, 'clf__min_samples_leaf': 2, 'clf__min_samples_split': 2}\n",
      "Random Forest Test Accuracy: 0.9510297482837529\n",
      "Random Forest Best Params: {'clf__max_depth': 40, 'clf__n_estimators': 200}\n"
     ]
    }
   ],
   "source": [
    "# Now each model has been fitted, we can inspect them\n",
    "grid_dict = {0: 'Logistic Regression', 1: 'Decision Trees', 2: 'Random Forest'}\n",
    "for i, gs in enumerate(grid_search_objects):\n",
    "    print(f\"{grid_dict[i]} Test Accuracy: {gs.score(X_test, y_test)}\")\n",
    "    print(f\"{grid_dict[i]} Best Params: {gs.best_params_}\")"
   ]
  },
  {
   "cell_type": "markdown",
   "metadata": {},
   "source": [
    "This output summarizes the results of our grid search, where we have tuned and evaluated three different models for predicting F1 race winners. For each model—Logistic Regression, Decision Trees, and Random Forest—we show the best combination of hyperparameters (like 'C' and 'penalty' for Logistic Regression, 'criterion' and 'max_depth' for Decision Trees) that led to the highest accuracy score during the cross-validation process. The test accuracy figures provided are the model's performance on the hold-out test dataset, which we use to estimate how well the model might perform on unseen data. From these results, we can conclude that the Random Forest model with 'max_depth' set to 40, and using 300 estimators provides the best accuracy among the models we evaluated."
   ]
  },
  {
   "cell_type": "markdown",
   "metadata": {},
   "source": [
    "#### What about the confusion matrices and classification reports"
   ]
  },
  {
   "cell_type": "code",
   "execution_count": null,
   "metadata": {},
   "outputs": [
    {
     "name": "stdout",
     "output_type": "stream",
     "text": [
      "Model: Logistic Regression\n",
      "Classification report:\n",
      "              precision    recall  f1-score   support\n",
      "\n",
      "           0       0.98      0.95      0.97      2077\n",
      "           1       0.43      0.69      0.53       108\n",
      "\n",
      "    accuracy                           0.94      2185\n",
      "   macro avg       0.71      0.82      0.75      2185\n",
      "weighted avg       0.96      0.94      0.95      2185\n",
      "\n",
      "Confusion matrix:\n",
      "[[1979   98]\n",
      " [  34   74]]\n",
      "\n",
      "Model: Decision Trees\n",
      "Classification report:\n",
      "              precision    recall  f1-score   support\n",
      "\n",
      "           0       0.98      0.93      0.96      2077\n",
      "           1       0.35      0.69      0.46       108\n",
      "\n",
      "    accuracy                           0.92      2185\n",
      "   macro avg       0.66      0.81      0.71      2185\n",
      "weighted avg       0.95      0.92      0.93      2185\n",
      "\n",
      "Confusion matrix:\n",
      "[[1937  140]\n",
      " [  34   74]]\n",
      "\n",
      "Model: Random Forest\n",
      "Classification report:\n",
      "              precision    recall  f1-score   support\n",
      "\n",
      "           0       0.97      0.97      0.97      2077\n",
      "           1       0.50      0.52      0.51       108\n",
      "\n",
      "    accuracy                           0.95      2185\n",
      "   macro avg       0.74      0.75      0.74      2185\n",
      "weighted avg       0.95      0.95      0.95      2185\n",
      "\n",
      "Confusion matrix:\n",
      "[[2022   55]\n",
      " [  52   56]]\n",
      "\n"
     ]
    }
   ],
   "source": [
    "# grid_search_objects is a list of GridSearchCV objects\n",
    "for i, gs in enumerate(grid_search_objects):\n",
    "    # Predict using the best estimator found in the grid search\n",
    "    y_pred = gs.best_estimator_.predict(X_test)\n",
    "    \n",
    "    # Print model name\n",
    "    print(f\"Model: {grid_dict[i]}\")\n",
    "    \n",
    "    # Classification report\n",
    "    print(\"Classification report:\")\n",
    "    print(classification_report(y_test, y_pred))\n",
    "    \n",
    "    # Confusion matrix\n",
    "    print(\"Confusion matrix:\")\n",
    "    print(confusion_matrix(y_test, y_pred))\n",
    "    print()  # Add an empty line for better readability"
   ]
  },
  {
   "cell_type": "markdown",
   "metadata": {},
   "source": [
    "### XG Boost"
   ]
  },
  {
   "cell_type": "code",
   "execution_count": null,
   "metadata": {},
   "outputs": [],
   "source": [
    "from xgboost import XGBClassifier\n",
    "\n",
    "# Define the pipeline for XGBoost\n",
    "pipe_xgb = Pipeline([\n",
    "    ('sc', StandardScaler()),\n",
    "    ('dim_reducer', PCA()),\n",
    "    ('clf', XGBClassifier(random_state=42, use_label_encoder=False, eval_metric='mlogloss'))\n",
    "])"
   ]
  },
  {
   "cell_type": "code",
   "execution_count": null,
   "metadata": {},
   "outputs": [],
   "source": [
    "# Create the parameter grid for XGBoost\n",
    "param_grid_xgb = {\n",
    "    'clf__n_estimators': [100, 200, 300],\n",
    "    'clf__learning_rate': [0.01, 0.1, 0.3],\n",
    "    'clf__max_depth': [3, 4, 5, 6],\n",
    "    'clf__min_child_weight': [1, 2, 3],\n",
    "    'clf__subsample': [0.8, 0.9, 1.0],\n",
    "    'clf__colsample_bytree': [0.8, 0.9, 1.0],\n",
    "}"
   ]
  },
  {
   "cell_type": "code",
   "execution_count": null,
   "metadata": {},
   "outputs": [],
   "source": [
    "# Combine all pipelines into a list\n",
    "pipelines = [pipe_xgb]\n",
    "\n",
    "# Combine all parameter grids into a list\n",
    "param_grids = [param_grid_xgb]"
   ]
  },
  {
   "cell_type": "code",
   "execution_count": 60,
   "metadata": {},
   "outputs": [
    {
     "name": "stdout",
     "output_type": "stream",
     "text": [
      "Fitting 5 folds for each of 972 candidates, totalling 4860 fits\n"
     ]
    }
   ],
   "source": [
    "# Create an empty list to collect the GridSearchCV objects\n",
    "grid_search_objects = []\n",
    "\n",
    "# Loop over pipelines and parameter grids to create GridSearchCV objects and fit them\n",
    "for pipe, param_grid in zip(pipelines, param_grids):\n",
    "    gs = GridSearchCV(estimator=pipe,\n",
    "                      param_grid=param_grid,\n",
    "                      scoring='accuracy', # or another scoring metric\n",
    "                      cv=5,\n",
    "                      n_jobs=-1,\n",
    "                      verbose=2)\n",
    "    gs.fit(X_train, y_train)\n",
    "    grid_search_objects.append(gs)"
   ]
  },
  {
   "cell_type": "code",
   "execution_count": 83,
   "metadata": {},
   "outputs": [],
   "source": [
    "# After fitting, you can access the best estimator, parameters, and score like this:\n",
    "best_estimators = [gs.best_estimator_ for gs in grid_search_objects]\n",
    "best_params = [gs.best_params_ for gs in grid_search_objects]\n",
    "best_scores = [gs.best_score_ for gs in grid_search_objects]"
   ]
  },
  {
   "cell_type": "code",
   "execution_count": 84,
   "metadata": {},
   "outputs": [
    {
     "name": "stdout",
     "output_type": "stream",
     "text": [
      "XG Boost Test Accuracy: 0.9556064073226544\n",
      "XG Boost Best Params: {'clf__colsample_bytree': 0.9, 'clf__learning_rate': 0.1, 'clf__max_depth': 3, 'clf__min_child_weight': 1, 'clf__n_estimators': 100, 'clf__subsample': 0.8}\n"
     ]
    }
   ],
   "source": [
    "# Now each model has been fitted, we can inspect them\n",
    "grid_dict = {0: 'XG Boost'}\n",
    "for i, gs in enumerate(grid_search_objects):\n",
    "    print(f\"{grid_dict[i]} Test Accuracy: {gs.score(X_test, y_test)}\")\n",
    "    print(f\"{grid_dict[i]} Best Params: {gs.best_params_}\")"
   ]
  },
  {
   "cell_type": "code",
   "execution_count": 85,
   "metadata": {},
   "outputs": [
    {
     "name": "stdout",
     "output_type": "stream",
     "text": [
      "Model: XG Boost\n",
      "Classification report:\n",
      "              precision    recall  f1-score   support\n",
      "\n",
      "           0       0.96      0.99      0.98      2077\n",
      "           1       0.61      0.28      0.38       108\n",
      "\n",
      "    accuracy                           0.96      2185\n",
      "   macro avg       0.79      0.63      0.68      2185\n",
      "weighted avg       0.95      0.96      0.95      2185\n",
      "\n",
      "Confusion matrix:\n",
      "[[2058   19]\n",
      " [  78   30]]\n",
      "\n"
     ]
    }
   ],
   "source": [
    "# grid_search_objects is a list of GridSearchCV objects\n",
    "for i, gs in enumerate(grid_search_objects):\n",
    "    # Predict using the best estimator found in the grid search\n",
    "    y_pred = gs.best_estimator_.predict(X_test)\n",
    "    \n",
    "    # Print model name\n",
    "    print(f\"Model: {grid_dict[i]}\")\n",
    "    \n",
    "    # Classification report\n",
    "    print(\"Classification report:\")\n",
    "    print(classification_report(y_test, y_pred))\n",
    "    \n",
    "    # Confusion matrix\n",
    "    print(\"Confusion matrix:\")\n",
    "    print(confusion_matrix(y_test, y_pred))\n",
    "    print()  # Add an empty line for better readability"
   ]
  },
  {
   "cell_type": "markdown",
   "metadata": {},
   "source": [
    "### **Conclusions from SMOTE**:\n",
    "\n",
    " **Logistic Regression (LR)** : the classification report indicates a high precision for the non-winner class (0), meaning that when it predicts a driver will not win, it is correct 98% of the time. However, for the winner class (1), the precision is significantly lower, at 36%, indicating a higher number of false positives (drivers predicted to win but did not). The recall for the winner class is comparatively high at 68%, showing that the model is relatively good at identifying actual winners, but with a trade-off in precision. The overall accuracy of the model is 92%. The confusion matrix reflects these findings, with 73 true positives (correctly predicted winners) and 130 false positives (non-winners incorrectly identified as winners), showing that while it can identify winners, it does so with many incorrect guesses.\n",
    "\n",
    " **Decision Trees (DT)** :  the precision for the winner class is slightly lower than for logistic regression, at 34%, and the recall is higher, at 69%. The overall accuracy is 92%, which might be because the model is more liberal in predicting winners, leading to more mistakes overall. This is also clear from the confusion matrix, where there are 75 true positives (actual winners predicted as winners) and a significant number of false positives (148), suggesting that the decision tree model leans towards over-predicting winners.\n",
    "\n",
    " **Random Forest (RF)** : the RF model shows a balance between precision and recall for the winner class, with values at 47% and 51% respectively, indicating a more conservative and balanced prediction pattern. It has a higher overall accuracy at 95%, showing that it's the best among the three models at generalizing its predictions to new data. The confusion matrix supports this, with fewer false positives (63) and a moderate number of false negatives (53), showing that it makes fewer incorrect predictions for winners and non-winners alike, making it the most reliable model of the three for our predictions on F1 race outcomes."
   ]
  },
  {
   "cell_type": "markdown",
   "metadata": {},
   "source": [
    "## **What model to choose?**"
   ]
  },
  {
   "cell_type": "code",
   "execution_count": null,
   "metadata": {},
   "outputs": [
    {
     "data": {
      "text/html": [
       "<div>\n",
       "<style scoped>\n",
       "    .dataframe tbody tr th:only-of-type {\n",
       "        vertical-align: middle;\n",
       "    }\n",
       "\n",
       "    .dataframe tbody tr th {\n",
       "        vertical-align: top;\n",
       "    }\n",
       "\n",
       "    .dataframe thead th {\n",
       "        text-align: right;\n",
       "    }\n",
       "</style>\n",
       "<table border=\"1\" class=\"dataframe\">\n",
       "  <thead>\n",
       "    <tr style=\"text-align: right;\">\n",
       "      <th></th>\n",
       "      <th>Model</th>\n",
       "      <th>Model Accuracy</th>\n",
       "      <th>Macro F1</th>\n",
       "      <th>Class 1 Precision</th>\n",
       "      <th>Class 1 Recall</th>\n",
       "      <th>Class 1 F1</th>\n",
       "    </tr>\n",
       "  </thead>\n",
       "  <tbody>\n",
       "    <tr>\n",
       "      <th>0</th>\n",
       "      <td>Logistic Regression Untuned</td>\n",
       "      <td>0.96</td>\n",
       "      <td>0.65</td>\n",
       "      <td>0.60</td>\n",
       "      <td>0.23</td>\n",
       "      <td>0.33</td>\n",
       "    </tr>\n",
       "    <tr>\n",
       "      <th>1</th>\n",
       "      <td>Logistic Regression Tuned</td>\n",
       "      <td>0.96</td>\n",
       "      <td>0.70</td>\n",
       "      <td>0.64</td>\n",
       "      <td>0.32</td>\n",
       "      <td>0.43</td>\n",
       "    </tr>\n",
       "    <tr>\n",
       "      <th>2</th>\n",
       "      <td>Decision Tree Tuned</td>\n",
       "      <td>0.94</td>\n",
       "      <td>0.67</td>\n",
       "      <td>0.42</td>\n",
       "      <td>0.33</td>\n",
       "      <td>0.37</td>\n",
       "    </tr>\n",
       "    <tr>\n",
       "      <th>3</th>\n",
       "      <td>Random Forest</td>\n",
       "      <td>0.95</td>\n",
       "      <td>0.66</td>\n",
       "      <td>0.53</td>\n",
       "      <td>0.26</td>\n",
       "      <td>0.35</td>\n",
       "    </tr>\n",
       "    <tr>\n",
       "      <th>4</th>\n",
       "      <td>Random Forest Tuned</td>\n",
       "      <td>0.95</td>\n",
       "      <td>0.66</td>\n",
       "      <td>0.53</td>\n",
       "      <td>0.26</td>\n",
       "      <td>0.35</td>\n",
       "    </tr>\n",
       "    <tr>\n",
       "      <th>5</th>\n",
       "      <td>Logistic Regression SMOTE</td>\n",
       "      <td>0.92</td>\n",
       "      <td>0.71</td>\n",
       "      <td>0.36</td>\n",
       "      <td>0.68</td>\n",
       "      <td>0.47</td>\n",
       "    </tr>\n",
       "    <tr>\n",
       "      <th>6</th>\n",
       "      <td>Decision Tree SMOTE</td>\n",
       "      <td>0.92</td>\n",
       "      <td>0.70</td>\n",
       "      <td>0.34</td>\n",
       "      <td>0.69</td>\n",
       "      <td>0.45</td>\n",
       "    </tr>\n",
       "    <tr>\n",
       "      <th>7</th>\n",
       "      <td>Random Forest SMOTE</td>\n",
       "      <td>0.95</td>\n",
       "      <td>0.73</td>\n",
       "      <td>0.47</td>\n",
       "      <td>0.51</td>\n",
       "      <td>0.49</td>\n",
       "    </tr>\n",
       "  </tbody>\n",
       "</table>\n",
       "</div>"
      ],
      "text/plain": [
       "                         Model  Model Accuracy  Macro F1  Class 1 Precision  \\\n",
       "0  Logistic Regression Untuned            0.96      0.65               0.60   \n",
       "1    Logistic Regression Tuned            0.96      0.70               0.64   \n",
       "2          Decision Tree Tuned            0.94      0.67               0.42   \n",
       "3                Random Forest            0.95      0.66               0.53   \n",
       "4          Random Forest Tuned            0.95      0.66               0.53   \n",
       "5    Logistic Regression SMOTE            0.92      0.71               0.36   \n",
       "6          Decision Tree SMOTE            0.92      0.70               0.34   \n",
       "7          Random Forest SMOTE            0.95      0.73               0.47   \n",
       "\n",
       "   Class 1 Recall  Class 1 F1  \n",
       "0            0.23        0.33  \n",
       "1            0.32        0.43  \n",
       "2            0.33        0.37  \n",
       "3            0.26        0.35  \n",
       "4            0.26        0.35  \n",
       "5            0.68        0.47  \n",
       "6            0.69        0.45  \n",
       "7            0.51        0.49  "
      ]
     },
     "execution_count": 133,
     "metadata": {},
     "output_type": "execute_result"
    }
   ],
   "source": [
    "import pandas as pd\n",
    "\n",
    "# Example scores, replace these with your actual model scores\n",
    "model_names = ['Logistic Regression Untuned', 'Logistic Regression Tuned', 'Decision Tree Tuned', 'Random Forest', 'Random Forest Tuned', 'Logistic Regression SMOTE', 'Decision Tree SMOTE', 'Random Forest SMOTE']\n",
    "accuracies = [0.96, 0.96, 0.94, 0.95, 0.95, 0.92, 0.92, 0.95]  # Replace with actual accuracy scores\n",
    "macro_f1s = [0.65, 0.70, 0.67, 0.66, 0.66, 0.71, 0.70, 0.73]  # Replace with actual macro F1 scores\n",
    "precisions = [0.60, 0.64, 0.42, 0.53, 0.53, 0.36, 0.34, 0.47]  # Replace with actual precision scores\n",
    "recalls = [0.23, 0.32, 0.33, 0.26, 0.26, 0.68, 0.69, 0.51] # Replace with actual recall scores\n",
    "class_1_f1s = [0.33, 0.43, 0.37, 0.35, 0.35, 0.47, 0.45, 0.49]  # Replace with actual '1' F1 scores\n",
    "\n",
    "# Initialize the DataFrame with these lists\n",
    "results_df = pd.DataFrame({\n",
    "    'Model': model_names,\n",
    "    'Model Accuracy': accuracies,\n",
    "    'Macro F1': macro_f1s,\n",
    "    'Class 1 Precision': precisions,\n",
    "    'Class 1 Recall': recalls,\n",
    "    'Class 1 F1': class_1_f1s\n",
    "})\n",
    "\n",
    "# Display the DataFrame\n",
    "results_df\n"
   ]
  },
  {
   "cell_type": "markdown",
   "metadata": {},
   "source": [
    "This table showcases the predictive performance of various models we've developed. The incorporation of SMOTE, particularly in the Random Forest SMOTE model, has substantially improved our ability to predict F1 race winners, as evidenced by the highest Macro F1 and Class 1 F1 scores. These improvements are crucial for our goal, as they demonstrate a more accurate and balanced prediction capability, especially for our minority class \"winner\" in our data."
   ]
  },
  {
   "cell_type": "code",
   "execution_count": 12,
   "metadata": {},
   "outputs": [
    {
     "data": {
      "image/png": "[encoded data removed]",
      "text/plain": [
       "<Figure size 1200x600 with 1 Axes>"
      ]
     },
     "metadata": {},
     "output_type": "display_data"
    }
   ],
   "source": [
    "import matplotlib.pyplot as plt\n",
    "import numpy as np\n",
    "\n",
    "# Define the model names and their respective scores\n",
    "models = ['Logistic Regression Untuned', 'Logistic Regression Tuned', \n",
    "          'Decision Tree Tuned', 'Random Forest', 'Random Forest Tuned',\n",
    "          'Logistic Regression SMOTE', 'Decision Tree SMOTE', 'Random Forest SMOTE']\n",
    "model_accuracy = [0.96, 0.96, 0.94, 0.95, 0.95, 0.92, 0.92, 0.95]\n",
    "class_1_f1 = [0.33, 0.43, 0.37, 0.35, 0.35, 0.47, 0.45, 0.49]\n",
    "\n",
    "# Set up the figure and axis\n",
    "fig, ax = plt.subplots(figsize=(12, 6))\n",
    "\n",
    "# Set the positions and width for the bars\n",
    "positions = np.arange(len(models))\n",
    "bar_width = 0.35\n",
    "\n",
    "# Colors\n",
    "standard_blue = '#add8e6'  # Light blue color\n",
    "standard_orange = '#ffcc99'  # Light orange color\n",
    "bright_blue = '#0000FF'  # Bright blue color\n",
    "bright_orange = '#FFA500'  # Bright orange color\n",
    "\n",
    "# Define bar colors based on whether the model uses SMOTE\n",
    "model_accuracy_colors = [bright_blue if 'SMOTE' in model else standard_blue for model in models]\n",
    "class_1_f1_colors = [bright_orange if 'SMOTE' in model else standard_orange for model in models]\n",
    "\n",
    "# Plot the 'Model Accuracy' bars\n",
    "ax.bar(positions - bar_width/2, model_accuracy, bar_width, label='Model Accuracy', color=model_accuracy_colors)\n",
    "\n",
    "# Plot the 'Class 1 F1 Score' bars\n",
    "ax.bar(positions + bar_width/2, class_1_f1, bar_width, label='Class 1 F1 Score', color=class_1_f1_colors)\n",
    "\n",
    "# Add the model names as x-axis labels\n",
    "ax.set_xticks(positions)\n",
    "ax.set_xticklabels(models, rotation=45, ha='right')\n",
    "\n",
    "# Set the chart title and labels\n",
    "ax.set_title('Model Performance with SMOTE Enhancement')\n",
    "ax.set_xlabel('Model')\n",
    "ax.set_ylabel('Score')\n",
    "\n",
    "# Add a legend to explain the colors and move it to the left outside of the plot\n",
    "ax.legend(loc='center left', bbox_to_anchor=(1, 0.5))\n",
    "\n",
    "# Show the plot\n",
    "plt.tight_layout()\n",
    "plt.show()\n"
   ]
  },
  {
   "cell_type": "markdown",
   "metadata": {},
   "source": [
    "Incorporating SMOTE into our data preprocessing has significantly enhanced our model's ability to predict F1 race winners. This technique has boosted the performance of our models, particularly evident in the Class 1 F1 scores, by effectively addressing class imbalance and providing a more robust and accurate prediction framework."
   ]
  },
  {
   "cell_type": "markdown",
   "metadata": {},
   "source": [
    "1. **Overall Accuracy Score**:\n",
    "\n",
    "The overall accuracy score is the proportion of all predictions our model gets right, both winners and non-winners. It's the most straightforward measure of our model's performance, giving us a quick snapshot of its effectiveness. In predicting F1 race winners, a high overall accuracy score indicates that our model is generally good at determining the outcomes, but it doesn't differentiate between the types of errors made, so it's important to balance this with precision and recall to ensure a well-rounded model."
   ]
  },
  {
   "cell_type": "code",
   "execution_count": null,
   "metadata": {},
   "outputs": [
    {
     "data": {
      "application/vnd.plotly.v1+json": {
       "config": {
        "plotlyServerURL": "https://plot.ly"
       },
       "data": [
        {
         "marker": {
          "color": [
           "red",
           "red",
           "blue",
           "blue",
           "blue",
           "blue",
           "blue",
           "blue"
          ]
         },
         "type": "bar",
         "x": [
          "Logistic Regression Untuned",
          "Logistic Regression Tuned",
          "Decision Tree Tuned",
          "Random Forest Untuned",
          "Random Forest Tuned",
          "Logistic Regression SMOTE",
          "Decision Trees SMOTE",
          "Random Forest SMOTE"
         ],
         "y": [
          0.96,
          0.96,
          0.94,
          0.95,
          0.95,
          0.92,
          0.9,
          0.95
         ]
        }
       ],
       "layout": {
        "template": {
         "data": {
          "bar": [
           {
            "error_x": {
             "color": "#2a3f5f"
            },
            "error_y": {
             "color": "#2a3f5f"
            },
            "marker": {
             "line": {
              "color": "#E5ECF6",
              "width": 0.5
             },
             "pattern": {
              "fillmode": "overlay",
              "size": 10,
              "solidity": 0.2
             }
            },
            "type": "bar"
           }
          ],
          "barpolar": [
           {
            "marker": {
             "line": {
              "color": "#E5ECF6",
              "width": 0.5
             },
             "pattern": {
              "fillmode": "overlay",
              "size": 10,
              "solidity": 0.2
             }
            },
            "type": "barpolar"
           }
          ],
          "carpet": [
           {
            "aaxis": {
             "endlinecolor": "#2a3f5f",
             "gridcolor": "white",
             "linecolor": "white",
             "minorgridcolor": "white",
             "startlinecolor": "#2a3f5f"
            },
            "baxis": {
             "endlinecolor": "#2a3f5f",
             "gridcolor": "white",
             "linecolor": "white",
             "minorgridcolor": "white",
             "startlinecolor": "#2a3f5f"
            },
            "type": "carpet"
           }
          ],
          "choropleth": [
           {
            "colorbar": {
             "outlinewidth": 0,
             "ticks": ""
            },
            "type": "choropleth"
           }
          ],
          "contour": [
           {
            "colorbar": {
             "outlinewidth": 0,
             "ticks": ""
            },
            "colorscale": [
             [
              0,
              "#0d0887"
             ],
             [
              0.1111111111111111,
              "#46039f"
             ],
             [
              0.2222222222222222,
              "#7201a8"
             ],
             [
              0.3333333333333333,
              "#9c179e"
             ],
             [
              0.4444444444444444,
              "#bd3786"
             ],
             [
              0.5555555555555556,
              "#d8576b"
             ],
             [
              0.6666666666666666,
              "#ed7953"
             ],
             [
              0.7777777777777778,
              "#fb9f3a"
             ],
             [
              0.8888888888888888,
              "#fdca26"
             ],
             [
              1,
              "#f0f921"
             ]
            ],
            "type": "contour"
           }
          ],
          "contourcarpet": [
           {
            "colorbar": {
             "outlinewidth": 0,
             "ticks": ""
            },
            "type": "contourcarpet"
           }
          ],
          "heatmap": [
           {
            "colorbar": {
             "outlinewidth": 0,
             "ticks": ""
            },
            "colorscale": [
             [
              0,
              "#0d0887"
             ],
             [
              0.1111111111111111,
              "#46039f"
             ],
             [
              0.2222222222222222,
              "#7201a8"
             ],
             [
              0.3333333333333333,
              "#9c179e"
             ],
             [
              0.4444444444444444,
              "#bd3786"
             ],
             [
              0.5555555555555556,
              "#d8576b"
             ],
             [
              0.6666666666666666,
              "#ed7953"
             ],
             [
              0.7777777777777778,
              "#fb9f3a"
             ],
             [
              0.8888888888888888,
              "#fdca26"
             ],
             [
              1,
              "#f0f921"
             ]
            ],
            "type": "heatmap"
           }
          ],
          "heatmapgl": [
           {
            "colorbar": {
             "outlinewidth": 0,
             "ticks": ""
            },
            "colorscale": [
             [
              0,
              "#0d0887"
             ],
             [
              0.1111111111111111,
              "#46039f"
             ],
             [
              0.2222222222222222,
              "#7201a8"
             ],
             [
              0.3333333333333333,
              "#9c179e"
             ],
             [
              0.4444444444444444,
              "#bd3786"
             ],
             [
              0.5555555555555556,
              "#d8576b"
             ],
             [
              0.6666666666666666,
              "#ed7953"
             ],
             [
              0.7777777777777778,
              "#fb9f3a"
             ],
             [
              0.8888888888888888,
              "#fdca26"
             ],
             [
              1,
              "#f0f921"
             ]
            ],
            "type": "heatmapgl"
           }
          ],
          "histogram": [
           {
            "marker": {
             "pattern": {
              "fillmode": "overlay",
              "size": 10,
              "solidity": 0.2
             }
            },
            "type": "histogram"
           }
          ],
          "histogram2d": [
           {
            "colorbar": {
             "outlinewidth": 0,
             "ticks": ""
            },
            "colorscale": [
             [
              0,
              "#0d0887"
             ],
             [
              0.1111111111111111,
              "#46039f"
             ],
             [
              0.2222222222222222,
              "#7201a8"
             ],
             [
              0.3333333333333333,
              "#9c179e"
             ],
             [
              0.4444444444444444,
              "#bd3786"
             ],
             [
              0.5555555555555556,
              "#d8576b"
             ],
             [
              0.6666666666666666,
              "#ed7953"
             ],
             [
              0.7777777777777778,
              "#fb9f3a"
             ],
             [
              0.8888888888888888,
              "#fdca26"
             ],
             [
              1,
              "#f0f921"
             ]
            ],
            "type": "histogram2d"
           }
          ],
          "histogram2dcontour": [
           {
            "colorbar": {
             "outlinewidth": 0,
             "ticks": ""
            },
            "colorscale": [
             [
              0,
              "#0d0887"
             ],
             [
              0.1111111111111111,
              "#46039f"
             ],
             [
              0.2222222222222222,
              "#7201a8"
             ],
             [
              0.3333333333333333,
              "#9c179e"
             ],
             [
              0.4444444444444444,
              "#bd3786"
             ],
             [
              0.5555555555555556,
              "#d8576b"
             ],
             [
              0.6666666666666666,
              "#ed7953"
             ],
             [
              0.7777777777777778,
              "#fb9f3a"
             ],
             [
              0.8888888888888888,
              "#fdca26"
             ],
             [
              1,
              "#f0f921"
             ]
            ],
            "type": "histogram2dcontour"
           }
          ],
          "mesh3d": [
           {
            "colorbar": {
             "outlinewidth": 0,
             "ticks": ""
            },
            "type": "mesh3d"
           }
          ],
          "parcoords": [
           {
            "line": {
             "colorbar": {
              "outlinewidth": 0,
              "ticks": ""
             }
            },
            "type": "parcoords"
           }
          ],
          "pie": [
           {
            "automargin": true,
            "type": "pie"
           }
          ],
          "scatter": [
           {
            "fillpattern": {
             "fillmode": "overlay",
             "size": 10,
             "solidity": 0.2
            },
            "type": "scatter"
           }
          ],
          "scatter3d": [
           {
            "line": {
             "colorbar": {
              "outlinewidth": 0,
              "ticks": ""
             }
            },
            "marker": {
             "colorbar": {
              "outlinewidth": 0,
              "ticks": ""
             }
            },
            "type": "scatter3d"
           }
          ],
          "scattercarpet": [
           {
            "marker": {
             "colorbar": {
              "outlinewidth": 0,
              "ticks": ""
             }
            },
            "type": "scattercarpet"
           }
          ],
          "scattergeo": [
           {
            "marker": {
             "colorbar": {
              "outlinewidth": 0,
              "ticks": ""
             }
            },
            "type": "scattergeo"
           }
          ],
          "scattergl": [
           {
            "marker": {
             "colorbar": {
              "outlinewidth": 0,
              "ticks": ""
             }
            },
            "type": "scattergl"
           }
          ],
          "scattermapbox": [
           {
            "marker": {
             "colorbar": {
              "outlinewidth": 0,
              "ticks": ""
             }
            },
            "type": "scattermapbox"
           }
          ],
          "scatterpolar": [
           {
            "marker": {
             "colorbar": {
              "outlinewidth": 0,
              "ticks": ""
             }
            },
            "type": "scatterpolar"
           }
          ],
          "scatterpolargl": [
           {
            "marker": {
             "colorbar": {
              "outlinewidth": 0,
              "ticks": ""
             }
            },
            "type": "scatterpolargl"
           }
          ],
          "scatterternary": [
           {
            "marker": {
             "colorbar": {
              "outlinewidth": 0,
              "ticks": ""
             }
            },
            "type": "scatterternary"
           }
          ],
          "surface": [
           {
            "colorbar": {
             "outlinewidth": 0,
             "ticks": ""
            },
            "colorscale": [
             [
              0,
              "#0d0887"
             ],
             [
              0.1111111111111111,
              "#46039f"
             ],
             [
              0.2222222222222222,
              "#7201a8"
             ],
             [
              0.3333333333333333,
              "#9c179e"
             ],
             [
              0.4444444444444444,
              "#bd3786"
             ],
             [
              0.5555555555555556,
              "#d8576b"
             ],
             [
              0.6666666666666666,
              "#ed7953"
             ],
             [
              0.7777777777777778,
              "#fb9f3a"
             ],
             [
              0.8888888888888888,
              "#fdca26"
             ],
             [
              1,
              "#f0f921"
             ]
            ],
            "type": "surface"
           }
          ],
          "table": [
           {
            "cells": {
             "fill": {
              "color": "#EBF0F8"
             },
             "line": {
              "color": "white"
             }
            },
            "header": {
             "fill": {
              "color": "#C8D4E3"
             },
             "line": {
              "color": "white"
             }
            },
            "type": "table"
           }
          ]
         },
         "layout": {
          "annotationdefaults": {
           "arrowcolor": "#2a3f5f",
           "arrowhead": 0,
           "arrowwidth": 1
          },
          "autotypenumbers": "strict",
          "coloraxis": {
           "colorbar": {
            "outlinewidth": 0,
            "ticks": ""
           }
          },
          "colorscale": {
           "diverging": [
            [
             0,
             "#8e0152"
            ],
            [
             0.1,
             "#c51b7d"
            ],
            [
             0.2,
             "#de77ae"
            ],
            [
             0.3,
             "#f1b6da"
            ],
            [
             0.4,
             "#fde0ef"
            ],
            [
             0.5,
             "#f7f7f7"
            ],
            [
             0.6,
             "#e6f5d0"
            ],
            [
             0.7,
             "#b8e186"
            ],
            [
             0.8,
             "#7fbc41"
            ],
            [
             0.9,
             "#4d9221"
            ],
            [
             1,
             "#276419"
            ]
           ],
           "sequential": [
            [
             0,
             "#0d0887"
            ],
            [
             0.1111111111111111,
             "#46039f"
            ],
            [
             0.2222222222222222,
             "#7201a8"
            ],
            [
             0.3333333333333333,
             "#9c179e"
            ],
            [
             0.4444444444444444,
             "#bd3786"
            ],
            [
             0.5555555555555556,
             "#d8576b"
            ],
            [
             0.6666666666666666,
             "#ed7953"
            ],
            [
             0.7777777777777778,
             "#fb9f3a"
            ],
            [
             0.8888888888888888,
             "#fdca26"
            ],
            [
             1,
             "#f0f921"
            ]
           ],
           "sequentialminus": [
            [
             0,
             "#0d0887"
            ],
            [
             0.1111111111111111,
             "#46039f"
            ],
            [
             0.2222222222222222,
             "#7201a8"
            ],
            [
             0.3333333333333333,
             "#9c179e"
            ],
            [
             0.4444444444444444,
             "#bd3786"
            ],
            [
             0.5555555555555556,
             "#d8576b"
            ],
            [
             0.6666666666666666,
             "#ed7953"
            ],
            [
             0.7777777777777778,
             "#fb9f3a"
            ],
            [
             0.8888888888888888,
             "#fdca26"
            ],
            [
             1,
             "#f0f921"
            ]
           ]
          },
          "colorway": [
           "#636efa",
           "#EF553B",
           "#00cc96",
           "#ab63fa",
           "#FFA15A",
           "#19d3f3",
           "#FF6692",
           "#B6E880",
           "#FF97FF",
           "#FECB52"
          ],
          "font": {
           "color": "#2a3f5f"
          },
          "geo": {
           "bgcolor": "white",
           "lakecolor": "white",
           "landcolor": "#E5ECF6",
           "showlakes": true,
           "showland": true,
           "subunitcolor": "white"
          },
          "hoverlabel": {
           "align": "left"
          },
          "hovermode": "closest",
          "mapbox": {
           "style": "light"
          },
          "paper_bgcolor": "white",
          "plot_bgcolor": "#E5ECF6",
          "polar": {
           "angularaxis": {
            "gridcolor": "white",
            "linecolor": "white",
            "ticks": ""
           },
           "bgcolor": "#E5ECF6",
           "radialaxis": {
            "gridcolor": "white",
            "linecolor": "white",
            "ticks": ""
           }
          },
          "scene": {
           "xaxis": {
            "backgroundcolor": "#E5ECF6",
            "gridcolor": "white",
            "gridwidth": 2,
            "linecolor": "white",
            "showbackground": true,
            "ticks": "",
            "zerolinecolor": "white"
           },
           "yaxis": {
            "backgroundcolor": "#E5ECF6",
            "gridcolor": "white",
            "gridwidth": 2,
            "linecolor": "white",
            "showbackground": true,
            "ticks": "",
            "zerolinecolor": "white"
           },
           "zaxis": {
            "backgroundcolor": "#E5ECF6",
            "gridcolor": "white",
            "gridwidth": 2,
            "linecolor": "white",
            "showbackground": true,
            "ticks": "",
            "zerolinecolor": "white"
           }
          },
          "shapedefaults": {
           "line": {
            "color": "#2a3f5f"
           }
          },
          "ternary": {
           "aaxis": {
            "gridcolor": "white",
            "linecolor": "white",
            "ticks": ""
           },
           "baxis": {
            "gridcolor": "white",
            "linecolor": "white",
            "ticks": ""
           },
           "bgcolor": "#E5ECF6",
           "caxis": {
            "gridcolor": "white",
            "linecolor": "white",
            "ticks": ""
           }
          },
          "title": {
           "x": 0.05
          },
          "xaxis": {
           "automargin": true,
           "gridcolor": "white",
           "linecolor": "white",
           "ticks": "",
           "title": {
            "standoff": 15
           },
           "zerolinecolor": "white",
           "zerolinewidth": 2
          },
          "yaxis": {
           "automargin": true,
           "gridcolor": "white",
           "linecolor": "white",
           "ticks": "",
           "title": {
            "standoff": 15
           },
           "zerolinecolor": "white",
           "zerolinewidth": 2
          }
         }
        },
        "title": {
         "text": "Logistics Regressions (Untuned and Tuned) Shows Highest Overall Accuracy"
        },
        "xaxis": {
         "title": {
          "text": "Model"
         }
        },
        "yaxis": {
         "range": [
          0.85,
          1
         ],
         "title": {
          "text": "Accuracy"
         }
        }
       }
      }
     },
     "metadata": {},
     "output_type": "display_data"
    }
   ],
   "source": [
    "import plotly.graph_objects as go\n",
    "\n",
    "# Accuracy scores for each model\n",
    "accuracies = [0.96, 0.96, 0.94, 0.95, 0.95, 0.92, 0.90, 0.95]\n",
    "models = [\n",
    "    'Logistic Regression Untuned', 'Logistic Regression Tuned',\n",
    "    'Decision Tree Tuned', 'Random Forest Untuned',\n",
    "    'Random Forest Tuned', 'Logistic Regression SMOTE',\n",
    "    'Decision Trees SMOTE', 'Random Forest SMOTE'\n",
    "]\n",
    "\n",
    "# Colors for the bars - red if the score is the maximum, blue otherwise\n",
    "colors = ['red' if accuracy == max(accuracies) else 'blue' for accuracy in accuracies]\n",
    "\n",
    "# Create bar chart\n",
    "fig = go.Figure([go.Bar(x=models, y=accuracies, marker_color=colors)])\n",
    "fig.update_layout(\n",
    "    title='Logistics Regressions (Untuned and Tuned) Shows Highest Overall Accuracy',\n",
    "    xaxis_title='Model',\n",
    "    yaxis_title='Accuracy',\n",
    "    yaxis=dict(range=[0.85, 1])\n",
    ")\n",
    "fig.show()\n"
   ]
  },
  {
   "cell_type": "markdown",
   "metadata": {},
   "source": [
    "This chart visualizes the accuracy of various models used in our project to predict F1 race winners. It clearly shows that Logistic Regression models, both untuned and tuned, achieved the highest overall accuracy. However, while this metric is important, it doesn't tell the whole story. We need to consider recall and precision, especially in our imbalanced dataset where the minority class (the winners) is our primary focus. A model that accurately predicts non-winners most of the time could still have high accuracy, but it wouldn't be useful for our goal of correctly identifying race winners."
   ]
  },
  {
   "cell_type": "markdown",
   "metadata": {},
   "source": [
    "2. **Recall**:\n",
    "\n",
    "Recall, also known as sensitivity, measures our model's ability to correctly identify all actual race winners. In the high-stakes context of F1 racing, a high recall means that our model misses very few winners; it's great at flagging potential champions. However, a high recall doesn't consider whether our predictions for non-winners are correct — it's purely focused on how well we catch those winning instances."
   ]
  },
  {
   "cell_type": "code",
   "execution_count": null,
   "metadata": {},
   "outputs": [
    {
     "data": {
      "application/vnd.plotly.v1+json": {
       "config": {
        "plotlyServerURL": "https://plot.ly"
       },
       "data": [
        {
         "marker": {
          "color": [
           "blue",
           "blue",
           "blue",
           "blue",
           "blue",
           "blue",
           "red",
           "blue"
          ]
         },
         "type": "bar",
         "x": [
          "Logistic Regression Untuned",
          "Logistic Regression Tuned",
          "Decision Tree Tuned",
          "Random Forest Untuned",
          "Random Forest Tuned",
          "Logistic Regression SMOTE",
          "Decision Trees SMOTE",
          "Random Forest SMOTE"
         ],
         "y": [
          0.32,
          0.32,
          0.33,
          0.26,
          0.26,
          0.69,
          0.83,
          0.51
         ]
        }
       ],
       "layout": {
        "template": {
         "data": {
          "bar": [
           {
            "error_x": {
             "color": "#2a3f5f"
            },
            "error_y": {
             "color": "#2a3f5f"
            },
            "marker": {
             "line": {
              "color": "#E5ECF6",
              "width": 0.5
             },
             "pattern": {
              "fillmode": "overlay",
              "size": 10,
              "solidity": 0.2
             }
            },
            "type": "bar"
           }
          ],
          "barpolar": [
           {
            "marker": {
             "line": {
              "color": "#E5ECF6",
              "width": 0.5
             },
             "pattern": {
              "fillmode": "overlay",
              "size": 10,
              "solidity": 0.2
             }
            },
            "type": "barpolar"
           }
          ],
          "carpet": [
           {
            "aaxis": {
             "endlinecolor": "#2a3f5f",
             "gridcolor": "white",
             "linecolor": "white",
             "minorgridcolor": "white",
             "startlinecolor": "#2a3f5f"
            },
            "baxis": {
             "endlinecolor": "#2a3f5f",
             "gridcolor": "white",
             "linecolor": "white",
             "minorgridcolor": "white",
             "startlinecolor": "#2a3f5f"
            },
            "type": "carpet"
           }
          ],
          "choropleth": [
           {
            "colorbar": {
             "outlinewidth": 0,
             "ticks": ""
            },
            "type": "choropleth"
           }
          ],
          "contour": [
           {
            "colorbar": {
             "outlinewidth": 0,
             "ticks": ""
            },
            "colorscale": [
             [
              0,
              "#0d0887"
             ],
             [
              0.1111111111111111,
              "#46039f"
             ],
             [
              0.2222222222222222,
              "#7201a8"
             ],
             [
              0.3333333333333333,
              "#9c179e"
             ],
             [
              0.4444444444444444,
              "#bd3786"
             ],
             [
              0.5555555555555556,
              "#d8576b"
             ],
             [
              0.6666666666666666,
              "#ed7953"
             ],
             [
              0.7777777777777778,
              "#fb9f3a"
             ],
             [
              0.8888888888888888,
              "#fdca26"
             ],
             [
              1,
              "#f0f921"
             ]
            ],
            "type": "contour"
           }
          ],
          "contourcarpet": [
           {
            "colorbar": {
             "outlinewidth": 0,
             "ticks": ""
            },
            "type": "contourcarpet"
           }
          ],
          "heatmap": [
           {
            "colorbar": {
             "outlinewidth": 0,
             "ticks": ""
            },
            "colorscale": [
             [
              0,
              "#0d0887"
             ],
             [
              0.1111111111111111,
              "#46039f"
             ],
             [
              0.2222222222222222,
              "#7201a8"
             ],
             [
              0.3333333333333333,
              "#9c179e"
             ],
             [
              0.4444444444444444,
              "#bd3786"
             ],
             [
              0.5555555555555556,
              "#d8576b"
             ],
             [
              0.6666666666666666,
              "#ed7953"
             ],
             [
              0.7777777777777778,
              "#fb9f3a"
             ],
             [
              0.8888888888888888,
              "#fdca26"
             ],
             [
              1,
              "#f0f921"
             ]
            ],
            "type": "heatmap"
           }
          ],
          "heatmapgl": [
           {
            "colorbar": {
             "outlinewidth": 0,
             "ticks": ""
            },
            "colorscale": [
             [
              0,
              "#0d0887"
             ],
             [
              0.1111111111111111,
              "#46039f"
             ],
             [
              0.2222222222222222,
              "#7201a8"
             ],
             [
              0.3333333333333333,
              "#9c179e"
             ],
             [
              0.4444444444444444,
              "#bd3786"
             ],
             [
              0.5555555555555556,
              "#d8576b"
             ],
             [
              0.6666666666666666,
              "#ed7953"
             ],
             [
              0.7777777777777778,
              "#fb9f3a"
             ],
             [
              0.8888888888888888,
              "#fdca26"
             ],
             [
              1,
              "#f0f921"
             ]
            ],
            "type": "heatmapgl"
           }
          ],
          "histogram": [
           {
            "marker": {
             "pattern": {
              "fillmode": "overlay",
              "size": 10,
              "solidity": 0.2
             }
            },
            "type": "histogram"
           }
          ],
          "histogram2d": [
           {
            "colorbar": {
             "outlinewidth": 0,
             "ticks": ""
            },
            "colorscale": [
             [
              0,
              "#0d0887"
             ],
             [
              0.1111111111111111,
              "#46039f"
             ],
             [
              0.2222222222222222,
              "#7201a8"
             ],
             [
              0.3333333333333333,
              "#9c179e"
             ],
             [
              0.4444444444444444,
              "#bd3786"
             ],
             [
              0.5555555555555556,
              "#d8576b"
             ],
             [
              0.6666666666666666,
              "#ed7953"
             ],
             [
              0.7777777777777778,
              "#fb9f3a"
             ],
             [
              0.8888888888888888,
              "#fdca26"
             ],
             [
              1,
              "#f0f921"
             ]
            ],
            "type": "histogram2d"
           }
          ],
          "histogram2dcontour": [
           {
            "colorbar": {
             "outlinewidth": 0,
             "ticks": ""
            },
            "colorscale": [
             [
              0,
              "#0d0887"
             ],
             [
              0.1111111111111111,
              "#46039f"
             ],
             [
              0.2222222222222222,
              "#7201a8"
             ],
             [
              0.3333333333333333,
              "#9c179e"
             ],
             [
              0.4444444444444444,
              "#bd3786"
             ],
             [
              0.5555555555555556,
              "#d8576b"
             ],
             [
              0.6666666666666666,
              "#ed7953"
             ],
             [
              0.7777777777777778,
              "#fb9f3a"
             ],
             [
              0.8888888888888888,
              "#fdca26"
             ],
             [
              1,
              "#f0f921"
             ]
            ],
            "type": "histogram2dcontour"
           }
          ],
          "mesh3d": [
           {
            "colorbar": {
             "outlinewidth": 0,
             "ticks": ""
            },
            "type": "mesh3d"
           }
          ],
          "parcoords": [
           {
            "line": {
             "colorbar": {
              "outlinewidth": 0,
              "ticks": ""
             }
            },
            "type": "parcoords"
           }
          ],
          "pie": [
           {
            "automargin": true,
            "type": "pie"
           }
          ],
          "scatter": [
           {
            "fillpattern": {
             "fillmode": "overlay",
             "size": 10,
             "solidity": 0.2
            },
            "type": "scatter"
           }
          ],
          "scatter3d": [
           {
            "line": {
             "colorbar": {
              "outlinewidth": 0,
              "ticks": ""
             }
            },
            "marker": {
             "colorbar": {
              "outlinewidth": 0,
              "ticks": ""
             }
            },
            "type": "scatter3d"
           }
          ],
          "scattercarpet": [
           {
            "marker": {
             "colorbar": {
              "outlinewidth": 0,
              "ticks": ""
             }
            },
            "type": "scattercarpet"
           }
          ],
          "scattergeo": [
           {
            "marker": {
             "colorbar": {
              "outlinewidth": 0,
              "ticks": ""
             }
            },
            "type": "scattergeo"
           }
          ],
          "scattergl": [
           {
            "marker": {
             "colorbar": {
              "outlinewidth": 0,
              "ticks": ""
             }
            },
            "type": "scattergl"
           }
          ],
          "scattermapbox": [
           {
            "marker": {
             "colorbar": {
              "outlinewidth": 0,
              "ticks": ""
             }
            },
            "type": "scattermapbox"
           }
          ],
          "scatterpolar": [
           {
            "marker": {
             "colorbar": {
              "outlinewidth": 0,
              "ticks": ""
             }
            },
            "type": "scatterpolar"
           }
          ],
          "scatterpolargl": [
           {
            "marker": {
             "colorbar": {
              "outlinewidth": 0,
              "ticks": ""
             }
            },
            "type": "scatterpolargl"
           }
          ],
          "scatterternary": [
           {
            "marker": {
             "colorbar": {
              "outlinewidth": 0,
              "ticks": ""
             }
            },
            "type": "scatterternary"
           }
          ],
          "surface": [
           {
            "colorbar": {
             "outlinewidth": 0,
             "ticks": ""
            },
            "colorscale": [
             [
              0,
              "#0d0887"
             ],
             [
              0.1111111111111111,
              "#46039f"
             ],
             [
              0.2222222222222222,
              "#7201a8"
             ],
             [
              0.3333333333333333,
              "#9c179e"
             ],
             [
              0.4444444444444444,
              "#bd3786"
             ],
             [
              0.5555555555555556,
              "#d8576b"
             ],
             [
              0.6666666666666666,
              "#ed7953"
             ],
             [
              0.7777777777777778,
              "#fb9f3a"
             ],
             [
              0.8888888888888888,
              "#fdca26"
             ],
             [
              1,
              "#f0f921"
             ]
            ],
            "type": "surface"
           }
          ],
          "table": [
           {
            "cells": {
             "fill": {
              "color": "#EBF0F8"
             },
             "line": {
              "color": "white"
             }
            },
            "header": {
             "fill": {
              "color": "#C8D4E3"
             },
             "line": {
              "color": "white"
             }
            },
            "type": "table"
           }
          ]
         },
         "layout": {
          "annotationdefaults": {
           "arrowcolor": "#2a3f5f",
           "arrowhead": 0,
           "arrowwidth": 1
          },
          "autotypenumbers": "strict",
          "coloraxis": {
           "colorbar": {
            "outlinewidth": 0,
            "ticks": ""
           }
          },
          "colorscale": {
           "diverging": [
            [
             0,
             "#8e0152"
            ],
            [
             0.1,
             "#c51b7d"
            ],
            [
             0.2,
             "#de77ae"
            ],
            [
             0.3,
             "#f1b6da"
            ],
            [
             0.4,
             "#fde0ef"
            ],
            [
             0.5,
             "#f7f7f7"
            ],
            [
             0.6,
             "#e6f5d0"
            ],
            [
             0.7,
             "#b8e186"
            ],
            [
             0.8,
             "#7fbc41"
            ],
            [
             0.9,
             "#4d9221"
            ],
            [
             1,
             "#276419"
            ]
           ],
           "sequential": [
            [
             0,
             "#0d0887"
            ],
            [
             0.1111111111111111,
             "#46039f"
            ],
            [
             0.2222222222222222,
             "#7201a8"
            ],
            [
             0.3333333333333333,
             "#9c179e"
            ],
            [
             0.4444444444444444,
             "#bd3786"
            ],
            [
             0.5555555555555556,
             "#d8576b"
            ],
            [
             0.6666666666666666,
             "#ed7953"
            ],
            [
             0.7777777777777778,
             "#fb9f3a"
            ],
            [
             0.8888888888888888,
             "#fdca26"
            ],
            [
             1,
             "#f0f921"
            ]
           ],
           "sequentialminus": [
            [
             0,
             "#0d0887"
            ],
            [
             0.1111111111111111,
             "#46039f"
            ],
            [
             0.2222222222222222,
             "#7201a8"
            ],
            [
             0.3333333333333333,
             "#9c179e"
            ],
            [
             0.4444444444444444,
             "#bd3786"
            ],
            [
             0.5555555555555556,
             "#d8576b"
            ],
            [
             0.6666666666666666,
             "#ed7953"
            ],
            [
             0.7777777777777778,
             "#fb9f3a"
            ],
            [
             0.8888888888888888,
             "#fdca26"
            ],
            [
             1,
             "#f0f921"
            ]
           ]
          },
          "colorway": [
           "#636efa",
           "#EF553B",
           "#00cc96",
           "#ab63fa",
           "#FFA15A",
           "#19d3f3",
           "#FF6692",
           "#B6E880",
           "#FF97FF",
           "#FECB52"
          ],
          "font": {
           "color": "#2a3f5f"
          },
          "geo": {
           "bgcolor": "white",
           "lakecolor": "white",
           "landcolor": "#E5ECF6",
           "showlakes": true,
           "showland": true,
           "subunitcolor": "white"
          },
          "hoverlabel": {
           "align": "left"
          },
          "hovermode": "closest",
          "mapbox": {
           "style": "light"
          },
          "paper_bgcolor": "white",
          "plot_bgcolor": "#E5ECF6",
          "polar": {
           "angularaxis": {
            "gridcolor": "white",
            "linecolor": "white",
            "ticks": ""
           },
           "bgcolor": "#E5ECF6",
           "radialaxis": {
            "gridcolor": "white",
            "linecolor": "white",
            "ticks": ""
           }
          },
          "scene": {
           "xaxis": {
            "backgroundcolor": "#E5ECF6",
            "gridcolor": "white",
            "gridwidth": 2,
            "linecolor": "white",
            "showbackground": true,
            "ticks": "",
            "zerolinecolor": "white"
           },
           "yaxis": {
            "backgroundcolor": "#E5ECF6",
            "gridcolor": "white",
            "gridwidth": 2,
            "linecolor": "white",
            "showbackground": true,
            "ticks": "",
            "zerolinecolor": "white"
           },
           "zaxis": {
            "backgroundcolor": "#E5ECF6",
            "gridcolor": "white",
            "gridwidth": 2,
            "linecolor": "white",
            "showbackground": true,
            "ticks": "",
            "zerolinecolor": "white"
           }
          },
          "shapedefaults": {
           "line": {
            "color": "#2a3f5f"
           }
          },
          "ternary": {
           "aaxis": {
            "gridcolor": "white",
            "linecolor": "white",
            "ticks": ""
           },
           "baxis": {
            "gridcolor": "white",
            "linecolor": "white",
            "ticks": ""
           },
           "bgcolor": "#E5ECF6",
           "caxis": {
            "gridcolor": "white",
            "linecolor": "white",
            "ticks": ""
           }
          },
          "title": {
           "x": 0.05
          },
          "xaxis": {
           "automargin": true,
           "gridcolor": "white",
           "linecolor": "white",
           "ticks": "",
           "title": {
            "standoff": 15
           },
           "zerolinecolor": "white",
           "zerolinewidth": 2
          },
          "yaxis": {
           "automargin": true,
           "gridcolor": "white",
           "linecolor": "white",
           "ticks": "",
           "title": {
            "standoff": 15
           },
           "zerolinecolor": "white",
           "zerolinewidth": 2
          }
         }
        },
        "title": {
         "text": "\"Decision Trees SMOTE Achieves Highest Recall for Predicting Winners\""
        },
        "xaxis": {
         "title": {
          "text": "Model"
         }
        },
        "yaxis": {
         "range": [
          0,
          1
         ],
         "title": {
          "text": "Recall"
         }
        }
       }
      }
     },
     "metadata": {},
     "output_type": "display_data"
    }
   ],
   "source": [
    "# Recall scores for the winner class for each model\n",
    "recalls = [0.32, 0.32, 0.33, 0.26, 0.26, 0.69, 0.83, 0.51]\n",
    "\n",
    "# Colors for the bars - red if the score is the maximum, blue otherwise\n",
    "colors = ['red' if recall == max(recalls) else 'blue' for recall in recalls]\n",
    "\n",
    "# Create bar chart\n",
    "fig = go.Figure([go.Bar(x=models, y=recalls, marker_color=colors)])\n",
    "fig.update_layout(\n",
    "    title='\"Decision Trees SMOTE Achieves Highest Recall for Predicting Winners\"',\n",
    "    xaxis_title='Model',\n",
    "    yaxis_title='Recall',\n",
    "    yaxis=dict(range=[0, 1])\n",
    ")\n",
    "fig.show()"
   ]
  },
  {
   "cell_type": "markdown",
   "metadata": {},
   "source": [
    "This chart illustrates the recall scores of different models used to predict Formula 1 race winners. The bar in red, representing the Decision Trees SMOTE model, indicates it has the highest recall score. This means that this particular model is especially good at identifying true winners, rarely missing any. In the competitive field of F1 racing predictions, this is critical as it suggests we can reliably catch most of the actual winners. The significance of a high recall is that we minimize the risk of overlooking a potential race winner, ensuring that our predictions cover as many true winners as possible. This is particularly vital for stakeholders who may base their decisions on these predictions, as missing out on a winner could be more costly than incorrectly identifying a non-winner."
   ]
  },
  {
   "cell_type": "markdown",
   "metadata": {},
   "source": [
    "3. **Precision**:\n",
    "\n",
    "Precision tells us how accurate our predictions are when the model declares a driver as a potential winner. It's a critical measure when considering the costs of false positives — in other words, how often our model incorrectly signals an unlikely driver as a winner. High precision in our F1 race winner prediction model would mean that when it predicts a win, we can be quite confident in placing our bets on that driver."
   ]
  },
  {
   "cell_type": "code",
   "execution_count": null,
   "metadata": {},
   "outputs": [
    {
     "data": {
      "application/vnd.plotly.v1+json": {
       "config": {
        "plotlyServerURL": "https://plot.ly"
       },
       "data": [
        {
         "marker": {
          "color": [
           "red",
           "red",
           "blue",
           "blue",
           "blue",
           "blue",
           "blue",
           "blue"
          ]
         },
         "type": "bar",
         "x": [
          "Logistic Regression Untuned",
          "Logistic Regression Tuned",
          "Decision Tree Tuned",
          "Random Forest Untuned",
          "Random Forest Tuned",
          "Logistic Regression SMOTE",
          "Decision Trees SMOTE",
          "Random Forest SMOTE"
         ],
         "y": [
          0.64,
          0.64,
          0.42,
          0.53,
          0.53,
          0.36,
          0.31,
          0.47
         ]
        }
       ],
       "layout": {
        "template": {
         "data": {
          "bar": [
           {
            "error_x": {
             "color": "#2a3f5f"
            },
            "error_y": {
             "color": "#2a3f5f"
            },
            "marker": {
             "line": {
              "color": "#E5ECF6",
              "width": 0.5
             },
             "pattern": {
              "fillmode": "overlay",
              "size": 10,
              "solidity": 0.2
             }
            },
            "type": "bar"
           }
          ],
          "barpolar": [
           {
            "marker": {
             "line": {
              "color": "#E5ECF6",
              "width": 0.5
             },
             "pattern": {
              "fillmode": "overlay",
              "size": 10,
              "solidity": 0.2
             }
            },
            "type": "barpolar"
           }
          ],
          "carpet": [
           {
            "aaxis": {
             "endlinecolor": "#2a3f5f",
             "gridcolor": "white",
             "linecolor": "white",
             "minorgridcolor": "white",
             "startlinecolor": "#2a3f5f"
            },
            "baxis": {
             "endlinecolor": "#2a3f5f",
             "gridcolor": "white",
             "linecolor": "white",
             "minorgridcolor": "white",
             "startlinecolor": "#2a3f5f"
            },
            "type": "carpet"
           }
          ],
          "choropleth": [
           {
            "colorbar": {
             "outlinewidth": 0,
             "ticks": ""
            },
            "type": "choropleth"
           }
          ],
          "contour": [
           {
            "colorbar": {
             "outlinewidth": 0,
             "ticks": ""
            },
            "colorscale": [
             [
              0,
              "#0d0887"
             ],
             [
              0.1111111111111111,
              "#46039f"
             ],
             [
              0.2222222222222222,
              "#7201a8"
             ],
             [
              0.3333333333333333,
              "#9c179e"
             ],
             [
              0.4444444444444444,
              "#bd3786"
             ],
             [
              0.5555555555555556,
              "#d8576b"
             ],
             [
              0.6666666666666666,
              "#ed7953"
             ],
             [
              0.7777777777777778,
              "#fb9f3a"
             ],
             [
              0.8888888888888888,
              "#fdca26"
             ],
             [
              1,
              "#f0f921"
             ]
            ],
            "type": "contour"
           }
          ],
          "contourcarpet": [
           {
            "colorbar": {
             "outlinewidth": 0,
             "ticks": ""
            },
            "type": "contourcarpet"
           }
          ],
          "heatmap": [
           {
            "colorbar": {
             "outlinewidth": 0,
             "ticks": ""
            },
            "colorscale": [
             [
              0,
              "#0d0887"
             ],
             [
              0.1111111111111111,
              "#46039f"
             ],
             [
              0.2222222222222222,
              "#7201a8"
             ],
             [
              0.3333333333333333,
              "#9c179e"
             ],
             [
              0.4444444444444444,
              "#bd3786"
             ],
             [
              0.5555555555555556,
              "#d8576b"
             ],
             [
              0.6666666666666666,
              "#ed7953"
             ],
             [
              0.7777777777777778,
              "#fb9f3a"
             ],
             [
              0.8888888888888888,
              "#fdca26"
             ],
             [
              1,
              "#f0f921"
             ]
            ],
            "type": "heatmap"
           }
          ],
          "heatmapgl": [
           {
            "colorbar": {
             "outlinewidth": 0,
             "ticks": ""
            },
            "colorscale": [
             [
              0,
              "#0d0887"
             ],
             [
              0.1111111111111111,
              "#46039f"
             ],
             [
              0.2222222222222222,
              "#7201a8"
             ],
             [
              0.3333333333333333,
              "#9c179e"
             ],
             [
              0.4444444444444444,
              "#bd3786"
             ],
             [
              0.5555555555555556,
              "#d8576b"
             ],
             [
              0.6666666666666666,
              "#ed7953"
             ],
             [
              0.7777777777777778,
              "#fb9f3a"
             ],
             [
              0.8888888888888888,
              "#fdca26"
             ],
             [
              1,
              "#f0f921"
             ]
            ],
            "type": "heatmapgl"
           }
          ],
          "histogram": [
           {
            "marker": {
             "pattern": {
              "fillmode": "overlay",
              "size": 10,
              "solidity": 0.2
             }
            },
            "type": "histogram"
           }
          ],
          "histogram2d": [
           {
            "colorbar": {
             "outlinewidth": 0,
             "ticks": ""
            },
            "colorscale": [
             [
              0,
              "#0d0887"
             ],
             [
              0.1111111111111111,
              "#46039f"
             ],
             [
              0.2222222222222222,
              "#7201a8"
             ],
             [
              0.3333333333333333,
              "#9c179e"
             ],
             [
              0.4444444444444444,
              "#bd3786"
             ],
             [
              0.5555555555555556,
              "#d8576b"
             ],
             [
              0.6666666666666666,
              "#ed7953"
             ],
             [
              0.7777777777777778,
              "#fb9f3a"
             ],
             [
              0.8888888888888888,
              "#fdca26"
             ],
             [
              1,
              "#f0f921"
             ]
            ],
            "type": "histogram2d"
           }
          ],
          "histogram2dcontour": [
           {
            "colorbar": {
             "outlinewidth": 0,
             "ticks": ""
            },
            "colorscale": [
             [
              0,
              "#0d0887"
             ],
             [
              0.1111111111111111,
              "#46039f"
             ],
             [
              0.2222222222222222,
              "#7201a8"
             ],
             [
              0.3333333333333333,
              "#9c179e"
             ],
             [
              0.4444444444444444,
              "#bd3786"
             ],
             [
              0.5555555555555556,
              "#d8576b"
             ],
             [
              0.6666666666666666,
              "#ed7953"
             ],
             [
              0.7777777777777778,
              "#fb9f3a"
             ],
             [
              0.8888888888888888,
              "#fdca26"
             ],
             [
              1,
              "#f0f921"
             ]
            ],
            "type": "histogram2dcontour"
           }
          ],
          "mesh3d": [
           {
            "colorbar": {
             "outlinewidth": 0,
             "ticks": ""
            },
            "type": "mesh3d"
           }
          ],
          "parcoords": [
           {
            "line": {
             "colorbar": {
              "outlinewidth": 0,
              "ticks": ""
             }
            },
            "type": "parcoords"
           }
          ],
          "pie": [
           {
            "automargin": true,
            "type": "pie"
           }
          ],
          "scatter": [
           {
            "fillpattern": {
             "fillmode": "overlay",
             "size": 10,
             "solidity": 0.2
            },
            "type": "scatter"
           }
          ],
          "scatter3d": [
           {
            "line": {
             "colorbar": {
              "outlinewidth": 0,
              "ticks": ""
             }
            },
            "marker": {
             "colorbar": {
              "outlinewidth": 0,
              "ticks": ""
             }
            },
            "type": "scatter3d"
           }
          ],
          "scattercarpet": [
           {
            "marker": {
             "colorbar": {
              "outlinewidth": 0,
              "ticks": ""
             }
            },
            "type": "scattercarpet"
           }
          ],
          "scattergeo": [
           {
            "marker": {
             "colorbar": {
              "outlinewidth": 0,
              "ticks": ""
             }
            },
            "type": "scattergeo"
           }
          ],
          "scattergl": [
           {
            "marker": {
             "colorbar": {
              "outlinewidth": 0,
              "ticks": ""
             }
            },
            "type": "scattergl"
           }
          ],
          "scattermapbox": [
           {
            "marker": {
             "colorbar": {
              "outlinewidth": 0,
              "ticks": ""
             }
            },
            "type": "scattermapbox"
           }
          ],
          "scatterpolar": [
           {
            "marker": {
             "colorbar": {
              "outlinewidth": 0,
              "ticks": ""
             }
            },
            "type": "scatterpolar"
           }
          ],
          "scatterpolargl": [
           {
            "marker": {
             "colorbar": {
              "outlinewidth": 0,
              "ticks": ""
             }
            },
            "type": "scatterpolargl"
           }
          ],
          "scatterternary": [
           {
            "marker": {
             "colorbar": {
              "outlinewidth": 0,
              "ticks": ""
             }
            },
            "type": "scatterternary"
           }
          ],
          "surface": [
           {
            "colorbar": {
             "outlinewidth": 0,
             "ticks": ""
            },
            "colorscale": [
             [
              0,
              "#0d0887"
             ],
             [
              0.1111111111111111,
              "#46039f"
             ],
             [
              0.2222222222222222,
              "#7201a8"
             ],
             [
              0.3333333333333333,
              "#9c179e"
             ],
             [
              0.4444444444444444,
              "#bd3786"
             ],
             [
              0.5555555555555556,
              "#d8576b"
             ],
             [
              0.6666666666666666,
              "#ed7953"
             ],
             [
              0.7777777777777778,
              "#fb9f3a"
             ],
             [
              0.8888888888888888,
              "#fdca26"
             ],
             [
              1,
              "#f0f921"
             ]
            ],
            "type": "surface"
           }
          ],
          "table": [
           {
            "cells": {
             "fill": {
              "color": "#EBF0F8"
             },
             "line": {
              "color": "white"
             }
            },
            "header": {
             "fill": {
              "color": "#C8D4E3"
             },
             "line": {
              "color": "white"
             }
            },
            "type": "table"
           }
          ]
         },
         "layout": {
          "annotationdefaults": {
           "arrowcolor": "#2a3f5f",
           "arrowhead": 0,
           "arrowwidth": 1
          },
          "autotypenumbers": "strict",
          "coloraxis": {
           "colorbar": {
            "outlinewidth": 0,
            "ticks": ""
           }
          },
          "colorscale": {
           "diverging": [
            [
             0,
             "#8e0152"
            ],
            [
             0.1,
             "#c51b7d"
            ],
            [
             0.2,
             "#de77ae"
            ],
            [
             0.3,
             "#f1b6da"
            ],
            [
             0.4,
             "#fde0ef"
            ],
            [
             0.5,
             "#f7f7f7"
            ],
            [
             0.6,
             "#e6f5d0"
            ],
            [
             0.7,
             "#b8e186"
            ],
            [
             0.8,
             "#7fbc41"
            ],
            [
             0.9,
             "#4d9221"
            ],
            [
             1,
             "#276419"
            ]
           ],
           "sequential": [
            [
             0,
             "#0d0887"
            ],
            [
             0.1111111111111111,
             "#46039f"
            ],
            [
             0.2222222222222222,
             "#7201a8"
            ],
            [
             0.3333333333333333,
             "#9c179e"
            ],
            [
             0.4444444444444444,
             "#bd3786"
            ],
            [
             0.5555555555555556,
             "#d8576b"
            ],
            [
             0.6666666666666666,
             "#ed7953"
            ],
            [
             0.7777777777777778,
             "#fb9f3a"
            ],
            [
             0.8888888888888888,
             "#fdca26"
            ],
            [
             1,
             "#f0f921"
            ]
           ],
           "sequentialminus": [
            [
             0,
             "#0d0887"
            ],
            [
             0.1111111111111111,
             "#46039f"
            ],
            [
             0.2222222222222222,
             "#7201a8"
            ],
            [
             0.3333333333333333,
             "#9c179e"
            ],
            [
             0.4444444444444444,
             "#bd3786"
            ],
            [
             0.5555555555555556,
             "#d8576b"
            ],
            [
             0.6666666666666666,
             "#ed7953"
            ],
            [
             0.7777777777777778,
             "#fb9f3a"
            ],
            [
             0.8888888888888888,
             "#fdca26"
            ],
            [
             1,
             "#f0f921"
            ]
           ]
          },
          "colorway": [
           "#636efa",
           "#EF553B",
           "#00cc96",
           "#ab63fa",
           "#FFA15A",
           "#19d3f3",
           "#FF6692",
           "#B6E880",
           "#FF97FF",
           "#FECB52"
          ],
          "font": {
           "color": "#2a3f5f"
          },
          "geo": {
           "bgcolor": "white",
           "lakecolor": "white",
           "landcolor": "#E5ECF6",
           "showlakes": true,
           "showland": true,
           "subunitcolor": "white"
          },
          "hoverlabel": {
           "align": "left"
          },
          "hovermode": "closest",
          "mapbox": {
           "style": "light"
          },
          "paper_bgcolor": "white",
          "plot_bgcolor": "#E5ECF6",
          "polar": {
           "angularaxis": {
            "gridcolor": "white",
            "linecolor": "white",
            "ticks": ""
           },
           "bgcolor": "#E5ECF6",
           "radialaxis": {
            "gridcolor": "white",
            "linecolor": "white",
            "ticks": ""
           }
          },
          "scene": {
           "xaxis": {
            "backgroundcolor": "#E5ECF6",
            "gridcolor": "white",
            "gridwidth": 2,
            "linecolor": "white",
            "showbackground": true,
            "ticks": "",
            "zerolinecolor": "white"
           },
           "yaxis": {
            "backgroundcolor": "#E5ECF6",
            "gridcolor": "white",
            "gridwidth": 2,
            "linecolor": "white",
            "showbackground": true,
            "ticks": "",
            "zerolinecolor": "white"
           },
           "zaxis": {
            "backgroundcolor": "#E5ECF6",
            "gridcolor": "white",
            "gridwidth": 2,
            "linecolor": "white",
            "showbackground": true,
            "ticks": "",
            "zerolinecolor": "white"
           }
          },
          "shapedefaults": {
           "line": {
            "color": "#2a3f5f"
           }
          },
          "ternary": {
           "aaxis": {
            "gridcolor": "white",
            "linecolor": "white",
            "ticks": ""
           },
           "baxis": {
            "gridcolor": "white",
            "linecolor": "white",
            "ticks": ""
           },
           "bgcolor": "#E5ECF6",
           "caxis": {
            "gridcolor": "white",
            "linecolor": "white",
            "ticks": ""
           }
          },
          "title": {
           "x": 0.05
          },
          "xaxis": {
           "automargin": true,
           "gridcolor": "white",
           "linecolor": "white",
           "ticks": "",
           "title": {
            "standoff": 15
           },
           "zerolinecolor": "white",
           "zerolinewidth": 2
          },
          "yaxis": {
           "automargin": true,
           "gridcolor": "white",
           "linecolor": "white",
           "ticks": "",
           "title": {
            "standoff": 15
           },
           "zerolinecolor": "white",
           "zerolinewidth": 2
          }
         }
        },
        "title": {
         "text": "Model Precision Comparison for Winner Class: Best Model Highlighted"
        },
        "xaxis": {
         "title": {
          "text": "Model"
         }
        },
        "yaxis": {
         "range": [
          0,
          1
         ],
         "title": {
          "text": "Precision"
         }
        }
       }
      }
     },
     "metadata": {},
     "output_type": "display_data"
    }
   ],
   "source": [
    "# Precision scores for the winner class for each model\n",
    "precisions = [0.64, 0.64, 0.42, 0.53, 0.53, 0.36, 0.31, 0.47]\n",
    "\n",
    "# Colors for the bars - red if the score is the maximum, blue otherwise\n",
    "colors = ['red' if precision == max(precisions) else 'blue' for precision in precisions]\n",
    "\n",
    "# Create bar chart\n",
    "fig = go.Figure([go.Bar(x=models, y=precisions, marker_color=colors)])\n",
    "fig.update_layout(\n",
    "    title='Logistic Regression (Untuned and Tuned) Maintains Highest Precision for Winner Predictions',\n",
    "    xaxis_title='Model',\n",
    "    yaxis_title='Precision',\n",
    "    yaxis=dict(range=[0, 1])\n",
    ")\n",
    "fig.show()\n"
   ]
  },
  {
   "cell_type": "markdown",
   "metadata": {},
   "source": [
    "This chart lays out the precision scores for different models in our project, focusing on their ability to predict Formula 1 race winners accurately. The bars in red, which represent both the untuned and tuned Logistic Regression models, indicate the highest precision. This highlights that these models are particularly adept at correctly identifying winners—when they predict a driver is likely to win, they are right more often than the other models. In the context of F1 racing, where every prediction can have significant implications, the high precision of these models means we can trust their predictions more confidently, making them valuable tools for decision-making, whether it be in betting scenarios or for team strategies. High precision is crucial for us as it reduces the risk of false alarms and ensures that our resources are allocated to the most probable winners."
   ]
  },
  {
   "cell_type": "markdown",
   "metadata": {},
   "source": [
    "### What about F1 scores?"
   ]
  },
  {
   "cell_type": "markdown",
   "metadata": {},
   "source": [
    "In our project aimed at predicting F1 race winners, comparing the models' F1 scores, particularly the Macro F1 scores, is pivotal because it allows us to evaluate how well each model performs across both the frequent and rare outcomes — that is, losses and wins — with a balanced view. Since our data is highly skewed with much fewer wins than losses, the Macro F1 score is especially valuable; it ensures that the model's ability to correctly predict the less frequent but crucial 'win' outcomes is just as important in our evaluation as the 'loss' outcomes, leading us to a more effective and fair predictive model."
   ]
  },
  {
   "cell_type": "code",
   "execution_count": 10,
   "metadata": {},
   "outputs": [
    {
     "data": {
      "application/vnd.plotly.v1+json": {
       "config": {
        "plotlyServerURL": "https://plot.ly"
       },
       "data": [
        {
         "marker": {
          "color": [
           "blue",
           "blue",
           "blue",
           "blue",
           "blue",
           "blue",
           "blue",
           "red"
          ]
         },
         "type": "bar",
         "x": [
          "Logistic Regression Untuned",
          "Logistic Regression Tuned",
          "Decision Tree Tuned",
          "Random Forest Untuned",
          "Random Forest Tuned",
          "Logistic Regression SMOTE",
          "Decision Trees SMOTE",
          "Random Forest SMOTE"
         ],
         "y": [
          0.7,
          0.7,
          0.67,
          0.66,
          0.66,
          0.72,
          0.7,
          0.73
         ]
        }
       ],
       "layout": {
        "template": {
         "data": {
          "bar": [
           {
            "error_x": {
             "color": "#2a3f5f"
            },
            "error_y": {
             "color": "#2a3f5f"
            },
            "marker": {
             "line": {
              "color": "#E5ECF6",
              "width": 0.5
             },
             "pattern": {
              "fillmode": "overlay",
              "size": 10,
              "solidity": 0.2
             }
            },
            "type": "bar"
           }
          ],
          "barpolar": [
           {
            "marker": {
             "line": {
              "color": "#E5ECF6",
              "width": 0.5
             },
             "pattern": {
              "fillmode": "overlay",
              "size": 10,
              "solidity": 0.2
             }
            },
            "type": "barpolar"
           }
          ],
          "carpet": [
           {
            "aaxis": {
             "endlinecolor": "#2a3f5f",
             "gridcolor": "white",
             "linecolor": "white",
             "minorgridcolor": "white",
             "startlinecolor": "#2a3f5f"
            },
            "baxis": {
             "endlinecolor": "#2a3f5f",
             "gridcolor": "white",
             "linecolor": "white",
             "minorgridcolor": "white",
             "startlinecolor": "#2a3f5f"
            },
            "type": "carpet"
           }
          ],
          "choropleth": [
           {
            "colorbar": {
             "outlinewidth": 0,
             "ticks": ""
            },
            "type": "choropleth"
           }
          ],
          "contour": [
           {
            "colorbar": {
             "outlinewidth": 0,
             "ticks": ""
            },
            "colorscale": [
             [
              0,
              "#0d0887"
             ],
             [
              0.1111111111111111,
              "#46039f"
             ],
             [
              0.2222222222222222,
              "#7201a8"
             ],
             [
              0.3333333333333333,
              "#9c179e"
             ],
             [
              0.4444444444444444,
              "#bd3786"
             ],
             [
              0.5555555555555556,
              "#d8576b"
             ],
             [
              0.6666666666666666,
              "#ed7953"
             ],
             [
              0.7777777777777778,
              "#fb9f3a"
             ],
             [
              0.8888888888888888,
              "#fdca26"
             ],
             [
              1,
              "#f0f921"
             ]
            ],
            "type": "contour"
           }
          ],
          "contourcarpet": [
           {
            "colorbar": {
             "outlinewidth": 0,
             "ticks": ""
            },
            "type": "contourcarpet"
           }
          ],
          "heatmap": [
           {
            "colorbar": {
             "outlinewidth": 0,
             "ticks": ""
            },
            "colorscale": [
             [
              0,
              "#0d0887"
             ],
             [
              0.1111111111111111,
              "#46039f"
             ],
             [
              0.2222222222222222,
              "#7201a8"
             ],
             [
              0.3333333333333333,
              "#9c179e"
             ],
             [
              0.4444444444444444,
              "#bd3786"
             ],
             [
              0.5555555555555556,
              "#d8576b"
             ],
             [
              0.6666666666666666,
              "#ed7953"
             ],
             [
              0.7777777777777778,
              "#fb9f3a"
             ],
             [
              0.8888888888888888,
              "#fdca26"
             ],
             [
              1,
              "#f0f921"
             ]
            ],
            "type": "heatmap"
           }
          ],
          "heatmapgl": [
           {
            "colorbar": {
             "outlinewidth": 0,
             "ticks": ""
            },
            "colorscale": [
             [
              0,
              "#0d0887"
             ],
             [
              0.1111111111111111,
              "#46039f"
             ],
             [
              0.2222222222222222,
              "#7201a8"
             ],
             [
              0.3333333333333333,
              "#9c179e"
             ],
             [
              0.4444444444444444,
              "#bd3786"
             ],
             [
              0.5555555555555556,
              "#d8576b"
             ],
             [
              0.6666666666666666,
              "#ed7953"
             ],
             [
              0.7777777777777778,
              "#fb9f3a"
             ],
             [
              0.8888888888888888,
              "#fdca26"
             ],
             [
              1,
              "#f0f921"
             ]
            ],
            "type": "heatmapgl"
           }
          ],
          "histogram": [
           {
            "marker": {
             "pattern": {
              "fillmode": "overlay",
              "size": 10,
              "solidity": 0.2
             }
            },
            "type": "histogram"
           }
          ],
          "histogram2d": [
           {
            "colorbar": {
             "outlinewidth": 0,
             "ticks": ""
            },
            "colorscale": [
             [
              0,
              "#0d0887"
             ],
             [
              0.1111111111111111,
              "#46039f"
             ],
             [
              0.2222222222222222,
              "#7201a8"
             ],
             [
              0.3333333333333333,
              "#9c179e"
             ],
             [
              0.4444444444444444,
              "#bd3786"
             ],
             [
              0.5555555555555556,
              "#d8576b"
             ],
             [
              0.6666666666666666,
              "#ed7953"
             ],
             [
              0.7777777777777778,
              "#fb9f3a"
             ],
             [
              0.8888888888888888,
              "#fdca26"
             ],
             [
              1,
              "#f0f921"
             ]
            ],
            "type": "histogram2d"
           }
          ],
          "histogram2dcontour": [
           {
            "colorbar": {
             "outlinewidth": 0,
             "ticks": ""
            },
            "colorscale": [
             [
              0,
              "#0d0887"
             ],
             [
              0.1111111111111111,
              "#46039f"
             ],
             [
              0.2222222222222222,
              "#7201a8"
             ],
             [
              0.3333333333333333,
              "#9c179e"
             ],
             [
              0.4444444444444444,
              "#bd3786"
             ],
             [
              0.5555555555555556,
              "#d8576b"
             ],
             [
              0.6666666666666666,
              "#ed7953"
             ],
             [
              0.7777777777777778,
              "#fb9f3a"
             ],
             [
              0.8888888888888888,
              "#fdca26"
             ],
             [
              1,
              "#f0f921"
             ]
            ],
            "type": "histogram2dcontour"
           }
          ],
          "mesh3d": [
           {
            "colorbar": {
             "outlinewidth": 0,
             "ticks": ""
            },
            "type": "mesh3d"
           }
          ],
          "parcoords": [
           {
            "line": {
             "colorbar": {
              "outlinewidth": 0,
              "ticks": ""
             }
            },
            "type": "parcoords"
           }
          ],
          "pie": [
           {
            "automargin": true,
            "type": "pie"
           }
          ],
          "scatter": [
           {
            "fillpattern": {
             "fillmode": "overlay",
             "size": 10,
             "solidity": 0.2
            },
            "type": "scatter"
           }
          ],
          "scatter3d": [
           {
            "line": {
             "colorbar": {
              "outlinewidth": 0,
              "ticks": ""
             }
            },
            "marker": {
             "colorbar": {
              "outlinewidth": 0,
              "ticks": ""
             }
            },
            "type": "scatter3d"
           }
          ],
          "scattercarpet": [
           {
            "marker": {
             "colorbar": {
              "outlinewidth": 0,
              "ticks": ""
             }
            },
            "type": "scattercarpet"
           }
          ],
          "scattergeo": [
           {
            "marker": {
             "colorbar": {
              "outlinewidth": 0,
              "ticks": ""
             }
            },
            "type": "scattergeo"
           }
          ],
          "scattergl": [
           {
            "marker": {
             "colorbar": {
              "outlinewidth": 0,
              "ticks": ""
             }
            },
            "type": "scattergl"
           }
          ],
          "scattermapbox": [
           {
            "marker": {
             "colorbar": {
              "outlinewidth": 0,
              "ticks": ""
             }
            },
            "type": "scattermapbox"
           }
          ],
          "scatterpolar": [
           {
            "marker": {
             "colorbar": {
              "outlinewidth": 0,
              "ticks": ""
             }
            },
            "type": "scatterpolar"
           }
          ],
          "scatterpolargl": [
           {
            "marker": {
             "colorbar": {
              "outlinewidth": 0,
              "ticks": ""
             }
            },
            "type": "scatterpolargl"
           }
          ],
          "scatterternary": [
           {
            "marker": {
             "colorbar": {
              "outlinewidth": 0,
              "ticks": ""
             }
            },
            "type": "scatterternary"
           }
          ],
          "surface": [
           {
            "colorbar": {
             "outlinewidth": 0,
             "ticks": ""
            },
            "colorscale": [
             [
              0,
              "#0d0887"
             ],
             [
              0.1111111111111111,
              "#46039f"
             ],
             [
              0.2222222222222222,
              "#7201a8"
             ],
             [
              0.3333333333333333,
              "#9c179e"
             ],
             [
              0.4444444444444444,
              "#bd3786"
             ],
             [
              0.5555555555555556,
              "#d8576b"
             ],
             [
              0.6666666666666666,
              "#ed7953"
             ],
             [
              0.7777777777777778,
              "#fb9f3a"
             ],
             [
              0.8888888888888888,
              "#fdca26"
             ],
             [
              1,
              "#f0f921"
             ]
            ],
            "type": "surface"
           }
          ],
          "table": [
           {
            "cells": {
             "fill": {
              "color": "#EBF0F8"
             },
             "line": {
              "color": "white"
             }
            },
            "header": {
             "fill": {
              "color": "#C8D4E3"
             },
             "line": {
              "color": "white"
             }
            },
            "type": "table"
           }
          ]
         },
         "layout": {
          "annotationdefaults": {
           "arrowcolor": "#2a3f5f",
           "arrowhead": 0,
           "arrowwidth": 1
          },
          "autotypenumbers": "strict",
          "coloraxis": {
           "colorbar": {
            "outlinewidth": 0,
            "ticks": ""
           }
          },
          "colorscale": {
           "diverging": [
            [
             0,
             "#8e0152"
            ],
            [
             0.1,
             "#c51b7d"
            ],
            [
             0.2,
             "#de77ae"
            ],
            [
             0.3,
             "#f1b6da"
            ],
            [
             0.4,
             "#fde0ef"
            ],
            [
             0.5,
             "#f7f7f7"
            ],
            [
             0.6,
             "#e6f5d0"
            ],
            [
             0.7,
             "#b8e186"
            ],
            [
             0.8,
             "#7fbc41"
            ],
            [
             0.9,
             "#4d9221"
            ],
            [
             1,
             "#276419"
            ]
           ],
           "sequential": [
            [
             0,
             "#0d0887"
            ],
            [
             0.1111111111111111,
             "#46039f"
            ],
            [
             0.2222222222222222,
             "#7201a8"
            ],
            [
             0.3333333333333333,
             "#9c179e"
            ],
            [
             0.4444444444444444,
             "#bd3786"
            ],
            [
             0.5555555555555556,
             "#d8576b"
            ],
            [
             0.6666666666666666,
             "#ed7953"
            ],
            [
             0.7777777777777778,
             "#fb9f3a"
            ],
            [
             0.8888888888888888,
             "#fdca26"
            ],
            [
             1,
             "#f0f921"
            ]
           ],
           "sequentialminus": [
            [
             0,
             "#0d0887"
            ],
            [
             0.1111111111111111,
             "#46039f"
            ],
            [
             0.2222222222222222,
             "#7201a8"
            ],
            [
             0.3333333333333333,
             "#9c179e"
            ],
            [
             0.4444444444444444,
             "#bd3786"
            ],
            [
             0.5555555555555556,
             "#d8576b"
            ],
            [
             0.6666666666666666,
             "#ed7953"
            ],
            [
             0.7777777777777778,
             "#fb9f3a"
            ],
            [
             0.8888888888888888,
             "#fdca26"
            ],
            [
             1,
             "#f0f921"
            ]
           ]
          },
          "colorway": [
           "#636efa",
           "#EF553B",
           "#00cc96",
           "#ab63fa",
           "#FFA15A",
           "#19d3f3",
           "#FF6692",
           "#B6E880",
           "#FF97FF",
           "#FECB52"
          ],
          "font": {
           "color": "#2a3f5f"
          },
          "geo": {
           "bgcolor": "white",
           "lakecolor": "white",
           "landcolor": "#E5ECF6",
           "showlakes": true,
           "showland": true,
           "subunitcolor": "white"
          },
          "hoverlabel": {
           "align": "left"
          },
          "hovermode": "closest",
          "mapbox": {
           "style": "light"
          },
          "paper_bgcolor": "white",
          "plot_bgcolor": "#E5ECF6",
          "polar": {
           "angularaxis": {
            "gridcolor": "white",
            "linecolor": "white",
            "ticks": ""
           },
           "bgcolor": "#E5ECF6",
           "radialaxis": {
            "gridcolor": "white",
            "linecolor": "white",
            "ticks": ""
           }
          },
          "scene": {
           "xaxis": {
            "backgroundcolor": "#E5ECF6",
            "gridcolor": "white",
            "gridwidth": 2,
            "linecolor": "white",
            "showbackground": true,
            "ticks": "",
            "zerolinecolor": "white"
           },
           "yaxis": {
            "backgroundcolor": "#E5ECF6",
            "gridcolor": "white",
            "gridwidth": 2,
            "linecolor": "white",
            "showbackground": true,
            "ticks": "",
            "zerolinecolor": "white"
           },
           "zaxis": {
            "backgroundcolor": "#E5ECF6",
            "gridcolor": "white",
            "gridwidth": 2,
            "linecolor": "white",
            "showbackground": true,
            "ticks": "",
            "zerolinecolor": "white"
           }
          },
          "shapedefaults": {
           "line": {
            "color": "#2a3f5f"
           }
          },
          "ternary": {
           "aaxis": {
            "gridcolor": "white",
            "linecolor": "white",
            "ticks": ""
           },
           "baxis": {
            "gridcolor": "white",
            "linecolor": "white",
            "ticks": ""
           },
           "bgcolor": "#E5ECF6",
           "caxis": {
            "gridcolor": "white",
            "linecolor": "white",
            "ticks": ""
           }
          },
          "title": {
           "x": 0.05
          },
          "xaxis": {
           "automargin": true,
           "gridcolor": "white",
           "linecolor": "white",
           "ticks": "",
           "title": {
            "standoff": 15
           },
           "zerolinecolor": "white",
           "zerolinewidth": 2
          },
          "yaxis": {
           "automargin": true,
           "gridcolor": "white",
           "linecolor": "white",
           "ticks": "",
           "title": {
            "standoff": 15
           },
           "zerolinecolor": "white",
           "zerolinewidth": 2
          }
         }
        },
        "title": {
         "text": "Comparison of F1 Macro Average Scores Across Models"
        },
        "xaxis": {
         "title": {
          "text": "Model"
         }
        },
        "yaxis": {
         "range": [
          0,
          1
         ],
         "title": {
          "text": "F1 Macro Average Score"
         }
        }
       }
      }
     },
     "metadata": {},
     "output_type": "display_data"
    }
   ],
   "source": [
    "import plotly.graph_objects as go\n",
    "\n",
    "# F1 macro average scores for each model\n",
    "f1_scores = [0.70, 0.70, 0.67, 0.66, 0.66, 0.72, 0.70, 0.73]\n",
    "models = [\n",
    "    'Logistic Regression Untuned', 'Logistic Regression Tuned',\n",
    "    'Decision Tree Tuned', 'Random Forest Untuned',\n",
    "    'Random Forest Tuned', 'Logistic Regression SMOTE',\n",
    "    'Decision Trees SMOTE', 'Random Forest SMOTE'\n",
    "]\n",
    "\n",
    "# Colors for the bars - red if the score is the maximum, blue otherwise\n",
    "colors = ['red' if f1_score == max(f1_scores) else 'blue' for f1_score in f1_scores]\n",
    "\n",
    "# Create bar chart\n",
    "fig = go.Figure([go.Bar(x=models, y=f1_scores, marker_color=colors)])\n",
    "fig.update_layout(\n",
    "    title='Comparison of F1 Macro Average Scores Across Models',\n",
    "    xaxis_title='Model',\n",
    "    yaxis_title='F1 Macro Average Score',\n",
    "    yaxis=dict(range=[0, 1])\n",
    ")\n",
    "fig.show()\n"
   ]
  },
  {
   "cell_type": "markdown",
   "metadata": {},
   "source": [
    "This chart displays the F1 macro average scores of various predictive models we've constructed to forecast Formula 1 race winners. The red bar indicates that the Random Forest model with SMOTE (Synthetic Minority Over-sampling Technique) has the highest F1 macro average score of 0.73, suggesting that this model has the most balanced performance across both classes in our dataset, despite the inherent class imbalance. Therefore, as of now, the Random Forest SMOTE model stands out as the best model for this particular task, striking an effective balance between precision and recall."
   ]
  },
  {
   "cell_type": "markdown",
   "metadata": {},
   "source": []
  },
  {
   "cell_type": "code",
   "execution_count": 45,
   "metadata": {},
   "outputs": [
    {
     "data": {
      "text/html": [
       "<div>\n",
       "<style scoped>\n",
       "    .dataframe tbody tr th:only-of-type {\n",
       "        vertical-align: middle;\n",
       "    }\n",
       "\n",
       "    .dataframe tbody tr th {\n",
       "        vertical-align: top;\n",
       "    }\n",
       "\n",
       "    .dataframe thead th {\n",
       "        text-align: right;\n",
       "    }\n",
       "</style>\n",
       "<table border=\"1\" class=\"dataframe\">\n",
       "  <thead>\n",
       "    <tr style=\"text-align: right;\">\n",
       "      <th></th>\n",
       "      <th>race_index</th>\n",
       "      <th>year</th>\n",
       "      <th>F2_champion</th>\n",
       "      <th>Former_F1_World_Champion</th>\n",
       "      <th>home_race</th>\n",
       "      <th>constructorId</th>\n",
       "      <th>starting_grid_position</th>\n",
       "      <th>points_in_previous_race</th>\n",
       "      <th>laps_in_previous_race</th>\n",
       "      <th>constructorId_points_at_stage_of_season</th>\n",
       "      <th>...</th>\n",
       "      <th>Nationality_Polish</th>\n",
       "      <th>Nationality_Portuguese</th>\n",
       "      <th>Nationality_Russian</th>\n",
       "      <th>Nationality_Spanish</th>\n",
       "      <th>Nationality_Swedish</th>\n",
       "      <th>Nationality_Swiss</th>\n",
       "      <th>Nationality_Thai</th>\n",
       "      <th>Nationality_Venezuelan</th>\n",
       "      <th>target</th>\n",
       "      <th>Predicted_y</th>\n",
       "    </tr>\n",
       "  </thead>\n",
       "  <tbody>\n",
       "    <tr>\n",
       "      <th>0</th>\n",
       "      <td>377</td>\n",
       "      <td>2016</td>\n",
       "      <td>0</td>\n",
       "      <td>1</td>\n",
       "      <td>0</td>\n",
       "      <td>1</td>\n",
       "      <td>13</td>\n",
       "      <td>2.0</td>\n",
       "      <td>65.0</td>\n",
       "      <td>24.0</td>\n",
       "      <td>...</td>\n",
       "      <td>False</td>\n",
       "      <td>False</td>\n",
       "      <td>False</td>\n",
       "      <td>False</td>\n",
       "      <td>False</td>\n",
       "      <td>False</td>\n",
       "      <td>False</td>\n",
       "      <td>False</td>\n",
       "      <td>0</td>\n",
       "      <td>0</td>\n",
       "    </tr>\n",
       "    <tr>\n",
       "      <th>1</th>\n",
       "      <td>301</td>\n",
       "      <td>2012</td>\n",
       "      <td>1</td>\n",
       "      <td>1</td>\n",
       "      <td>0</td>\n",
       "      <td>1</td>\n",
       "      <td>2</td>\n",
       "      <td>10.0</td>\n",
       "      <td>78.0</td>\n",
       "      <td>133.0</td>\n",
       "      <td>...</td>\n",
       "      <td>False</td>\n",
       "      <td>False</td>\n",
       "      <td>False</td>\n",
       "      <td>False</td>\n",
       "      <td>False</td>\n",
       "      <td>False</td>\n",
       "      <td>False</td>\n",
       "      <td>False</td>\n",
       "      <td>1</td>\n",
       "      <td>1</td>\n",
       "    </tr>\n",
       "    <tr>\n",
       "      <th>2</th>\n",
       "      <td>8</td>\n",
       "      <td>1995</td>\n",
       "      <td>0</td>\n",
       "      <td>0</td>\n",
       "      <td>0</td>\n",
       "      <td>17</td>\n",
       "      <td>9</td>\n",
       "      <td>1.0</td>\n",
       "      <td>71.0</td>\n",
       "      <td>13.0</td>\n",
       "      <td>...</td>\n",
       "      <td>False</td>\n",
       "      <td>False</td>\n",
       "      <td>False</td>\n",
       "      <td>False</td>\n",
       "      <td>False</td>\n",
       "      <td>False</td>\n",
       "      <td>False</td>\n",
       "      <td>False</td>\n",
       "      <td>0</td>\n",
       "      <td>0</td>\n",
       "    </tr>\n",
       "    <tr>\n",
       "      <th>3</th>\n",
       "      <td>403</td>\n",
       "      <td>2017</td>\n",
       "      <td>0</td>\n",
       "      <td>0</td>\n",
       "      <td>0</td>\n",
       "      <td>9</td>\n",
       "      <td>6</td>\n",
       "      <td>10.0</td>\n",
       "      <td>51.0</td>\n",
       "      <td>184.0</td>\n",
       "      <td>...</td>\n",
       "      <td>False</td>\n",
       "      <td>False</td>\n",
       "      <td>False</td>\n",
       "      <td>False</td>\n",
       "      <td>False</td>\n",
       "      <td>False</td>\n",
       "      <td>False</td>\n",
       "      <td>False</td>\n",
       "      <td>0</td>\n",
       "      <td>0</td>\n",
       "    </tr>\n",
       "    <tr>\n",
       "      <th>4</th>\n",
       "      <td>216</td>\n",
       "      <td>2007</td>\n",
       "      <td>0</td>\n",
       "      <td>0</td>\n",
       "      <td>0</td>\n",
       "      <td>6</td>\n",
       "      <td>1</td>\n",
       "      <td>0.0</td>\n",
       "      <td>69.0</td>\n",
       "      <td>137.0</td>\n",
       "      <td>...</td>\n",
       "      <td>False</td>\n",
       "      <td>False</td>\n",
       "      <td>False</td>\n",
       "      <td>False</td>\n",
       "      <td>False</td>\n",
       "      <td>False</td>\n",
       "      <td>False</td>\n",
       "      <td>False</td>\n",
       "      <td>1</td>\n",
       "      <td>1</td>\n",
       "    </tr>\n",
       "  </tbody>\n",
       "</table>\n",
       "<p>5 rows × 82 columns</p>\n",
       "</div>"
      ],
      "text/plain": [
       "   race_index  year  F2_champion  Former_F1_World_Champion  home_race  \\\n",
       "0         377  2016            0                         1          0   \n",
       "1         301  2012            1                         1          0   \n",
       "2           8  1995            0                         0          0   \n",
       "3         403  2017            0                         0          0   \n",
       "4         216  2007            0                         0          0   \n",
       "\n",
       "   constructorId  starting_grid_position  points_in_previous_race  \\\n",
       "0              1                      13                      2.0   \n",
       "1              1                       2                     10.0   \n",
       "2             17                       9                      1.0   \n",
       "3              9                       6                     10.0   \n",
       "4              6                       1                      0.0   \n",
       "\n",
       "   laps_in_previous_race  constructorId_points_at_stage_of_season  ...  \\\n",
       "0                   65.0                                     24.0  ...   \n",
       "1                   78.0                                    133.0  ...   \n",
       "2                   71.0                                     13.0  ...   \n",
       "3                   51.0                                    184.0  ...   \n",
       "4                   69.0                                    137.0  ...   \n",
       "\n",
       "   Nationality_Polish  Nationality_Portuguese  Nationality_Russian  \\\n",
       "0               False                   False                False   \n",
       "1               False                   False                False   \n",
       "2               False                   False                False   \n",
       "3               False                   False                False   \n",
       "4               False                   False                False   \n",
       "\n",
       "   Nationality_Spanish  Nationality_Swedish  Nationality_Swiss  \\\n",
       "0                False                False              False   \n",
       "1                False                False              False   \n",
       "2                False                False              False   \n",
       "3                False                False              False   \n",
       "4                False                False              False   \n",
       "\n",
       "   Nationality_Thai  Nationality_Venezuelan  target  Predicted_y  \n",
       "0             False                   False       0            0  \n",
       "1             False                   False       1            1  \n",
       "2             False                   False       0            0  \n",
       "3             False                   False       0            0  \n",
       "4             False                   False       1            1  \n",
       "\n",
       "[5 rows x 82 columns]"
      ]
     },
     "execution_count": 45,
     "metadata": {},
     "output_type": "execute_result"
    }
   ],
   "source": [
    "\n",
    "\n",
    "# Load the resampled dataframe\n",
    "df_resampled = pd.read_csv('C:/Users/Alex/OneDrive/BrainStation/Data_Science_Bootcamp/Capstone_Project/capstone-Aboard89/oversampled_data.csv')\n",
    "\n",
    "X_resampled = df_resampled.drop('target', axis=1)\n",
    "y_resampled = df_resampled['target']\n",
    "\n",
    "# Initialize the best Random Forest model with the best parameters found\n",
    "best_rf_model = RandomForestClassifier(max_depth=40, n_estimators=300, random_state=42)\n",
    "best_rf_model.fit(X_resampled, y_resampled)\n",
    "\n",
    "# Predict the 'y' values using the best model\n",
    "y_pred = best_rf_model.predict(X_resampled)\n",
    "\n",
    "# Filter the original dataframe to include only the year 2023\n",
    "df_resampled_rf = df_resampled.copy()\n",
    "\n",
    "# Assuming the resampled dataframe has the same index as the original\n",
    "df_resampled_rf = df_resampled_rf.assign(Predicted_y=y_pred[df_2023.index])\n",
    "\n",
    "# Display the dataframe with the predicted values\n",
    "df_resampled_rf.head()  # Replace .head() with the appropriate method to display your dataframe\n"
   ]
  },
  {
   "cell_type": "code",
   "execution_count": 140,
   "metadata": {},
   "outputs": [],
   "source": [
    "# Save the DataFrame to a CSV file named 'df_2023.csv' (excluding the index column)\n",
    "df_resampled_rf.to_csv('df_resampled_rf.csv', index=False)"
   ]
  },
  {
   "cell_type": "markdown",
   "metadata": {},
   "source": [
    "### **Conclusion... so far**\n",
    "\n",
    "Among the models we've examined, the **Random Forest SMOTE** emerges as the frontrunner. It strikes the best balance between, accuracy, precision and recall for predicting race winners, suggesting a more nuanced understanding of the complex factors that contribute to a race win. With the highest overall accuracy and a moderate level of both false positives and false negatives, it shows a strong ability to generalize predictions to new data while maintaining a dependable level of precision. This makes it the most suitable model for us to deploy in predicting F1 race winners, offering a reliable blend of sensitivity and specificity in its forecasting."
   ]
  },
  {
   "cell_type": "markdown",
   "metadata": {},
   "source": [
    "### **Next Steps**\n",
    "Building on our conclusion that the **Random Forest SMOTE** model stands out as the most balanced and accurate for predicting F1 race winners, the next steps to refine the model would focus on a couple of strategic areas. First, we could delve deeper into feature engineering—examining the current features for more insightful correlations and potentially developing new ones that capture the dynamics of race performance better. Second, considering the complexity of F1 races, we might explore more sophisticated ensemble techniques or even neural networks that could capture non-linear relationships in the data. All these efforts should be underpinned by a robust cross-validation strategy to ensure the enhancements lead to actual predictive gains, not just fitting to the noise in our training data."
   ]
  }
 ],
 "metadata": {
  "kernelspec": {
   "display_name": "capstone",
   "language": "python",
   "name": "python3"
  },
  "language_info": {
   "codemirror_mode": {
    "name": "ipython",
    "version": 3
   },
   "file_extension": ".py",
   "mimetype": "text/x-python",
   "name": "python",
   "nbconvert_exporter": "python",
   "pygments_lexer": "ipython3",
   "version": "3.8.18"
  }
 },
 "nbformat": 4,
 "nbformat_minor": 2
}
