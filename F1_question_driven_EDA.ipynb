{
 "cells": [
  {
   "cell_type": "code",
   "execution_count": null,
   "metadata": {},
   "outputs": [],
   "source": [
    "#"
   ]
  },
  {
   "cell_type": "markdown",
   "metadata": {},
   "source": [
    "# Question Driven EDA"
   ]
  },
  {
   "cell_type": "markdown",
   "metadata": {},
   "source": [
    "1. Q1: Where are most races held?\n",
    "Visualize: Create a map with locations marked or a bar chart of race frequencies per location.\n",
    "Test: Identify if certain locations have statistically more races.\n",
    "\n",
    "2. Q2: Which teams win the most?\n",
    "Visualize: Bar chart of wins per team.\n",
    "Test: Look for statistically significant differences in win rates between teams.\n",
    "\n",
    "3. Q3: Which engines win the most?\n",
    "Visualize: Bar chart or pie chart of engine wins.\n",
    "Test: Analyze if engine type is a significant predictor of wins.\n",
    "\n",
    "4. Q4: How important is pole position?\n",
    "Visualize: Compare win rates from pole positions versus other starting positions.\n",
    "Test: Perform hypothesis testing or logistic regression analysis.\n",
    "\n",
    "5. Q5: Impact of constructor points on winning likelihood\n",
    "Visualize: Scatter plot of constructor points vs. win rates.\n",
    "Test: Correlation analysis or regression modeling.\n",
    "\n",
    "6. Q6: Impact of driver points on winning likelihood\n",
    "Visualize: Plot driver points against win rates for drivers within the same team.\n",
    "Test: Use paired comparisons or time-series analysis if data is over multiple seasons.\n",
    "\n",
    "7. Q7: Driver specialties on certain track types\n",
    "Visualize: Win rates of drivers by track type.\n",
    "Test: Cluster analysis to group drivers by performance patterns on track types.\n",
    "\n",
    "8. Q8: Likelihood of winning a home race\n",
    "Visualize: Compare home wins to non-home wins for drivers.\n",
    "Test: Analyze whether being a home race is a significant predictor of winning.\n",
    "\n",
    "9. Q9: Correlation between laps completed in the last race and current race outcome\n",
    "Visualize: Scatter plot or line plot of last race completion vs. current race result.\n",
    "Test: Correlation coefficient calculation and regression analysis."
   ]
  }
 ],
 "metadata": {
  "language_info": {
   "name": "python"
  }
 },
 "nbformat": 4,
 "nbformat_minor": 2
}
