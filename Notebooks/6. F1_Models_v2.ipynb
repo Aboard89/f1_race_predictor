{
 "cells": [
  {
   "cell_type": "markdown",
   "metadata": {},
   "source": [
    "# Model V2 Notebook"
   ]
  },
  {
   "cell_type": "markdown",
   "metadata": {},
   "source": [
    "#### 1. Import Packages"
   ]
  },
  {
   "cell_type": "code",
   "execution_count": 9,
   "metadata": {},
   "outputs": [],
   "source": [
    "# Basic Packages\n",
    "import numpy as np\n",
    "import pandas as pd\n",
    "import matplotlib.pyplot as plt\n",
    "import seaborn as sns\n",
    "import re\n",
    "import string\n",
    "\n",
    "# SK Packages\n",
    "from tempfile import mkdtemp\n",
    "from sklearn.pipeline import Pipeline\n",
    "from sklearn.preprocessing import StandardScaler\n",
    "from sklearn.decomposition import PCA\n",
    "from sklearn.linear_model import LogisticRegression\n",
    "from sklearn.model_selection import cross_val_score, GridSearchCV\n",
    "from sklearn.metrics import classification_report, confusion_matrix\n",
    "from sklearn.metrics import accuracy_score\n",
    "from sklearn.metrics import precision_score, recall_score, f1_score\n",
    "from sklearn.metrics import roc_auc_score, roc_curve\n",
    "from sklearn.tree import DecisionTreeClassifier\n",
    "from sklearn.model_selection import train_test_split\n",
    "from sklearn.ensemble import RandomForestClassifier\n",
    "\n",
    "import joblib"
   ]
  },
  {
   "cell_type": "markdown",
   "metadata": {},
   "source": [
    "#### 2. Import Data"
   ]
  },
  {
   "cell_type": "code",
   "execution_count": 69,
   "metadata": {},
   "outputs": [],
   "source": [
    "# Load DataFrame\n",
    "file = 'C:/Users/Alex/OneDrive/BrainStation/Data_Science_Bootcamp/Capstone_Project/capstone-Aboard89/Notebooks/model_data_v2.csv'\n",
    "df = pd.read_csv(file)"
   ]
  },
  {
   "cell_type": "code",
   "execution_count": 70,
   "metadata": {},
   "outputs": [
    {
     "data": {
      "text/html": [
       "<div>\n",
       "<style scoped>\n",
       "    .dataframe tbody tr th:only-of-type {\n",
       "        vertical-align: middle;\n",
       "    }\n",
       "\n",
       "    .dataframe tbody tr th {\n",
       "        vertical-align: top;\n",
       "    }\n",
       "\n",
       "    .dataframe thead th {\n",
       "        text-align: right;\n",
       "    }\n",
       "</style>\n",
       "<table border=\"1\" class=\"dataframe\">\n",
       "  <thead>\n",
       "    <tr style=\"text-align: right;\">\n",
       "      <th></th>\n",
       "      <th>Reindex</th>\n",
       "      <th>year</th>\n",
       "      <th>age</th>\n",
       "      <th>years_in_f1</th>\n",
       "      <th>races_with_each_team_since_1995</th>\n",
       "      <th>F2_champion</th>\n",
       "      <th>Former_F1_World_Champion</th>\n",
       "      <th>home_race</th>\n",
       "      <th>starting_grid_position</th>\n",
       "      <th>points_in_previous_race</th>\n",
       "      <th>...</th>\n",
       "      <th>constructorId_3</th>\n",
       "      <th>constructorId_30</th>\n",
       "      <th>constructorId_31</th>\n",
       "      <th>constructorId_4</th>\n",
       "      <th>constructorId_5</th>\n",
       "      <th>constructorId_51</th>\n",
       "      <th>constructorId_6</th>\n",
       "      <th>constructorId_7</th>\n",
       "      <th>constructorId_8</th>\n",
       "      <th>constructorId_9</th>\n",
       "    </tr>\n",
       "  </thead>\n",
       "  <tbody>\n",
       "    <tr>\n",
       "      <th>0</th>\n",
       "      <td>2199517</td>\n",
       "      <td>1995</td>\n",
       "      <td>29</td>\n",
       "      <td>4</td>\n",
       "      <td>1</td>\n",
       "      <td>0</td>\n",
       "      <td>0</td>\n",
       "      <td>0</td>\n",
       "      <td>17</td>\n",
       "      <td>1.0</td>\n",
       "      <td>...</td>\n",
       "      <td>False</td>\n",
       "      <td>False</td>\n",
       "      <td>False</td>\n",
       "      <td>False</td>\n",
       "      <td>False</td>\n",
       "      <td>False</td>\n",
       "      <td>False</td>\n",
       "      <td>False</td>\n",
       "      <td>False</td>\n",
       "      <td>False</td>\n",
       "    </tr>\n",
       "    <tr>\n",
       "      <th>1</th>\n",
       "      <td>219955</td>\n",
       "      <td>1995</td>\n",
       "      <td>26</td>\n",
       "      <td>4</td>\n",
       "      <td>1</td>\n",
       "      <td>0</td>\n",
       "      <td>0</td>\n",
       "      <td>0</td>\n",
       "      <td>5</td>\n",
       "      <td>3.0</td>\n",
       "      <td>...</td>\n",
       "      <td>False</td>\n",
       "      <td>False</td>\n",
       "      <td>False</td>\n",
       "      <td>False</td>\n",
       "      <td>False</td>\n",
       "      <td>False</td>\n",
       "      <td>False</td>\n",
       "      <td>False</td>\n",
       "      <td>False</td>\n",
       "      <td>False</td>\n",
       "    </tr>\n",
       "    <tr>\n",
       "      <th>2</th>\n",
       "      <td>219951</td>\n",
       "      <td>1995</td>\n",
       "      <td>24</td>\n",
       "      <td>1</td>\n",
       "      <td>1</td>\n",
       "      <td>0</td>\n",
       "      <td>0</td>\n",
       "      <td>0</td>\n",
       "      <td>1</td>\n",
       "      <td>6.0</td>\n",
       "      <td>...</td>\n",
       "      <td>True</td>\n",
       "      <td>False</td>\n",
       "      <td>False</td>\n",
       "      <td>False</td>\n",
       "      <td>False</td>\n",
       "      <td>False</td>\n",
       "      <td>False</td>\n",
       "      <td>False</td>\n",
       "      <td>False</td>\n",
       "      <td>False</td>\n",
       "    </tr>\n",
       "    <tr>\n",
       "      <th>3</th>\n",
       "      <td>219952</td>\n",
       "      <td>1995</td>\n",
       "      <td>34</td>\n",
       "      <td>3</td>\n",
       "      <td>1</td>\n",
       "      <td>0</td>\n",
       "      <td>1</td>\n",
       "      <td>0</td>\n",
       "      <td>2</td>\n",
       "      <td>0.0</td>\n",
       "      <td>...</td>\n",
       "      <td>True</td>\n",
       "      <td>False</td>\n",
       "      <td>False</td>\n",
       "      <td>False</td>\n",
       "      <td>False</td>\n",
       "      <td>False</td>\n",
       "      <td>False</td>\n",
       "      <td>False</td>\n",
       "      <td>False</td>\n",
       "      <td>False</td>\n",
       "    </tr>\n",
       "    <tr>\n",
       "      <th>4</th>\n",
       "      <td>219956</td>\n",
       "      <td>1995</td>\n",
       "      <td>30</td>\n",
       "      <td>6</td>\n",
       "      <td>1</td>\n",
       "      <td>0</td>\n",
       "      <td>0</td>\n",
       "      <td>0</td>\n",
       "      <td>6</td>\n",
       "      <td>2.0</td>\n",
       "      <td>...</td>\n",
       "      <td>False</td>\n",
       "      <td>False</td>\n",
       "      <td>False</td>\n",
       "      <td>False</td>\n",
       "      <td>False</td>\n",
       "      <td>False</td>\n",
       "      <td>True</td>\n",
       "      <td>False</td>\n",
       "      <td>False</td>\n",
       "      <td>False</td>\n",
       "    </tr>\n",
       "  </tbody>\n",
       "</table>\n",
       "<p>5 rows × 182 columns</p>\n",
       "</div>"
      ],
      "text/plain": [
       "   Reindex  year  age  years_in_f1  races_with_each_team_since_1995  \\\n",
       "0  2199517  1995   29            4                                1   \n",
       "1   219955  1995   26            4                                1   \n",
       "2   219951  1995   24            1                                1   \n",
       "3   219952  1995   34            3                                1   \n",
       "4   219956  1995   30            6                                1   \n",
       "\n",
       "   F2_champion  Former_F1_World_Champion  home_race  starting_grid_position  \\\n",
       "0            0                         0          0                      17   \n",
       "1            0                         0          0                       5   \n",
       "2            0                         0          0                       1   \n",
       "3            0                         1          0                       2   \n",
       "4            0                         0          0                       6   \n",
       "\n",
       "   points_in_previous_race  ...  constructorId_3  constructorId_30  \\\n",
       "0                      1.0  ...            False             False   \n",
       "1                      3.0  ...            False             False   \n",
       "2                      6.0  ...             True             False   \n",
       "3                      0.0  ...             True             False   \n",
       "4                      2.0  ...            False             False   \n",
       "\n",
       "   constructorId_31  constructorId_4  constructorId_5  constructorId_51  \\\n",
       "0             False            False            False             False   \n",
       "1             False            False            False             False   \n",
       "2             False            False            False             False   \n",
       "3             False            False            False             False   \n",
       "4             False            False            False             False   \n",
       "\n",
       "   constructorId_6  constructorId_7  constructorId_8  constructorId_9  \n",
       "0            False            False            False            False  \n",
       "1            False            False            False            False  \n",
       "2            False            False            False            False  \n",
       "3            False            False            False            False  \n",
       "4             True            False            False            False  \n",
       "\n",
       "[5 rows x 182 columns]"
      ]
     },
     "execution_count": 70,
     "metadata": {},
     "output_type": "execute_result"
    }
   ],
   "source": [
    "df.head()"
   ]
  },
  {
   "cell_type": "code",
   "execution_count": 71,
   "metadata": {},
   "outputs": [],
   "source": [
    "df.set_index('Reindex', inplace=True)\n"
   ]
  },
  {
   "cell_type": "code",
   "execution_count": 72,
   "metadata": {},
   "outputs": [
    {
     "data": {
      "text/html": [
       "<div>\n",
       "<style scoped>\n",
       "    .dataframe tbody tr th:only-of-type {\n",
       "        vertical-align: middle;\n",
       "    }\n",
       "\n",
       "    .dataframe tbody tr th {\n",
       "        vertical-align: top;\n",
       "    }\n",
       "\n",
       "    .dataframe thead th {\n",
       "        text-align: right;\n",
       "    }\n",
       "</style>\n",
       "<table border=\"1\" class=\"dataframe\">\n",
       "  <thead>\n",
       "    <tr style=\"text-align: right;\">\n",
       "      <th></th>\n",
       "      <th>year</th>\n",
       "      <th>age</th>\n",
       "      <th>years_in_f1</th>\n",
       "      <th>races_with_each_team_since_1995</th>\n",
       "      <th>F2_champion</th>\n",
       "      <th>Former_F1_World_Champion</th>\n",
       "      <th>home_race</th>\n",
       "      <th>starting_grid_position</th>\n",
       "      <th>points_in_previous_race</th>\n",
       "      <th>laps_in_previous_race</th>\n",
       "      <th>...</th>\n",
       "      <th>constructorId_3</th>\n",
       "      <th>constructorId_30</th>\n",
       "      <th>constructorId_31</th>\n",
       "      <th>constructorId_4</th>\n",
       "      <th>constructorId_5</th>\n",
       "      <th>constructorId_51</th>\n",
       "      <th>constructorId_6</th>\n",
       "      <th>constructorId_7</th>\n",
       "      <th>constructorId_8</th>\n",
       "      <th>constructorId_9</th>\n",
       "    </tr>\n",
       "    <tr>\n",
       "      <th>Reindex</th>\n",
       "      <th></th>\n",
       "      <th></th>\n",
       "      <th></th>\n",
       "      <th></th>\n",
       "      <th></th>\n",
       "      <th></th>\n",
       "      <th></th>\n",
       "      <th></th>\n",
       "      <th></th>\n",
       "      <th></th>\n",
       "      <th></th>\n",
       "      <th></th>\n",
       "      <th></th>\n",
       "      <th></th>\n",
       "      <th></th>\n",
       "      <th></th>\n",
       "      <th></th>\n",
       "      <th></th>\n",
       "      <th></th>\n",
       "      <th></th>\n",
       "      <th></th>\n",
       "    </tr>\n",
       "  </thead>\n",
       "  <tbody>\n",
       "    <tr>\n",
       "      <th>2199517</th>\n",
       "      <td>1995</td>\n",
       "      <td>29</td>\n",
       "      <td>4</td>\n",
       "      <td>1</td>\n",
       "      <td>0</td>\n",
       "      <td>0</td>\n",
       "      <td>0</td>\n",
       "      <td>17</td>\n",
       "      <td>1.0</td>\n",
       "      <td>70</td>\n",
       "      <td>...</td>\n",
       "      <td>False</td>\n",
       "      <td>False</td>\n",
       "      <td>False</td>\n",
       "      <td>False</td>\n",
       "      <td>False</td>\n",
       "      <td>False</td>\n",
       "      <td>False</td>\n",
       "      <td>False</td>\n",
       "      <td>False</td>\n",
       "      <td>False</td>\n",
       "    </tr>\n",
       "    <tr>\n",
       "      <th>219955</th>\n",
       "      <td>1995</td>\n",
       "      <td>26</td>\n",
       "      <td>4</td>\n",
       "      <td>1</td>\n",
       "      <td>0</td>\n",
       "      <td>0</td>\n",
       "      <td>0</td>\n",
       "      <td>5</td>\n",
       "      <td>3.0</td>\n",
       "      <td>70</td>\n",
       "      <td>...</td>\n",
       "      <td>False</td>\n",
       "      <td>False</td>\n",
       "      <td>False</td>\n",
       "      <td>False</td>\n",
       "      <td>False</td>\n",
       "      <td>False</td>\n",
       "      <td>False</td>\n",
       "      <td>False</td>\n",
       "      <td>False</td>\n",
       "      <td>False</td>\n",
       "    </tr>\n",
       "    <tr>\n",
       "      <th>219951</th>\n",
       "      <td>1995</td>\n",
       "      <td>24</td>\n",
       "      <td>1</td>\n",
       "      <td>1</td>\n",
       "      <td>0</td>\n",
       "      <td>0</td>\n",
       "      <td>0</td>\n",
       "      <td>1</td>\n",
       "      <td>6.0</td>\n",
       "      <td>71</td>\n",
       "      <td>...</td>\n",
       "      <td>True</td>\n",
       "      <td>False</td>\n",
       "      <td>False</td>\n",
       "      <td>False</td>\n",
       "      <td>False</td>\n",
       "      <td>False</td>\n",
       "      <td>False</td>\n",
       "      <td>False</td>\n",
       "      <td>False</td>\n",
       "      <td>False</td>\n",
       "    </tr>\n",
       "    <tr>\n",
       "      <th>219952</th>\n",
       "      <td>1995</td>\n",
       "      <td>34</td>\n",
       "      <td>3</td>\n",
       "      <td>1</td>\n",
       "      <td>0</td>\n",
       "      <td>1</td>\n",
       "      <td>0</td>\n",
       "      <td>2</td>\n",
       "      <td>0.0</td>\n",
       "      <td>30</td>\n",
       "      <td>...</td>\n",
       "      <td>True</td>\n",
       "      <td>False</td>\n",
       "      <td>False</td>\n",
       "      <td>False</td>\n",
       "      <td>False</td>\n",
       "      <td>False</td>\n",
       "      <td>False</td>\n",
       "      <td>False</td>\n",
       "      <td>False</td>\n",
       "      <td>False</td>\n",
       "    </tr>\n",
       "    <tr>\n",
       "      <th>219956</th>\n",
       "      <td>1995</td>\n",
       "      <td>30</td>\n",
       "      <td>6</td>\n",
       "      <td>1</td>\n",
       "      <td>0</td>\n",
       "      <td>0</td>\n",
       "      <td>0</td>\n",
       "      <td>6</td>\n",
       "      <td>2.0</td>\n",
       "      <td>70</td>\n",
       "      <td>...</td>\n",
       "      <td>False</td>\n",
       "      <td>False</td>\n",
       "      <td>False</td>\n",
       "      <td>False</td>\n",
       "      <td>False</td>\n",
       "      <td>False</td>\n",
       "      <td>True</td>\n",
       "      <td>False</td>\n",
       "      <td>False</td>\n",
       "      <td>False</td>\n",
       "    </tr>\n",
       "  </tbody>\n",
       "</table>\n",
       "<p>5 rows × 181 columns</p>\n",
       "</div>"
      ],
      "text/plain": [
       "         year  age  years_in_f1  races_with_each_team_since_1995  F2_champion  \\\n",
       "Reindex                                                                         \n",
       "2199517  1995   29            4                                1            0   \n",
       "219955   1995   26            4                                1            0   \n",
       "219951   1995   24            1                                1            0   \n",
       "219952   1995   34            3                                1            0   \n",
       "219956   1995   30            6                                1            0   \n",
       "\n",
       "         Former_F1_World_Champion  home_race  starting_grid_position  \\\n",
       "Reindex                                                                \n",
       "2199517                         0          0                      17   \n",
       "219955                          0          0                       5   \n",
       "219951                          0          0                       1   \n",
       "219952                          1          0                       2   \n",
       "219956                          0          0                       6   \n",
       "\n",
       "         points_in_previous_race  laps_in_previous_race  ...  constructorId_3  \\\n",
       "Reindex                                                  ...                    \n",
       "2199517                      1.0                     70  ...            False   \n",
       "219955                       3.0                     70  ...            False   \n",
       "219951                       6.0                     71  ...             True   \n",
       "219952                       0.0                     30  ...             True   \n",
       "219956                       2.0                     70  ...            False   \n",
       "\n",
       "         constructorId_30  constructorId_31  constructorId_4  constructorId_5  \\\n",
       "Reindex                                                                         \n",
       "2199517             False             False            False            False   \n",
       "219955              False             False            False            False   \n",
       "219951              False             False            False            False   \n",
       "219952              False             False            False            False   \n",
       "219956              False             False            False            False   \n",
       "\n",
       "         constructorId_51  constructorId_6  constructorId_7  constructorId_8  \\\n",
       "Reindex                                                                        \n",
       "2199517             False            False            False            False   \n",
       "219955              False            False            False            False   \n",
       "219951              False            False            False            False   \n",
       "219952              False            False            False            False   \n",
       "219956              False             True            False            False   \n",
       "\n",
       "         constructorId_9  \n",
       "Reindex                   \n",
       "2199517            False  \n",
       "219955             False  \n",
       "219951             False  \n",
       "219952             False  \n",
       "219956             False  \n",
       "\n",
       "[5 rows x 181 columns]"
      ]
     },
     "execution_count": 72,
     "metadata": {},
     "output_type": "execute_result"
    }
   ],
   "source": [
    "df.head()"
   ]
  },
  {
   "cell_type": "markdown",
   "metadata": {},
   "source": [
    "### 3. Train-Test-Split the Model & Class Balance Review"
   ]
  },
  {
   "cell_type": "markdown",
   "metadata": {},
   "source": [
    "In our data science project, we employ a train-test split to ensure the robustness and generalizability of our predictive model. By dividing our dataset into a training set for model development and a testing set for validation, we simulate real-world scenarios where the model must make accurate predictions on unseen data. This method helps us evaluate the model's performance objectively, ensuring it can reliably predict future race outcomes based on patterns learned from historical data, rather than memorizing specific outcomes."
   ]
  },
  {
   "cell_type": "code",
   "execution_count": 73,
   "metadata": {},
   "outputs": [],
   "source": [
    "# Perform train-test split\n",
    "train_data, test_data = train_test_split(df, test_size=0.2, random_state=42)  # You can adjust the test_size as needed\n",
    "\n",
    "# Save training and testing data to separate CSV files\n",
    "train_data.to_csv('train_data_v2.csv', index=False)\n",
    "test_data.to_csv('test_data_v2.csv', index=False)"
   ]
  },
  {
   "cell_type": "markdown",
   "metadata": {},
   "source": [
    "**Class Balance Review**: In our quest to predict Formula 1 race winners, we want examine the class balance within the \"race_win\" column, where '1' indicates a win and '0' denotes not winning. Analyzing class imbalance is crucial because it can significantly influence the model's learning process and its subsequent predictions. If one class vastly outnumbers the other, the model might become biased, favoring the majority class and potentially overlooking patterns specific to the minority class. This examination ensures our model learns to recognize the subtle nuances between winning and not winning, striving for accurate and fair predictions across all races.\n",
    "\n",
    "It's also worth nothing that a naive prediction model, will predict 0 (non-win) for a particular driver and be correct 95% of the time (as there are 20 drivers in F1 and only 1 winner). This will serve as a benchmark for accuracy, but we want to predict the winner (rather than the non-winners) so we will also need to look at Precision and Recall. "
   ]
  },
  {
   "cell_type": "code",
   "execution_count": 74,
   "metadata": {},
   "outputs": [
    {
     "data": {
      "image/png": "[encoded data removed]",
      "text/plain": [
       "<Figure size 640x480 with 1 Axes>"
      ]
     },
     "metadata": {},
     "output_type": "display_data"
    }
   ],
   "source": [
    "# Get the normalized value counts for the 'race_win' column and multiply by 100 to get percentages\n",
    "value_counts = train_data['race_win'].value_counts(normalize=True) * 100\n",
    "\n",
    "# Create the bar chart\n",
    "plt.figure()\n",
    "plt.bar(value_counts.index.astype(str), value_counts.values)\n",
    "plt.xlabel('Race Win or Not')\n",
    "plt.ylabel('Percentage of Total Training Set (%)')\n",
    "plt.xticks([0, 1], ['Did not Win', 'Did Win'])\n",
    "plt.title('Distribution of \"Win\" rows in dataset')\n",
    "plt.show()"
   ]
  },
  {
   "cell_type": "markdown",
   "metadata": {},
   "source": [
    "This bar chart displays the class distribution for the training dataset concerning Formula 1 race outcomes, specifically showing the proportion of instances where a driver did not win compared to when they did. The stark contrast suggests a significant class imbalance, with the \"Did not Win\" category heavily outweighing the \"Did Win\" one. In predictive modeling. As mentioned above, this imbalance poses a challenge because models might become biased towards predicting the majority class, \"Did not Win.\" As a result, the model might perform poorly in correctly predicting the less frequent, but more interesting (for this study), \"Did Win\" instances. \n",
    "\n",
    "To address this, later in the study we will explore techniques such as resampling, or specialized ML algorithms that are more robust at dealing with class imbalance (e.g. Random Forest & Balanced Random Forest) might be necessary."
   ]
  },
  {
   "cell_type": "markdown",
   "metadata": {},
   "source": [
    "### 4. **Logistics Regression**"
   ]
  },
  {
   "cell_type": "markdown",
   "metadata": {},
   "source": [
    "We're kicking off with a logistic regression as our initial modeling approach. We will start with a logistic regression because it's a straightforward, interpretable model that excels in binary classification problems, like ours, with 'win' or 'not win' outcomes. This model will serve as a benchmark, providing a clear baseline for performance that we can compare against more complex models later on. Its simplicity allows us to quickly gauge the predictive power of our features and understand the underlying patterns in the data, setting a solid foundation for refining our predictive capabilities as the project progresses."
   ]
  },
  {
   "cell_type": "code",
   "execution_count": 75,
   "metadata": {},
   "outputs": [],
   "source": [
    "# Define X and Y for the training model\n",
    "X_train = train_data.drop('race_win', axis=1)\n",
    "y_train = train_data['race_win']"
   ]
  },
  {
   "cell_type": "code",
   "execution_count": 76,
   "metadata": {},
   "outputs": [],
   "source": [
    "# Separate the features and the target variable\n",
    "X_test = test_data.drop('race_win', axis=1)\n",
    "y_test = test_data['race_win']"
   ]
  },
  {
   "cell_type": "markdown",
   "metadata": {},
   "source": [
    "When applying logistic regression, we are going to take the step of scaling our data. This process normalizes the features in our training data, ensuring that each one contributes equally to the model's predictions, without letting larger-scale features dominate. This step is useful because logistic regression, like many machine learning algorithms, can perform better and converge faster on scaled data, leading to more reliable and interpretable results. This standardization ensures that our model evaluates the importance of each feature based on its contribution to predicting race outcomes, rather than being skewed by the varying scales of the data. \n",
    "\n",
    "We are going to use the StandardScaler, as generally people use the Standard scaler rather than the MinMax scaler. While the ,MinMax scaler scales the data such that it lies between 0 and 1, the standard scaler scales the data such that it is centered at 0, and has a variance (as well as standard deviation) of 1.0.\n",
    "\n",
    "* Taken BrainStation \"Distance and Scaling\" notebook*"
   ]
  },
  {
   "cell_type": "code",
   "execution_count": 77,
   "metadata": {},
   "outputs": [],
   "source": [
    "# Scale the data\n",
    "scaler = StandardScaler()\n",
    "X_train_scaled = scaler.fit_transform(X_train)\n",
    "X_test_scaled = scaler.transform(X_test)"
   ]
  },
  {
   "cell_type": "code",
   "execution_count": 78,
   "metadata": {},
   "outputs": [],
   "source": [
    "# Instantiate the logistic regression model\n",
    "model = LogisticRegression(max_iter=1000)  # Increased max_iter for convergence"
   ]
  },
  {
   "cell_type": "code",
   "execution_count": 79,
   "metadata": {},
   "outputs": [
    {
     "data": {
      "text/html": [
       "<style>#sk-container-id-3 {color: black;}#sk-container-id-3 pre{padding: 0;}#sk-container-id-3 div.sk-toggleable {background-color: white;}#sk-container-id-3 label.sk-toggleable__label {cursor: pointer;display: block;width: 100%;margin-bottom: 0;padding: 0.3em;box-sizing: border-box;text-align: center;}#sk-container-id-3 label.sk-toggleable__label-arrow:before {content: \"▸\";float: left;margin-right: 0.25em;color: #696969;}#sk-container-id-3 label.sk-toggleable__label-arrow:hover:before {color: black;}#sk-container-id-3 div.sk-estimator:hover label.sk-toggleable__label-arrow:before {color: black;}#sk-container-id-3 div.sk-toggleable__content {max-height: 0;max-width: 0;overflow: hidden;text-align: left;background-color: #f0f8ff;}#sk-container-id-3 div.sk-toggleable__content pre {margin: 0.2em;color: black;border-radius: 0.25em;background-color: #f0f8ff;}#sk-container-id-3 input.sk-toggleable__control:checked~div.sk-toggleable__content {max-height: 200px;max-width: 100%;overflow: auto;}#sk-container-id-3 input.sk-toggleable__control:checked~label.sk-toggleable__label-arrow:before {content: \"▾\";}#sk-container-id-3 div.sk-estimator input.sk-toggleable__control:checked~label.sk-toggleable__label {background-color: #d4ebff;}#sk-container-id-3 div.sk-label input.sk-toggleable__control:checked~label.sk-toggleable__label {background-color: #d4ebff;}#sk-container-id-3 input.sk-hidden--visually {border: 0;clip: rect(1px 1px 1px 1px);clip: rect(1px, 1px, 1px, 1px);height: 1px;margin: -1px;overflow: hidden;padding: 0;position: absolute;width: 1px;}#sk-container-id-3 div.sk-estimator {font-family: monospace;background-color: #f0f8ff;border: 1px dotted black;border-radius: 0.25em;box-sizing: border-box;margin-bottom: 0.5em;}#sk-container-id-3 div.sk-estimator:hover {background-color: #d4ebff;}#sk-container-id-3 div.sk-parallel-item::after {content: \"\";width: 100%;border-bottom: 1px solid gray;flex-grow: 1;}#sk-container-id-3 div.sk-label:hover label.sk-toggleable__label {background-color: #d4ebff;}#sk-container-id-3 div.sk-serial::before {content: \"\";position: absolute;border-left: 1px solid gray;box-sizing: border-box;top: 0;bottom: 0;left: 50%;z-index: 0;}#sk-container-id-3 div.sk-serial {display: flex;flex-direction: column;align-items: center;background-color: white;padding-right: 0.2em;padding-left: 0.2em;position: relative;}#sk-container-id-3 div.sk-item {position: relative;z-index: 1;}#sk-container-id-3 div.sk-parallel {display: flex;align-items: stretch;justify-content: center;background-color: white;position: relative;}#sk-container-id-3 div.sk-item::before, #sk-container-id-3 div.sk-parallel-item::before {content: \"\";position: absolute;border-left: 1px solid gray;box-sizing: border-box;top: 0;bottom: 0;left: 50%;z-index: -1;}#sk-container-id-3 div.sk-parallel-item {display: flex;flex-direction: column;z-index: 1;position: relative;background-color: white;}#sk-container-id-3 div.sk-parallel-item:first-child::after {align-self: flex-end;width: 50%;}#sk-container-id-3 div.sk-parallel-item:last-child::after {align-self: flex-start;width: 50%;}#sk-container-id-3 div.sk-parallel-item:only-child::after {width: 0;}#sk-container-id-3 div.sk-dashed-wrapped {border: 1px dashed gray;margin: 0 0.4em 0.5em 0.4em;box-sizing: border-box;padding-bottom: 0.4em;background-color: white;}#sk-container-id-3 div.sk-label label {font-family: monospace;font-weight: bold;display: inline-block;line-height: 1.2em;}#sk-container-id-3 div.sk-label-container {text-align: center;}#sk-container-id-3 div.sk-container {/* jupyter's `normalize.less` sets `[hidden] { display: none; }` but bootstrap.min.css set `[hidden] { display: none !important; }` so we also need the `!important` here to be able to override the default hidden behavior on the sphinx rendered scikit-learn.org. See: https://github.com/scikit-learn/scikit-learn/issues/21755 */display: inline-block !important;position: relative;}#sk-container-id-3 div.sk-text-repr-fallback {display: none;}</style><div id=\"sk-container-id-3\" class=\"sk-top-container\"><div class=\"sk-text-repr-fallback\"><pre>LogisticRegression(max_iter=1000)</pre><b>In a Jupyter environment, please rerun this cell to show the HTML representation or trust the notebook. <br />On GitHub, the HTML representation is unable to render, please try loading this page with nbviewer.org.</b></div><div class=\"sk-container\" hidden><div class=\"sk-item\"><div class=\"sk-estimator sk-toggleable\"><input class=\"sk-toggleable__control sk-hidden--visually\" id=\"sk-estimator-id-3\" type=\"checkbox\" checked><label for=\"sk-estimator-id-3\" class=\"sk-toggleable__label sk-toggleable__label-arrow\">LogisticRegression</label><div class=\"sk-toggleable__content\"><pre>LogisticRegression(max_iter=1000)</pre></div></div></div></div></div>"
      ],
      "text/plain": [
       "LogisticRegression(max_iter=1000)"
      ]
     },
     "execution_count": 79,
     "metadata": {},
     "output_type": "execute_result"
    }
   ],
   "source": [
    "# Fit the model\n",
    "model.fit(X_train_scaled, y_train)"
   ]
  },
  {
   "cell_type": "code",
   "execution_count": 80,
   "metadata": {},
   "outputs": [],
   "source": [
    "# Review model\n",
    "# Extract coefficients\n",
    "coefficients = model.coef_[0]"
   ]
  },
  {
   "cell_type": "code",
   "execution_count": 81,
   "metadata": {},
   "outputs": [
    {
     "name": "stdout",
     "output_type": "stream",
     "text": [
      "Feature coefficients:\n",
      "\n",
      "year: -0.9443\n",
      "age: 0.1163\n",
      "years_in_f1: -0.3322\n",
      "races_with_each_team_since_1995: 0.2426\n",
      "F2_champion: -0.1999\n",
      "Former_F1_World_Champion: 0.5016\n",
      "home_race: 0.0938\n",
      "starting_grid_position: -2.8463\n",
      "points_in_previous_race: 0.0281\n",
      "laps_in_previous_race: 0.0152\n",
      "constructorId_points_at_stage_of_season: -0.6630\n",
      "driver_points_at_stage_of_season: 0.9322\n",
      "race_70th Anniversary Grand Prix: 0.0283\n",
      "race_Abu Dhabi Grand Prix: -0.1116\n",
      "race_Argentine Grand Prix: -0.0044\n",
      "race_Australian Grand Prix: 0.1272\n",
      "race_Austrian Grand Prix: 0.0809\n",
      "race_Azerbaijan Grand Prix: 0.0749\n",
      "race_Bahrain Grand Prix: 0.1482\n",
      "race_Belgian Grand Prix: 0.0753\n",
      "race_Brazilian Grand Prix: -0.0761\n",
      "race_British Grand Prix: -0.0356\n",
      "race_Canadian Grand Prix: 0.0273\n",
      "race_Chinese Grand Prix: 0.0529\n",
      "race_Dutch Grand Prix: -0.0541\n",
      "race_Eifel Grand Prix: 0.0009\n",
      "race_Emilia Romagna Grand Prix: 0.0442\n",
      "race_European Grand Prix: -0.0008\n",
      "race_French Grand Prix: -0.0258\n",
      "race_German Grand Prix: -0.0339\n",
      "race_Hungarian Grand Prix: -0.0709\n",
      "race_Indian Grand Prix: -0.0935\n",
      "race_Italian Grand Prix: -0.0367\n",
      "race_Japanese Grand Prix: -0.0469\n",
      "race_Korean Grand Prix: -0.0277\n",
      "race_Luxembourg Grand Prix: 0.0619\n",
      "race_Malaysian Grand Prix: 0.1086\n",
      "race_Mexican Grand Prix: -0.0559\n",
      "race_Mexico City Grand Prix: -0.3264\n",
      "race_Miami Grand Prix: 0.0572\n",
      "race_Monaco Grand Prix: 0.0090\n",
      "race_Pacific Grand Prix: -0.0051\n",
      "race_Portuguese Grand Prix: -0.0652\n",
      "race_Qatar Grand Prix: 0.0410\n",
      "race_Russian Grand Prix: -0.0138\n",
      "race_Sakhir Grand Prix: 0.1662\n",
      "race_San Marino Grand Prix: 0.0328\n",
      "race_Saudi Arabian Grand Prix: 0.0200\n",
      "race_Singapore Grand Prix: -0.0500\n",
      "race_Spanish Grand Prix: 0.0222\n",
      "race_Styrian Grand Prix: 0.0348\n",
      "race_SÃ£o Paulo Grand Prix: 0.0129\n",
      "race_Turkish Grand Prix: -0.0605\n",
      "race_Tuscan Grand Prix: 0.0593\n",
      "race_United States Grand Prix: -0.0878\n",
      "engine_manufacturer_Acer: -0.0157\n",
      "engine_manufacturer_Arrows: -0.0508\n",
      "engine_manufacturer_Asiatech: -0.0421\n",
      "engine_manufacturer_BMW: 0.1080\n",
      "engine_manufacturer_Cosworth: -0.3020\n",
      "engine_manufacturer_Ferrari: 0.2197\n",
      "engine_manufacturer_Ford: 0.8143\n",
      "engine_manufacturer_Hart: -0.0876\n",
      "engine_manufacturer_Honda: -0.0002\n",
      "engine_manufacturer_Mecachrome: -0.2515\n",
      "engine_manufacturer_Mercedes: 0.0598\n",
      "engine_manufacturer_Mugen-Honda: -0.1014\n",
      "engine_manufacturer_Petronas: -0.0719\n",
      "engine_manufacturer_Peugeot: -0.5214\n",
      "engine_manufacturer_Playlife: -0.3335\n",
      "engine_manufacturer_Red Bull: 0.1402\n",
      "engine_manufacturer_Renault: 0.0351\n",
      "engine_manufacturer_Supertec: -0.2078\n",
      "engine_manufacturer_Toro Rosso: -0.0681\n",
      "engine_manufacturer_Toyota: -0.3303\n",
      "engine_manufacturer_Yamaha: -0.2275\n",
      "constructor_nationality_American: -0.1478\n",
      "constructor_nationality_Austrian: 0.1343\n",
      "constructor_nationality_British: 0.3413\n",
      "constructor_nationality_Dutch: -0.0035\n",
      "constructor_nationality_French: 0.0807\n",
      "constructor_nationality_German: 0.1527\n",
      "constructor_nationality_Indian: -0.2535\n",
      "constructor_nationality_Irish: 0.0925\n",
      "constructor_nationality_Italian: -0.0284\n",
      "constructor_nationality_Japanese: -0.2262\n",
      "constructor_nationality_Malaysian: -0.0102\n",
      "constructor_nationality_Russian: -0.0077\n",
      "constructor_nationality_Spanish: 0.0005\n",
      "constructor_nationality_Swiss: -0.4972\n",
      "Nationality_American: -0.0148\n",
      "Nationality_Argentine: -0.0209\n",
      "Nationality_Australian: 0.1261\n",
      "Nationality_Austrian: -0.4191\n",
      "Nationality_Belgian: -0.0525\n",
      "Nationality_Brazilian: 0.1453\n",
      "Nationality_British: 0.1297\n",
      "Nationality_Canadian: 0.0849\n",
      "Nationality_Chinese: -0.0372\n",
      "Nationality_Colombian: 0.1337\n",
      "Nationality_Czech: 0.0001\n",
      "Nationality_Danish: -0.1887\n",
      "Nationality_Dutch: 0.1197\n",
      "Nationality_Finnish: 0.0380\n",
      "Nationality_French: -0.1659\n",
      "Nationality_German: 0.0143\n",
      "Nationality_Hungarian: -0.0371\n",
      "Nationality_Indian: -0.0063\n",
      "Nationality_Indonesian: -0.0038\n",
      "Nationality_Irish: -0.1162\n",
      "Nationality_Italian: -0.0273\n",
      "Nationality_Japanese: -0.2272\n",
      "Nationality_Malaysian: -0.0744\n",
      "Nationality_Mexican: 0.1134\n",
      "Nationality_Monegasque: 0.1429\n",
      "Nationality_New Zealander: -0.0419\n",
      "Nationality_Polish: -0.0169\n",
      "Nationality_Portuguese: -0.0703\n",
      "Nationality_Russian: -0.2362\n",
      "Nationality_Spanish: 0.0479\n",
      "Nationality_Swedish: -0.0010\n",
      "Nationality_Swiss: -0.0961\n",
      "Nationality_Thai: -0.1793\n",
      "Nationality_Venezuelan: 0.3061\n",
      "Mechanical: -1.5150\n",
      "Driver_Issue: -1.6702\n",
      "Lapped: -0.0386\n",
      "Number_Of_Stops: 0.1101\n",
      "Total_time_in_pits: -0.2939\n",
      "Avg_time_in_pits: 0.1229\n",
      "Weather_Conditions_Dry: -0.1161\n",
      "Weather_Conditions_Rain: -0.0596\n",
      "Weather_Conditions_Very changeable: -0.0509\n",
      "Circuit_Type_Permanent Race Track : -0.0011\n",
      "Circuit_Type_Street Circuit: -0.0069\n",
      "Circuit_Type_Street Circuit : 0.0601\n",
      "constructorId_10: -0.2535\n",
      "constructorId_11: -0.2468\n",
      "constructorId_117: -0.2806\n",
      "constructorId_12: -0.0038\n",
      "constructorId_13: -0.0042\n",
      "constructorId_131: 0.2110\n",
      "constructorId_14: -0.0001\n",
      "constructorId_15: -0.4730\n",
      "constructorId_16: -0.6688\n",
      "constructorId_164: 0.0005\n",
      "constructorId_166: 0.0003\n",
      "constructorId_17: 0.0925\n",
      "constructorId_18: -0.3180\n",
      "constructorId_19: -0.5913\n",
      "constructorId_2: -0.0766\n",
      "constructorId_20: -0.1389\n",
      "constructorId_205: -0.0047\n",
      "constructorId_206: -0.0065\n",
      "constructorId_207: -0.0093\n",
      "constructorId_208: 0.0354\n",
      "constructorId_209: -0.0217\n",
      "constructorId_21: -0.2122\n",
      "constructorId_210: -0.1478\n",
      "constructorId_211: 0.0319\n",
      "constructorId_213: -0.2237\n",
      "constructorId_214: 0.1842\n",
      "constructorId_22: 0.1751\n",
      "constructorId_23: 0.0974\n",
      "constructorId_24: -0.3293\n",
      "constructorId_25: -0.2241\n",
      "constructorId_26: -0.0006\n",
      "constructorId_27: 0.2500\n",
      "constructorId_28: -0.0798\n",
      "constructorId_29: -0.0981\n",
      "constructorId_3: -0.3536\n",
      "constructorId_30: -0.0029\n",
      "constructorId_31: -0.0862\n",
      "constructorId_4: 0.0004\n",
      "constructorId_5: 0.0652\n",
      "constructorId_51: -0.1520\n",
      "constructorId_6: 0.1211\n",
      "constructorId_7: -0.1274\n",
      "constructorId_8: -0.0075\n",
      "constructorId_9: 0.1343\n"
     ]
    }
   ],
   "source": [
    "# Interpret coefficients\n",
    "feature_names = X_train.columns\n",
    "print(\"Feature coefficients:\\n\")\n",
    "for name, coeff in zip(feature_names, coefficients):\n",
    "    print(f\"{name}: {coeff:.4f}\")"
   ]
  },
  {
   "cell_type": "code",
   "execution_count": 82,
   "metadata": {},
   "outputs": [
    {
     "data": {
      "image/png": "[encoded data removed]",
      "text/plain": [
       "<Figure size 1400x600 with 2 Axes>"
      ]
     },
     "metadata": {},
     "output_type": "display_data"
    }
   ],
   "source": [
    "# Create a list of (feature name, coefficient) tuples\n",
    "named_coefficients = list(zip(feature_names, coefficients.flatten()))\n",
    "\n",
    "# Sort the coefficients by their value\n",
    "sorted_coefficients = sorted(named_coefficients, key=lambda item: item[1])\n",
    "\n",
    "# Extract the top 10 negative and positive coefficients\n",
    "top_negative = sorted_coefficients[:10]\n",
    "top_positive = sorted_coefficients[-10:]\n",
    "\n",
    "# Separate names and values for plotting\n",
    "names_neg, values_neg = zip(*top_negative)\n",
    "names_pos, values_pos = zip(*top_positive)\n",
    "\n",
    "# Plotting\n",
    "plt.figure(figsize=(14, 6))\n",
    "\n",
    "# Plot negative coefficients\n",
    "plt.subplot(1, 2, 1)\n",
    "plt.barh(names_neg, values_neg, color='red')\n",
    "plt.xlabel('Coefficient Value')\n",
    "plt.title('Top 10 Negative Coefficients')\n",
    "\n",
    "# Plot positive coefficients\n",
    "plt.subplot(1, 2, 2)\n",
    "plt.barh(names_pos, values_pos, color='green')\n",
    "plt.xlabel('Coefficient Value')\n",
    "plt.title('Top 10 Positive Coefficients')\n",
    "\n",
    "# Display the plot\n",
    "plt.tight_layout()\n",
    "plt.show()\n"
   ]
  },
  {
   "cell_type": "markdown",
   "metadata": {},
   "source": [
    "**Top 10 Negative Coefficients Chart Explanation:**\n",
    "In our  analysis of the \"Top 10 Negative Coefficients\" chart, we find that the most significant factor inversely affecting a driver's success in F1 races is the 'starting_grid_position'. A higher starting position number, which places drivers at the back of the grid, is the largest barrier to winning. This aligns with the intuitive understanding that starting nearer to the front offers a competitive advantage. Notably, issues categorized as 'Driver_Issue' and 'Mechanical' faults also emerge as crucial negative predictors, understandably as they directly compromise race performance. Surprisingly, a high 'constructorId_points_at_stage_of_season' is negatively correlated with winning, contradicting initial expectations that a team's accumulated points would indicate their strength and likelihood of success.\n",
    "\n",
    "**Top 10 Positive Coefficients Chart Explanation:**\n",
    "On the flip side, the \"Top 10 Positive Coefficients\" chart underscores the factors most conducive to winning. \n",
    "- 'driver_points_at_stage_of_season' towers over the rest, indicating that a driver's point tally throughout the season is a robust predictor of victory, perhaps due to consistent high performance. \n",
    "- Engine manufacturers also play a pivotal role, with 'engine_manufacturer_Ford' standing out, although Ford isn't providing engines for any current teams. Having a Ferrari engine was also in the top 10 coefficients.\n",
    "- The positive impact of being a 'Former_F1_World_Champion' highlights that past champions are more likely to win, probably because of their proven expertise, ability to handle pressure, and the top-tier teams that generally employ these highly skilled drivers. \n",
    "- We also see that being part of British constructor team adds a positive coefficient to your likelihood of winning. The prevalence of UK-based teams in Formula 1 has created a unique ecosystem akin to Silicon Valley's tech industry, where a concentration of motorsport talent and an advanced supply chain synergize to foster success. This hub of innovation, engineering excellence, and racing expertise in Great Britain provides drivers with cutting-edge technology and team support, increasing their chances of crossing the finish line first.\n"
   ]
  },
  {
   "cell_type": "markdown",
   "metadata": {},
   "source": [
    "#### Make Predictions"
   ]
  },
  {
   "cell_type": "code",
   "execution_count": 83,
   "metadata": {},
   "outputs": [],
   "source": [
    "# Make predictions\n",
    "# Soft predictions (probabilities)\n",
    "y_prob = model.predict_proba(X_test_scaled)[:, 1]"
   ]
  },
  {
   "cell_type": "code",
   "execution_count": 84,
   "metadata": {},
   "outputs": [],
   "source": [
    "# Hard Predictions (class labels)\n",
    "y_pred = model.predict(X_test_scaled)"
   ]
  },
  {
   "cell_type": "code",
   "execution_count": 85,
   "metadata": {},
   "outputs": [],
   "source": [
    "# Predict on the training data (to see how well the model does on the data it was trained on)\n",
    "y_train_pred = model.predict(X_train_scaled)"
   ]
  },
  {
   "cell_type": "code",
   "execution_count": 86,
   "metadata": {},
   "outputs": [],
   "source": [
    "# Evaluate model\n",
    "accuracy = accuracy_score(y_test, y_pred)\n",
    "precision = precision_score(y_test, y_pred)\n",
    "recall = recall_score(y_test, y_pred)\n",
    "f1 = f1_score(y_test, y_pred)\n",
    "conf_matrix = confusion_matrix(y_test, y_pred)"
   ]
  },
  {
   "cell_type": "code",
   "execution_count": 87,
   "metadata": {},
   "outputs": [
    {
     "name": "stdout",
     "output_type": "stream",
     "text": [
      "Accuracy: 0.9497, Precision: 0.4884, Recall: 0.3889, F1: 0.4330\n",
      "Confusion Matrix:\n",
      "[[2033   44]\n",
      " [  66   42]]\n",
      "              precision    recall  f1-score   support\n",
      "\n",
      "           0       0.97      0.98      0.97      2077\n",
      "           1       0.49      0.39      0.43       108\n",
      "\n",
      "    accuracy                           0.95      2185\n",
      "   macro avg       0.73      0.68      0.70      2185\n",
      "weighted avg       0.94      0.95      0.95      2185\n",
      "\n"
     ]
    }
   ],
   "source": [
    "print(f\"Accuracy: {accuracy:.4f}, Precision: {precision:.4f}, Recall: {recall:.4f}, F1: {f1:.4f}\")\n",
    "print(f\"Confusion Matrix:\\n{conf_matrix}\")\n",
    "print(classification_report(y_test, y_pred))\n"
   ]
  },
  {
   "cell_type": "markdown",
   "metadata": {},
   "source": [
    "The confusion matrix and the classification report provide an overview of the model's performance on the test set for predicting F1 race winners. From the confusion matrix, we can see that the model predicted 'Did Not Win' (class 0) correctly 2033 times, but it incorrectly predicted 'Did Win' (class 1) as 'Did Not Win' 66 times. For the actual wins, the model only correctly predicted 42 instances of 'Did Win' and incorrectly predicted 'Did Not Win' 44 times.\n",
    "\n",
    "The classification report provides further insight. While the model is quite precise at identifying the 'Did Not Win' cases (97% precision), its recall for the 'Did Win' cases is only 39%, indicating it misses a significant number of actual wins. Consequently, the f1-score for the 'Did Win' predictions is low at 0.43, due to the poor recall. This seems to link with the earlier identified class imbalance and indicates that while the model is adept at identifying non-winners, it struggles to identify the actual winners, which are of more interest in this context\n",
    "\n",
    "\n"
   ]
  },
  {
   "cell_type": "markdown",
   "metadata": {},
   "source": [
    "**Next Steps**\n",
    "\n",
    "1. I will experiment with different algorithms that are more robust to imbalanced datasets, such as ensemble methods. Fine-tuning the model's hyperparameters could also enhance predictive performance.\n",
    "\n",
    "2. Additionally, to improve the model's ability to predict F1 race winners, I will consider addressing the class imbalance by employing techniques such as oversampling the minority class (I can't really undersample the majority class as there are too few minority class). \n",
    "\n",
    "3. Another option is incorporating more discriminative features or engineered features that capture the dynamics of race-winning factors"
   ]
  },
  {
   "cell_type": "markdown",
   "metadata": {},
   "source": [
    "### 5. **Optimizing LogReg Using Pipeline and Grid Search**"
   ]
  },
  {
   "cell_type": "markdown",
   "metadata": {},
   "source": [
    "To get the most out of our Logistic Regression model for predicting F1 winners, we're building a pipeline to streamline the process and using grid search to find the best hyperparameter settings. This will ensure we're efficiently testing different options and hopefully zoom in on the most accurate model for picking race winners"
   ]
  },
  {
   "cell_type": "code",
   "execution_count": 88,
   "metadata": {},
   "outputs": [],
   "source": [
    "# Set up a directory to cache the pipeline results\n",
    "cachedir = mkdtemp()\n",
    "\n",
    "# Set up a pipeline\n",
    "# The steps here act as placeholders and will be changed when we pass the pipeline\n",
    "\n",
    "my_pipeline = Pipeline([('scaler', StandardScaler()),\n",
    "('dim_reducer', PCA()),\n",
    "('model', LogisticRegression())], memory=cachedir)"
   ]
  },
  {
   "cell_type": "markdown",
   "metadata": {},
   "source": [
    "We're fine-tuning our Logistic Regression model by trying out different configurations using a grid search. This code tests a range of hyperparameter values:\n",
    "\n",
    "1. **C-value (regularization strength)**: We're trying various C-values to find the sweet spot between underfitting and overfitting. Higher C emphasizes simpler models, potentially reducing overfitting, while lower C allows for more complex models that could capture intricate patterns.\n",
    "\n",
    "2. **Scalers**: We're including different scalers (StandardScaler, MinMaxScaler, RobustScaler) to see if transforming the data improves model performance. Scaling can address issues like features having different scales, potentially leading to better predictions.\n",
    "\n",
    "3. **Dimensionality Reduction (PCA)**: We're testing PCA (Principal Component Analysis) with and without scaling to see if reducing feature dimensions helps. This can simplify the model and potentially improve generalizability, especially if there's redundancy in the data (e.g. some features repeat information).\n",
    "\n",
    "4. **Penalty (L1 vs. L2)**: We're comparing L1 (LASSO) and L2 (Ridge) penalties. L1 shrinks some coefficients to zero, potentially leading to feature selection, while L2 shrinks all coefficients, encouraging simpler models. We're unsure which might work best for our data, so we're testing both.\n",
    "\n",
    "By systematically testing these combinations, we're hoping to identify the best configuration of hyperparameters, scalers, and dimensionality reduction for our Logistic Regression model, ultimately leading to more accurate F1 race winner predictions."
   ]
  },
  {
   "cell_type": "code",
   "execution_count": 89,
   "metadata": {},
   "outputs": [],
   "source": [
    "from sklearn.preprocessing import StandardScaler, MinMaxScaler, RobustScaler\n",
    "\n",
    "# Let's try the same range of C values from earlier\n",
    "c_values = [.00001, .0001, .001, .1, 1, 10, 100, 1000, 10000]\n",
    "\n",
    "# Parameter grid\n",
    "logreg_param_grid = [\n",
    "    # L1 without PCA\n",
    "    {'scaler': [None, StandardScaler(), MinMaxScaler()],\n",
    "     'dim_reducer': [None],\n",
    "     'model': [LogisticRegression(penalty='l1', solver='liblinear', random_state=1, n_jobs=-1, max_iter=100)],\n",
    "     'model__C': c_values},\n",
    "\n",
    "    # L1 with PCA\n",
    "    {'scaler': [StandardScaler(), MinMaxScaler()],\n",
    "     'dim_reducer': [PCA()],\n",
    "     'dim_reducer__n_components': [0.95, 0.9, 0.85, 0.8],\n",
    "     'model': [LogisticRegression(penalty='l1', solver='liblinear', random_state=1, n_jobs=-1, max_iter=100)],\n",
    "     'model__C': c_values},\n",
    "\n",
    "    # L2 (default) without PCA\n",
    "    {'scaler': [None, StandardScaler(), MinMaxScaler()],\n",
    "     'dim_reducer': [None],\n",
    "     'model': [LogisticRegression(penalty='l2', solver='lbfgs', random_state=1, n_jobs=-1, max_iter=100)],\n",
    "     'model__C': c_values},\n",
    "\n",
    "    # L2 (default) with PCA\n",
    "    {'scaler': [StandardScaler(), MinMaxScaler()],\n",
    "     'dim_reducer': [PCA()],\n",
    "     'dim_reducer__n_components': [0.95, 0.9, 0.85, 0.8],\n",
    "     'model': [LogisticRegression(penalty='l2', solver='lbfgs', random_state=1, n_jobs=-1, max_iter=100)],\n",
    "     'model__C': c_values}\n",
    "]\n",
    "\n",
    "# The parameter dim_reducer__n_components specifies the number of components to keep after reducing dimensions. \n",
    "# For solver : \"LogisticRegression (default solver: lbfgs): Offers various solver options (including liblinear, lbfgs, newton-cg, sag) are available, but I went with the default"
   ]
  },
  {
   "cell_type": "code",
   "execution_count": 90,
   "metadata": {},
   "outputs": [
    {
     "ename": "KeyboardInterrupt",
     "evalue": "",
     "output_type": "error",
     "traceback": [
      "\u001b[1;31m---------------------------------------------------------------------------\u001b[0m",
      "\u001b[1;31mKeyboardInterrupt\u001b[0m                         Traceback (most recent call last)",
      "Cell \u001b[1;32mIn[90], line 5\u001b[0m\n\u001b[0;32m      2\u001b[0m logreg_gs \u001b[38;5;241m=\u001b[39m GridSearchCV(my_pipeline, param_grid\u001b[38;5;241m=\u001b[39mlogreg_param_grid, cv\u001b[38;5;241m=\u001b[39m\u001b[38;5;241m5\u001b[39m, n_jobs\u001b[38;5;241m=\u001b[39m\u001b[38;5;241m-\u001b[39m\u001b[38;5;241m1\u001b[39m)\n\u001b[0;32m      4\u001b[0m \u001b[38;5;66;03m# Fit the log reg grid search\u001b[39;00m\n\u001b[1;32m----> 5\u001b[0m fitted_logreg_gs \u001b[38;5;241m=\u001b[39m \u001b[43mlogreg_gs\u001b[49m\u001b[38;5;241;43m.\u001b[39;49m\u001b[43mfit\u001b[49m\u001b[43m(\u001b[49m\u001b[43mX_train\u001b[49m\u001b[43m,\u001b[49m\u001b[43m \u001b[49m\u001b[43my_train\u001b[49m\u001b[43m)\u001b[49m\n",
      "File \u001b[1;32mc:\\Users\\Alex\\anaconda3\\envs\\capstone\\lib\\site-packages\\sklearn\\base.py:1152\u001b[0m, in \u001b[0;36m_fit_context.<locals>.decorator.<locals>.wrapper\u001b[1;34m(estimator, *args, **kwargs)\u001b[0m\n\u001b[0;32m   1145\u001b[0m     estimator\u001b[38;5;241m.\u001b[39m_validate_params()\n\u001b[0;32m   1147\u001b[0m \u001b[38;5;28;01mwith\u001b[39;00m config_context(\n\u001b[0;32m   1148\u001b[0m     skip_parameter_validation\u001b[38;5;241m=\u001b[39m(\n\u001b[0;32m   1149\u001b[0m         prefer_skip_nested_validation \u001b[38;5;129;01mor\u001b[39;00m global_skip_validation\n\u001b[0;32m   1150\u001b[0m     )\n\u001b[0;32m   1151\u001b[0m ):\n\u001b[1;32m-> 1152\u001b[0m     \u001b[38;5;28;01mreturn\u001b[39;00m \u001b[43mfit_method\u001b[49m\u001b[43m(\u001b[49m\u001b[43mestimator\u001b[49m\u001b[43m,\u001b[49m\u001b[43m \u001b[49m\u001b[38;5;241;43m*\u001b[39;49m\u001b[43margs\u001b[49m\u001b[43m,\u001b[49m\u001b[43m \u001b[49m\u001b[38;5;241;43m*\u001b[39;49m\u001b[38;5;241;43m*\u001b[39;49m\u001b[43mkwargs\u001b[49m\u001b[43m)\u001b[49m\n",
      "File \u001b[1;32mc:\\Users\\Alex\\anaconda3\\envs\\capstone\\lib\\site-packages\\sklearn\\model_selection\\_search.py:898\u001b[0m, in \u001b[0;36mBaseSearchCV.fit\u001b[1;34m(self, X, y, groups, **fit_params)\u001b[0m\n\u001b[0;32m    892\u001b[0m     results \u001b[38;5;241m=\u001b[39m \u001b[38;5;28mself\u001b[39m\u001b[38;5;241m.\u001b[39m_format_results(\n\u001b[0;32m    893\u001b[0m         all_candidate_params, n_splits, all_out, all_more_results\n\u001b[0;32m    894\u001b[0m     )\n\u001b[0;32m    896\u001b[0m     \u001b[38;5;28;01mreturn\u001b[39;00m results\n\u001b[1;32m--> 898\u001b[0m \u001b[38;5;28;43mself\u001b[39;49m\u001b[38;5;241;43m.\u001b[39;49m\u001b[43m_run_search\u001b[49m\u001b[43m(\u001b[49m\u001b[43mevaluate_candidates\u001b[49m\u001b[43m)\u001b[49m\n\u001b[0;32m    900\u001b[0m \u001b[38;5;66;03m# multimetric is determined here because in the case of a callable\u001b[39;00m\n\u001b[0;32m    901\u001b[0m \u001b[38;5;66;03m# self.scoring the return type is only known after calling\u001b[39;00m\n\u001b[0;32m    902\u001b[0m first_test_score \u001b[38;5;241m=\u001b[39m all_out[\u001b[38;5;241m0\u001b[39m][\u001b[38;5;124m\"\u001b[39m\u001b[38;5;124mtest_scores\u001b[39m\u001b[38;5;124m\"\u001b[39m]\n",
      "File \u001b[1;32mc:\\Users\\Alex\\anaconda3\\envs\\capstone\\lib\\site-packages\\sklearn\\model_selection\\_search.py:1422\u001b[0m, in \u001b[0;36mGridSearchCV._run_search\u001b[1;34m(self, evaluate_candidates)\u001b[0m\n\u001b[0;32m   1420\u001b[0m \u001b[38;5;28;01mdef\u001b[39;00m \u001b[38;5;21m_run_search\u001b[39m(\u001b[38;5;28mself\u001b[39m, evaluate_candidates):\n\u001b[0;32m   1421\u001b[0m \u001b[38;5;250m    \u001b[39m\u001b[38;5;124;03m\"\"\"Search all candidates in param_grid\"\"\"\u001b[39;00m\n\u001b[1;32m-> 1422\u001b[0m     \u001b[43mevaluate_candidates\u001b[49m\u001b[43m(\u001b[49m\u001b[43mParameterGrid\u001b[49m\u001b[43m(\u001b[49m\u001b[38;5;28;43mself\u001b[39;49m\u001b[38;5;241;43m.\u001b[39;49m\u001b[43mparam_grid\u001b[49m\u001b[43m)\u001b[49m\u001b[43m)\u001b[49m\n",
      "File \u001b[1;32mc:\\Users\\Alex\\anaconda3\\envs\\capstone\\lib\\site-packages\\sklearn\\model_selection\\_search.py:845\u001b[0m, in \u001b[0;36mBaseSearchCV.fit.<locals>.evaluate_candidates\u001b[1;34m(candidate_params, cv, more_results)\u001b[0m\n\u001b[0;32m    837\u001b[0m \u001b[38;5;28;01mif\u001b[39;00m \u001b[38;5;28mself\u001b[39m\u001b[38;5;241m.\u001b[39mverbose \u001b[38;5;241m>\u001b[39m \u001b[38;5;241m0\u001b[39m:\n\u001b[0;32m    838\u001b[0m     \u001b[38;5;28mprint\u001b[39m(\n\u001b[0;32m    839\u001b[0m         \u001b[38;5;124m\"\u001b[39m\u001b[38;5;124mFitting \u001b[39m\u001b[38;5;132;01m{0}\u001b[39;00m\u001b[38;5;124m folds for each of \u001b[39m\u001b[38;5;132;01m{1}\u001b[39;00m\u001b[38;5;124m candidates,\u001b[39m\u001b[38;5;124m\"\u001b[39m\n\u001b[0;32m    840\u001b[0m         \u001b[38;5;124m\"\u001b[39m\u001b[38;5;124m totalling \u001b[39m\u001b[38;5;132;01m{2}\u001b[39;00m\u001b[38;5;124m fits\u001b[39m\u001b[38;5;124m\"\u001b[39m\u001b[38;5;241m.\u001b[39mformat(\n\u001b[0;32m    841\u001b[0m             n_splits, n_candidates, n_candidates \u001b[38;5;241m*\u001b[39m n_splits\n\u001b[0;32m    842\u001b[0m         )\n\u001b[0;32m    843\u001b[0m     )\n\u001b[1;32m--> 845\u001b[0m out \u001b[38;5;241m=\u001b[39m \u001b[43mparallel\u001b[49m\u001b[43m(\u001b[49m\n\u001b[0;32m    846\u001b[0m \u001b[43m    \u001b[49m\u001b[43mdelayed\u001b[49m\u001b[43m(\u001b[49m\u001b[43m_fit_and_score\u001b[49m\u001b[43m)\u001b[49m\u001b[43m(\u001b[49m\n\u001b[0;32m    847\u001b[0m \u001b[43m        \u001b[49m\u001b[43mclone\u001b[49m\u001b[43m(\u001b[49m\u001b[43mbase_estimator\u001b[49m\u001b[43m)\u001b[49m\u001b[43m,\u001b[49m\n\u001b[0;32m    848\u001b[0m \u001b[43m        \u001b[49m\u001b[43mX\u001b[49m\u001b[43m,\u001b[49m\n\u001b[0;32m    849\u001b[0m \u001b[43m        \u001b[49m\u001b[43my\u001b[49m\u001b[43m,\u001b[49m\n\u001b[0;32m    850\u001b[0m \u001b[43m        \u001b[49m\u001b[43mtrain\u001b[49m\u001b[38;5;241;43m=\u001b[39;49m\u001b[43mtrain\u001b[49m\u001b[43m,\u001b[49m\n\u001b[0;32m    851\u001b[0m \u001b[43m        \u001b[49m\u001b[43mtest\u001b[49m\u001b[38;5;241;43m=\u001b[39;49m\u001b[43mtest\u001b[49m\u001b[43m,\u001b[49m\n\u001b[0;32m    852\u001b[0m \u001b[43m        \u001b[49m\u001b[43mparameters\u001b[49m\u001b[38;5;241;43m=\u001b[39;49m\u001b[43mparameters\u001b[49m\u001b[43m,\u001b[49m\n\u001b[0;32m    853\u001b[0m \u001b[43m        \u001b[49m\u001b[43msplit_progress\u001b[49m\u001b[38;5;241;43m=\u001b[39;49m\u001b[43m(\u001b[49m\u001b[43msplit_idx\u001b[49m\u001b[43m,\u001b[49m\u001b[43m \u001b[49m\u001b[43mn_splits\u001b[49m\u001b[43m)\u001b[49m\u001b[43m,\u001b[49m\n\u001b[0;32m    854\u001b[0m \u001b[43m        \u001b[49m\u001b[43mcandidate_progress\u001b[49m\u001b[38;5;241;43m=\u001b[39;49m\u001b[43m(\u001b[49m\u001b[43mcand_idx\u001b[49m\u001b[43m,\u001b[49m\u001b[43m \u001b[49m\u001b[43mn_candidates\u001b[49m\u001b[43m)\u001b[49m\u001b[43m,\u001b[49m\n\u001b[0;32m    855\u001b[0m \u001b[43m        \u001b[49m\u001b[38;5;241;43m*\u001b[39;49m\u001b[38;5;241;43m*\u001b[39;49m\u001b[43mfit_and_score_kwargs\u001b[49m\u001b[43m,\u001b[49m\n\u001b[0;32m    856\u001b[0m \u001b[43m    \u001b[49m\u001b[43m)\u001b[49m\n\u001b[0;32m    857\u001b[0m \u001b[43m    \u001b[49m\u001b[38;5;28;43;01mfor\u001b[39;49;00m\u001b[43m \u001b[49m\u001b[43m(\u001b[49m\u001b[43mcand_idx\u001b[49m\u001b[43m,\u001b[49m\u001b[43m \u001b[49m\u001b[43mparameters\u001b[49m\u001b[43m)\u001b[49m\u001b[43m,\u001b[49m\u001b[43m \u001b[49m\u001b[43m(\u001b[49m\u001b[43msplit_idx\u001b[49m\u001b[43m,\u001b[49m\u001b[43m \u001b[49m\u001b[43m(\u001b[49m\u001b[43mtrain\u001b[49m\u001b[43m,\u001b[49m\u001b[43m \u001b[49m\u001b[43mtest\u001b[49m\u001b[43m)\u001b[49m\u001b[43m)\u001b[49m\u001b[43m \u001b[49m\u001b[38;5;129;43;01min\u001b[39;49;00m\u001b[43m \u001b[49m\u001b[43mproduct\u001b[49m\u001b[43m(\u001b[49m\n\u001b[0;32m    858\u001b[0m \u001b[43m        \u001b[49m\u001b[38;5;28;43menumerate\u001b[39;49m\u001b[43m(\u001b[49m\u001b[43mcandidate_params\u001b[49m\u001b[43m)\u001b[49m\u001b[43m,\u001b[49m\u001b[43m \u001b[49m\u001b[38;5;28;43menumerate\u001b[39;49m\u001b[43m(\u001b[49m\u001b[43mcv\u001b[49m\u001b[38;5;241;43m.\u001b[39;49m\u001b[43msplit\u001b[49m\u001b[43m(\u001b[49m\u001b[43mX\u001b[49m\u001b[43m,\u001b[49m\u001b[43m \u001b[49m\u001b[43my\u001b[49m\u001b[43m,\u001b[49m\u001b[43m \u001b[49m\u001b[43mgroups\u001b[49m\u001b[43m)\u001b[49m\u001b[43m)\u001b[49m\n\u001b[0;32m    859\u001b[0m \u001b[43m    \u001b[49m\u001b[43m)\u001b[49m\n\u001b[0;32m    860\u001b[0m \u001b[43m\u001b[49m\u001b[43m)\u001b[49m\n\u001b[0;32m    862\u001b[0m \u001b[38;5;28;01mif\u001b[39;00m \u001b[38;5;28mlen\u001b[39m(out) \u001b[38;5;241m<\u001b[39m \u001b[38;5;241m1\u001b[39m:\n\u001b[0;32m    863\u001b[0m     \u001b[38;5;28;01mraise\u001b[39;00m \u001b[38;5;167;01mValueError\u001b[39;00m(\n\u001b[0;32m    864\u001b[0m         \u001b[38;5;124m\"\u001b[39m\u001b[38;5;124mNo fits were performed. \u001b[39m\u001b[38;5;124m\"\u001b[39m\n\u001b[0;32m    865\u001b[0m         \u001b[38;5;124m\"\u001b[39m\u001b[38;5;124mWas the CV iterator empty? \u001b[39m\u001b[38;5;124m\"\u001b[39m\n\u001b[0;32m    866\u001b[0m         \u001b[38;5;124m\"\u001b[39m\u001b[38;5;124mWere there no candidates?\u001b[39m\u001b[38;5;124m\"\u001b[39m\n\u001b[0;32m    867\u001b[0m     )\n",
      "File \u001b[1;32mc:\\Users\\Alex\\anaconda3\\envs\\capstone\\lib\\site-packages\\sklearn\\utils\\parallel.py:65\u001b[0m, in \u001b[0;36mParallel.__call__\u001b[1;34m(self, iterable)\u001b[0m\n\u001b[0;32m     60\u001b[0m config \u001b[38;5;241m=\u001b[39m get_config()\n\u001b[0;32m     61\u001b[0m iterable_with_config \u001b[38;5;241m=\u001b[39m (\n\u001b[0;32m     62\u001b[0m     (_with_config(delayed_func, config), args, kwargs)\n\u001b[0;32m     63\u001b[0m     \u001b[38;5;28;01mfor\u001b[39;00m delayed_func, args, kwargs \u001b[38;5;129;01min\u001b[39;00m iterable\n\u001b[0;32m     64\u001b[0m )\n\u001b[1;32m---> 65\u001b[0m \u001b[38;5;28;01mreturn\u001b[39;00m \u001b[38;5;28;43msuper\u001b[39;49m\u001b[43m(\u001b[49m\u001b[43m)\u001b[49m\u001b[38;5;241;43m.\u001b[39;49m\u001b[38;5;21;43m__call__\u001b[39;49m\u001b[43m(\u001b[49m\u001b[43miterable_with_config\u001b[49m\u001b[43m)\u001b[49m\n",
      "File \u001b[1;32mc:\\Users\\Alex\\anaconda3\\envs\\capstone\\lib\\site-packages\\joblib\\parallel.py:1952\u001b[0m, in \u001b[0;36mParallel.__call__\u001b[1;34m(self, iterable)\u001b[0m\n\u001b[0;32m   1946\u001b[0m \u001b[38;5;66;03m# The first item from the output is blank, but it makes the interpreter\u001b[39;00m\n\u001b[0;32m   1947\u001b[0m \u001b[38;5;66;03m# progress until it enters the Try/Except block of the generator and\u001b[39;00m\n\u001b[0;32m   1948\u001b[0m \u001b[38;5;66;03m# reach the first `yield` statement. This starts the aynchronous\u001b[39;00m\n\u001b[0;32m   1949\u001b[0m \u001b[38;5;66;03m# dispatch of the tasks to the workers.\u001b[39;00m\n\u001b[0;32m   1950\u001b[0m \u001b[38;5;28mnext\u001b[39m(output)\n\u001b[1;32m-> 1952\u001b[0m \u001b[38;5;28;01mreturn\u001b[39;00m output \u001b[38;5;28;01mif\u001b[39;00m \u001b[38;5;28mself\u001b[39m\u001b[38;5;241m.\u001b[39mreturn_generator \u001b[38;5;28;01melse\u001b[39;00m \u001b[38;5;28;43mlist\u001b[39;49m\u001b[43m(\u001b[49m\u001b[43moutput\u001b[49m\u001b[43m)\u001b[49m\n",
      "File \u001b[1;32mc:\\Users\\Alex\\anaconda3\\envs\\capstone\\lib\\site-packages\\joblib\\parallel.py:1595\u001b[0m, in \u001b[0;36mParallel._get_outputs\u001b[1;34m(self, iterator, pre_dispatch)\u001b[0m\n\u001b[0;32m   1592\u001b[0m     \u001b[38;5;28;01myield\u001b[39;00m\n\u001b[0;32m   1594\u001b[0m     \u001b[38;5;28;01mwith\u001b[39;00m \u001b[38;5;28mself\u001b[39m\u001b[38;5;241m.\u001b[39m_backend\u001b[38;5;241m.\u001b[39mretrieval_context():\n\u001b[1;32m-> 1595\u001b[0m         \u001b[38;5;28;01myield from\u001b[39;00m \u001b[38;5;28mself\u001b[39m\u001b[38;5;241m.\u001b[39m_retrieve()\n\u001b[0;32m   1597\u001b[0m \u001b[38;5;28;01mexcept\u001b[39;00m \u001b[38;5;167;01mGeneratorExit\u001b[39;00m:\n\u001b[0;32m   1598\u001b[0m     \u001b[38;5;66;03m# The generator has been garbage collected before being fully\u001b[39;00m\n\u001b[0;32m   1599\u001b[0m     \u001b[38;5;66;03m# consumed. This aborts the remaining tasks if possible and warn\u001b[39;00m\n\u001b[0;32m   1600\u001b[0m     \u001b[38;5;66;03m# the user if necessary.\u001b[39;00m\n\u001b[0;32m   1601\u001b[0m     \u001b[38;5;28mself\u001b[39m\u001b[38;5;241m.\u001b[39m_exception \u001b[38;5;241m=\u001b[39m \u001b[38;5;28;01mTrue\u001b[39;00m\n",
      "File \u001b[1;32mc:\\Users\\Alex\\anaconda3\\envs\\capstone\\lib\\site-packages\\joblib\\parallel.py:1707\u001b[0m, in \u001b[0;36mParallel._retrieve\u001b[1;34m(self)\u001b[0m\n\u001b[0;32m   1702\u001b[0m \u001b[38;5;66;03m# If the next job is not ready for retrieval yet, we just wait for\u001b[39;00m\n\u001b[0;32m   1703\u001b[0m \u001b[38;5;66;03m# async callbacks to progress.\u001b[39;00m\n\u001b[0;32m   1704\u001b[0m \u001b[38;5;28;01mif\u001b[39;00m ((\u001b[38;5;28mlen\u001b[39m(\u001b[38;5;28mself\u001b[39m\u001b[38;5;241m.\u001b[39m_jobs) \u001b[38;5;241m==\u001b[39m \u001b[38;5;241m0\u001b[39m) \u001b[38;5;129;01mor\u001b[39;00m\n\u001b[0;32m   1705\u001b[0m     (\u001b[38;5;28mself\u001b[39m\u001b[38;5;241m.\u001b[39m_jobs[\u001b[38;5;241m0\u001b[39m]\u001b[38;5;241m.\u001b[39mget_status(\n\u001b[0;32m   1706\u001b[0m         timeout\u001b[38;5;241m=\u001b[39m\u001b[38;5;28mself\u001b[39m\u001b[38;5;241m.\u001b[39mtimeout) \u001b[38;5;241m==\u001b[39m TASK_PENDING)):\n\u001b[1;32m-> 1707\u001b[0m     \u001b[43mtime\u001b[49m\u001b[38;5;241;43m.\u001b[39;49m\u001b[43msleep\u001b[49m\u001b[43m(\u001b[49m\u001b[38;5;241;43m0.01\u001b[39;49m\u001b[43m)\u001b[49m\n\u001b[0;32m   1708\u001b[0m     \u001b[38;5;28;01mcontinue\u001b[39;00m\n\u001b[0;32m   1710\u001b[0m \u001b[38;5;66;03m# We need to be careful: the job list can be filling up as\u001b[39;00m\n\u001b[0;32m   1711\u001b[0m \u001b[38;5;66;03m# we empty it and Python list are not thread-safe by\u001b[39;00m\n\u001b[0;32m   1712\u001b[0m \u001b[38;5;66;03m# default hence the use of the lock\u001b[39;00m\n",
      "\u001b[1;31mKeyboardInterrupt\u001b[0m: "
     ]
    }
   ],
   "source": [
    "# Instantiate the log reg grid search\n",
    "logreg_gs = GridSearchCV(my_pipeline, param_grid=logreg_param_grid, cv=5, n_jobs=-1)\n",
    "\n",
    "# Fit the log reg grid search\n",
    "fitted_logreg_gs = logreg_gs.fit(X_train, y_train)"
   ]
  },
  {
   "cell_type": "code",
   "execution_count": null,
   "metadata": {},
   "outputs": [
    {
     "name": "stdout",
     "output_type": "stream",
     "text": [
      "Best parameters set found on development set:\n",
      "{'dim_reducer': None, 'model': LogisticRegression(n_jobs=-1, penalty='l1', random_state=1, solver='liblinear'), 'model__C': 1, 'scaler': MinMaxScaler()}\n",
      "Best score: 0.960736810668567\n"
     ]
    }
   ],
   "source": [
    "# Reviewing the results\n",
    "print(\"Best parameters set found on development set:\")\n",
    "print(logreg_gs.best_params_)\n",
    "print(\"Best score:\", logreg_gs.best_score_)"
   ]
  },
  {
   "cell_type": "markdown",
   "metadata": {},
   "source": [
    "The results above show the best parameters for predicting the F1 race winner, were found using a logistic regression model with a very high regularization strength (`C=10000`) and no dimensionality reduction (`'dim_reducer': None`). The best score, which is the accuracy of the model on the validation set, is approximately 96.1%.\n",
    "\n",
    "It's also important to note that the penalty is not explicitly mentioned, which means that the logistic regression is using its default `l2` penalty, also known as ridge regression. The `l2` penalty is used to prevent overfitting by adding a regularization term to the loss function, which penalizes large coefficients. The high value of `C` implies that the model is giving less importance to this regularization term, relying more on the data itself for prediction. "
   ]
  },
  {
   "cell_type": "markdown",
   "metadata": {},
   "source": [
    "#### Testing the model on the \"test set\""
   ]
  },
  {
   "cell_type": "code",
   "execution_count": null,
   "metadata": {},
   "outputs": [],
   "source": [
    "# Define X and Y for the training model\n",
    "X_test = test_data.drop('race_win', axis=1)\n",
    "y_test = test_data['race_win']"
   ]
  },
  {
   "cell_type": "code",
   "execution_count": null,
   "metadata": {},
   "outputs": [],
   "source": [
    "# Making predictions using the best estimator\n",
    "y_pred = logreg_gs.predict(X_test)\n",
    "\n",
    "# logreg_gs.score(x_test,y_test)"
   ]
  },
  {
   "cell_type": "code",
   "execution_count": null,
   "metadata": {},
   "outputs": [
    {
     "name": "stdout",
     "output_type": "stream",
     "text": [
      "Confusion Matrix:\n",
      "[[2044   33]\n",
      " [  72   36]]\n",
      "Classification Report:\n",
      "              precision    recall  f1-score   support\n",
      "\n",
      "           0       0.97      0.98      0.97      2077\n",
      "           1       0.52      0.33      0.41       108\n",
      "\n",
      "    accuracy                           0.95      2185\n",
      "   macro avg       0.74      0.66      0.69      2185\n",
      "weighted avg       0.94      0.95      0.95      2185\n",
      "\n",
      "Accuracy: 0.9519450800915332\n"
     ]
    }
   ],
   "source": [
    "# Evaluating the model\n",
    "print(\"Confusion Matrix:\")\n",
    "print(confusion_matrix(y_test, y_pred))\n",
    "print(\"Classification Report:\")\n",
    "print(classification_report(y_test, y_pred))\n",
    "print(\"Accuracy:\", accuracy_score(y_test, y_pred))"
   ]
  },
  {
   "cell_type": "markdown",
   "metadata": {},
   "source": [
    "From the new confusion matrix, we can see that the model predicted the majority class (0,  the 'non-winner') quite accurately, with 2044 true negatives and only 33 false positives. However, it struggled more with the minority class (1, the 'winner'), with a higher proportion of false negatives (72) relative to true positives (36). \n",
    "\n",
    "The classification report provides additional insight. The precision for class 1 is 0.52, meaning that when the model predicts a race winner, it is correct 52% of the time. The recall for class 1 is 0.33, indicating that the model only identifies 33% of the actual race winners. This is reflected in the lower F1-score for class 1 (0.41), which is a harmonic mean of precision and recall, showing that the model is less adept at predicting winners than non-winners.\n",
    "\n",
    "Overall, the model is quite accurate (95.19%) when considering both classes together, but this high accuracy is largely due to its performance on the majority class. The relatively low F1-score for predicting winners suggests that there is room for improvement, particularly in how the model identifies the comparatively rare event of a race win."
   ]
  },
  {
   "cell_type": "markdown",
   "metadata": {},
   "source": [
    "#### **Comparison of the models**"
   ]
  },
  {
   "cell_type": "markdown",
   "metadata": {},
   "source": [
    "Comparing the two models for our F1 race winner prediction project, the two models have similar accuracy scores, but the second \"tuned\" model is less effective at predicting the positive class (label 1), which is our class of interest (the actual race winners). The second \"tuned\" model had a worse balance between sensitivity and precision for the positive class, with a recall of 0.33 versus 0.39 in the first model, suggesting it was worse at identifying actual winners. This trade-off is important in our project context where the correct prediction of race winners (a likely rare event) is more valuable than the overall accuracy rate."
   ]
  },
  {
   "cell_type": "markdown",
   "metadata": {},
   "source": [
    "### 6. **Decision Tree**"
   ]
  },
  {
   "cell_type": "markdown",
   "metadata": {},
   "source": [
    "After exploring the predictive capabilities of logistic regression in our project to forecast F1 race winners, we're turning our attention to the Decision Tree model as our next candidate. Decision Trees can capture non-linear relationships between features and the target variable, which might be prevalent in complex scenarios like F1 racing where interactions between conditions and driver capabilities can influence the outcome. Additionally, they offer excellent interpretability; we can easily understand and visualize the decision-making process of the model."
   ]
  },
  {
   "cell_type": "code",
   "execution_count": null,
   "metadata": {},
   "outputs": [],
   "source": [
    "pipe_dt = Pipeline([('scl', StandardScaler()),\n",
    "                    ('DT',DecisionTreeClassifier(random_state=42))])"
   ]
  },
  {
   "cell_type": "markdown",
   "metadata": {},
   "source": [
    "When tuning models for predicting outcomes like an F1 race winner, hyperparameters like  'DT_criterion', 'DT_min_samples_leaf', 'DT_max_depth', and 'DT_min_samples_split' for decision trees help to define how the tree makes decisions, which impacts the model's complexity and ability to generalize."
   ]
  },
  {
   "cell_type": "code",
   "execution_count": null,
   "metadata": {},
   "outputs": [],
   "source": [
    "# create parameter grid for model\n",
    "dt_param_grid = [{'DT__criterion': ['gini', 'entropy'],\n",
    "                   'DT__min_samples_leaf': [1, 2, 3, 4, 5, 6],\n",
    "                   'DT__max_depth': [1, 2, 3, 4, 5, 6],\n",
    "                   'DT__min_samples_split': [2, 3, 4, 5, 6]}]"
   ]
  },
  {
   "cell_type": "markdown",
   "metadata": {},
   "source": [
    "**DT_criterion**:\n",
    "1. '**gini**': Uses the Gini impurity as the criterion for splitting. It measures how often a randomly chosen element from the set would be incorrectly labeled. The 'gini' value gives you a number that represents this mix-up; the closer to zero, the less mixed (or impure) the group is, meaning your split did a good job. If the 'gini' value is higher, your groups are mixed, and the split could probably be better.\n",
    "2. '**entropy**': Uses the information gain (entropy) for splitting. It measures the reduction in entropy or surprise from transforming a dataset in some way.\n",
    "\n",
    "**DT_min_samples_leaf**:\n",
    "Specifies the minimum number of samples required to be at a leaf node. A split point at any depth will only be considered if it leaves at least this number of training samples in each of the left and right branches. This helps to control over-fitting by smoothing the model.\n",
    "\n",
    "**DT_max_depth**:\n",
    "Indicates the maximum depth of the tree. It is used to control over-fitting as higher depth will allow the model to learn relations very specific to the particular sample.\n",
    "\n",
    "**DT_min_samples_split**:\n",
    "Represents the minimum number of samples required to split an internal node. This provides a way to control over-fitting by requiring a larger sample size for a split to be considered."
   ]
  },
  {
   "cell_type": "code",
   "execution_count": null,
   "metadata": {},
   "outputs": [],
   "source": [
    "# finally, create a gridsearchcv object with the param grid\n",
    "dt_grid_search = GridSearchCV(estimator=pipe_dt,\n",
    "        param_grid=dt_param_grid,\n",
    "        scoring='accuracy',\n",
    "        cv=5)"
   ]
  },
  {
   "cell_type": "code",
   "execution_count": null,
   "metadata": {},
   "outputs": [],
   "source": [
    "# putting it all together\n",
    "grids = [dt_grid_search]\n",
    "for pipe in grids:\n",
    "    pipe.fit(X_train,y_train)"
   ]
  },
  {
   "cell_type": "code",
   "execution_count": null,
   "metadata": {},
   "outputs": [
    {
     "name": "stdout",
     "output_type": "stream",
     "text": [
      "Decision Trees Test Accuracy: 0.9505720823798627\n",
      "Decision Trees Best Params: {'DT__criterion': 'entropy', 'DT__max_depth': 5, 'DT__min_samples_leaf': 5, 'DT__min_samples_split': 2}\n"
     ]
    }
   ],
   "source": [
    "# find out performance of each model and best params\n",
    "grid_dict = {0: 'Decision Trees'}\n",
    "for i, model in enumerate(grids):\n",
    "    print('{} Test Accuracy: {}'.format(grid_dict[i],model.score(X_test,y_test)))\n",
    "    print('{} Best Params: {}'.format(grid_dict[i],model.best_params_))"
   ]
  },
  {
   "cell_type": "markdown",
   "metadata": {},
   "source": [
    "#### **Analyse the results**"
   ]
  },
  {
   "cell_type": "code",
   "execution_count": null,
   "metadata": {},
   "outputs": [],
   "source": [
    "# Obtain predictions from the best decision tree model\n",
    "y_pred_dt = dt_grid_search.best_estimator_.predict(X_test)"
   ]
  },
  {
   "cell_type": "code",
   "execution_count": null,
   "metadata": {},
   "outputs": [
    {
     "name": "stdout",
     "output_type": "stream",
     "text": [
      "Decision Tree Classification Report:\n",
      "              precision    recall  f1-score   support\n",
      "\n",
      "           0       0.97      0.98      0.97      2077\n",
      "           1       0.50      0.34      0.41       108\n",
      "\n",
      "    accuracy                           0.95      2185\n",
      "   macro avg       0.73      0.66      0.69      2185\n",
      "weighted avg       0.94      0.95      0.95      2185\n",
      "\n",
      "Decision Tree Confusion Matrix:\n",
      "[[2040   37]\n",
      " [  71   37]]\n"
     ]
    }
   ],
   "source": [
    "print(\"Decision Tree Classification Report:\")\n",
    "print(classification_report(y_test, y_pred_dt))\n",
    "\n",
    "print(\"Decision Tree Confusion Matrix:\")\n",
    "print(confusion_matrix(y_test, y_pred_dt))"
   ]
  },
  {
   "cell_type": "markdown",
   "metadata": {},
   "source": [
    "The classification reports and confusion matrices for our F1 race winner prediction project reveal key insights into model performance. The Logistic Regression model has high precision and recall for the majority class (label 0), but it struggles with the minority class (label 1 - the actual race winners), with significantly lower recall. This means it often misses identifying the true race winners. \n",
    "\n",
    "The Decision Tree model shows a slightly more balanced performance between the classes, though overall it has lower precision and recall, which might lead to more false positives and false negatives overall. \n",
    "\n",
    "The confusion matrices further highlight these points: Logistic Regression correctly identifies non-winners most of the time but fails to identify winners reliably, while the Decision Tree sacrifices some accuracy on the majority class for a tiny improvement in identifying winners.\n",
    "\n",
    "Either way, the results still aren't great at predicting the race winner, so we will need to work on other ideas to improve our model"
   ]
  },
  {
   "cell_type": "markdown",
   "metadata": {},
   "source": [
    "### 7.  Random Forest"
   ]
  },
  {
   "cell_type": "code",
   "execution_count": null,
   "metadata": {},
   "outputs": [
    {
     "data": {
      "text/html": [
       "<style>#sk-container-id-2 {color: black;}#sk-container-id-2 pre{padding: 0;}#sk-container-id-2 div.sk-toggleable {background-color: white;}#sk-container-id-2 label.sk-toggleable__label {cursor: pointer;display: block;width: 100%;margin-bottom: 0;padding: 0.3em;box-sizing: border-box;text-align: center;}#sk-container-id-2 label.sk-toggleable__label-arrow:before {content: \"▸\";float: left;margin-right: 0.25em;color: #696969;}#sk-container-id-2 label.sk-toggleable__label-arrow:hover:before {color: black;}#sk-container-id-2 div.sk-estimator:hover label.sk-toggleable__label-arrow:before {color: black;}#sk-container-id-2 div.sk-toggleable__content {max-height: 0;max-width: 0;overflow: hidden;text-align: left;background-color: #f0f8ff;}#sk-container-id-2 div.sk-toggleable__content pre {margin: 0.2em;color: black;border-radius: 0.25em;background-color: #f0f8ff;}#sk-container-id-2 input.sk-toggleable__control:checked~div.sk-toggleable__content {max-height: 200px;max-width: 100%;overflow: auto;}#sk-container-id-2 input.sk-toggleable__control:checked~label.sk-toggleable__label-arrow:before {content: \"▾\";}#sk-container-id-2 div.sk-estimator input.sk-toggleable__control:checked~label.sk-toggleable__label {background-color: #d4ebff;}#sk-container-id-2 div.sk-label input.sk-toggleable__control:checked~label.sk-toggleable__label {background-color: #d4ebff;}#sk-container-id-2 input.sk-hidden--visually {border: 0;clip: rect(1px 1px 1px 1px);clip: rect(1px, 1px, 1px, 1px);height: 1px;margin: -1px;overflow: hidden;padding: 0;position: absolute;width: 1px;}#sk-container-id-2 div.sk-estimator {font-family: monospace;background-color: #f0f8ff;border: 1px dotted black;border-radius: 0.25em;box-sizing: border-box;margin-bottom: 0.5em;}#sk-container-id-2 div.sk-estimator:hover {background-color: #d4ebff;}#sk-container-id-2 div.sk-parallel-item::after {content: \"\";width: 100%;border-bottom: 1px solid gray;flex-grow: 1;}#sk-container-id-2 div.sk-label:hover label.sk-toggleable__label {background-color: #d4ebff;}#sk-container-id-2 div.sk-serial::before {content: \"\";position: absolute;border-left: 1px solid gray;box-sizing: border-box;top: 0;bottom: 0;left: 50%;z-index: 0;}#sk-container-id-2 div.sk-serial {display: flex;flex-direction: column;align-items: center;background-color: white;padding-right: 0.2em;padding-left: 0.2em;position: relative;}#sk-container-id-2 div.sk-item {position: relative;z-index: 1;}#sk-container-id-2 div.sk-parallel {display: flex;align-items: stretch;justify-content: center;background-color: white;position: relative;}#sk-container-id-2 div.sk-item::before, #sk-container-id-2 div.sk-parallel-item::before {content: \"\";position: absolute;border-left: 1px solid gray;box-sizing: border-box;top: 0;bottom: 0;left: 50%;z-index: -1;}#sk-container-id-2 div.sk-parallel-item {display: flex;flex-direction: column;z-index: 1;position: relative;background-color: white;}#sk-container-id-2 div.sk-parallel-item:first-child::after {align-self: flex-end;width: 50%;}#sk-container-id-2 div.sk-parallel-item:last-child::after {align-self: flex-start;width: 50%;}#sk-container-id-2 div.sk-parallel-item:only-child::after {width: 0;}#sk-container-id-2 div.sk-dashed-wrapped {border: 1px dashed gray;margin: 0 0.4em 0.5em 0.4em;box-sizing: border-box;padding-bottom: 0.4em;background-color: white;}#sk-container-id-2 div.sk-label label {font-family: monospace;font-weight: bold;display: inline-block;line-height: 1.2em;}#sk-container-id-2 div.sk-label-container {text-align: center;}#sk-container-id-2 div.sk-container {/* jupyter's `normalize.less` sets `[hidden] { display: none; }` but bootstrap.min.css set `[hidden] { display: none !important; }` so we also need the `!important` here to be able to override the default hidden behavior on the sphinx rendered scikit-learn.org. See: https://github.com/scikit-learn/scikit-learn/issues/21755 */display: inline-block !important;position: relative;}#sk-container-id-2 div.sk-text-repr-fallback {display: none;}</style><div id=\"sk-container-id-2\" class=\"sk-top-container\"><div class=\"sk-text-repr-fallback\"><pre>RandomForestClassifier(random_state=42)</pre><b>In a Jupyter environment, please rerun this cell to show the HTML representation or trust the notebook. <br />On GitHub, the HTML representation is unable to render, please try loading this page with nbviewer.org.</b></div><div class=\"sk-container\" hidden><div class=\"sk-item\"><div class=\"sk-estimator sk-toggleable\"><input class=\"sk-toggleable__control sk-hidden--visually\" id=\"sk-estimator-id-2\" type=\"checkbox\" checked><label for=\"sk-estimator-id-2\" class=\"sk-toggleable__label sk-toggleable__label-arrow\">RandomForestClassifier</label><div class=\"sk-toggleable__content\"><pre>RandomForestClassifier(random_state=42)</pre></div></div></div></div></div>"
      ],
      "text/plain": [
       "RandomForestClassifier(random_state=42)"
      ]
     },
     "execution_count": 39,
     "metadata": {},
     "output_type": "execute_result"
    }
   ],
   "source": [
    "from sklearn.ensemble import RandomForestClassifier\n",
    "\n",
    "# Initialize the classifier\n",
    "classifier = RandomForestClassifier(random_state=42)\n",
    "\n",
    "# Fit the model\n",
    "classifier.fit(X_train, y_train)\n"
   ]
  },
  {
   "cell_type": "code",
   "execution_count": null,
   "metadata": {},
   "outputs": [
    {
     "name": "stdout",
     "output_type": "stream",
     "text": [
      "              precision    recall  f1-score   support\n",
      "\n",
      "           0       0.96      0.99      0.98      2077\n",
      "           1       0.57      0.25      0.35       108\n",
      "\n",
      "    accuracy                           0.95      2185\n",
      "   macro avg       0.77      0.62      0.66      2185\n",
      "weighted avg       0.94      0.95      0.95      2185\n",
      "\n",
      "[[2057   20]\n",
      " [  81   27]]\n"
     ]
    }
   ],
   "source": [
    "# Predict the test set\n",
    "y_pred_rf = classifier.predict(X_test)\n",
    "\n",
    "# Print the classification report and confusion matrix for Non-Tuned Random Forest\n",
    "print(classification_report(y_test, y_pred_rf))\n",
    "print(confusion_matrix(y_test, y_pred_rf))\n"
   ]
  },
  {
   "cell_type": "markdown",
   "metadata": {},
   "source": [
    "The confusion matrix for this Random Forest reveals that our model has a high precision (96%) and recall (99%) for the negative class (label 0), suggesting it's quite adept at identifying non-winners (similar to the other models). However, for the positive class (label 1), which corresponds to the actual winners, the precision drops to 57%, and recall is only 25%, indicating the model struggles with correctly identifying race winners. The accuracy of the model stands at 66%, but the low recall for class 1 shows that the model requires further tuning to improve its predictive performance for our positive class of interest, the race winners. We will now tune the model, to see if we can get to a better outcome."
   ]
  },
  {
   "cell_type": "code",
   "execution_count": null,
   "metadata": {},
   "outputs": [
    {
     "name": "stdout",
     "output_type": "stream",
     "text": [
      "Fitting 5 folds for each of 12 candidates, totalling 60 fits\n",
      "Best parameters found: {'max_depth': None, 'n_estimators': 100}\n"
     ]
    }
   ],
   "source": [
    "from sklearn.model_selection import GridSearchCV\n",
    "\n",
    "# Define the parameter grid\n",
    "param_grid_rf = {\n",
    "    'n_estimators': [100, 200, 300],\n",
    "    'max_depth': [None, 10, 20, 30],\n",
    "}\n",
    "\n",
    "# Initialize the grid search model\n",
    "grid_search = GridSearchCV(estimator=classifier, param_grid=param_grid_rf, cv=5, n_jobs=-1, verbose=2)\n",
    "\n",
    "# Fit the grid search to the data\n",
    "grid_search.fit(X_train, y_train)\n",
    "\n",
    "# Get the best parameters\n",
    "print(\"Best parameters found:\", grid_search.best_params_)\n"
   ]
  },
  {
   "cell_type": "markdown",
   "metadata": {},
   "source": [
    "The grid search method exhaustively experimented with various combinations of the number of trees (n_estimators) and the maximum depth of the trees (max_depth) to find the most optimal settings. The results indicate that a configuration of 100 trees with each tree having no max depth, was the best model performance according to the evaluation metrics used during the cross-validation process. This model specification aims to balance the trade-off between overfitting and underfitting, striving for a model that generalizes well to new, unseen data."
   ]
  },
  {
   "cell_type": "code",
   "execution_count": null,
   "metadata": {},
   "outputs": [
    {
     "name": "stdout",
     "output_type": "stream",
     "text": [
      "Cross-validation scores: [0.95938215 0.96336577 0.95477962 0.95306239 0.9593589 ]\n"
     ]
    }
   ],
   "source": [
    "from sklearn.model_selection import cross_val_score\n",
    "\n",
    "# Perform cross-validation\n",
    "scores = cross_val_score(classifier, X_train, y_train, cv=5)\n",
    "\n",
    "# Print the cross-validation scores\n",
    "print(\"Cross-validation scores:\", scores)\n"
   ]
  },
  {
   "cell_type": "markdown",
   "metadata": {},
   "source": [
    "The cross-validation scores displayed here are the results of evaluating our model's performance on different subsets of our training data. The scores are relatively close to each other, ranging from approximately 95.3% to 96.3% accuracy, which suggests that our model is stable and provides consistent predictions across different data splits. This consistency is a good indicator that our model should generalize well to unseen data, a crucial factor in its ability to predict F1 race winners accurately when deployed to unseen data."
   ]
  },
  {
   "cell_type": "code",
   "execution_count": null,
   "metadata": {},
   "outputs": [
    {
     "data": {
      "text/plain": [
       "['finalized_model_v2.pkl']"
      ]
     },
     "execution_count": 44,
     "metadata": {},
     "output_type": "execute_result"
    }
   ],
   "source": [
    "import joblib\n",
    "\n",
    "# Save the model\n",
    "joblib.dump(classifier, 'finalized_model_v2.pkl')"
   ]
  },
  {
   "cell_type": "code",
   "execution_count": null,
   "metadata": {},
   "outputs": [],
   "source": [
    "# Load the model\n",
    "loaded_model = joblib.load('finalized_model_v2.pkl')\n",
    "\n",
    "# Predict new data\n",
    "new_data_predictions = loaded_model.predict(X_test)\n"
   ]
  },
  {
   "cell_type": "code",
   "execution_count": null,
   "metadata": {},
   "outputs": [
    {
     "name": "stdout",
     "output_type": "stream",
     "text": [
      "Accuracy: 0.9537757437070938\n"
     ]
    }
   ],
   "source": [
    "# Evaluate accuracy\n",
    "accuracy = accuracy_score(y_test, new_data_predictions)\n",
    "print(f\"Accuracy: {accuracy}\")"
   ]
  },
  {
   "cell_type": "code",
   "execution_count": null,
   "metadata": {},
   "outputs": [
    {
     "name": "stdout",
     "output_type": "stream",
     "text": [
      "[[2057   20]\n",
      " [  81   27]]\n",
      "              precision    recall  f1-score   support\n",
      "\n",
      "           0       0.96      0.99      0.98      2077\n",
      "           1       0.57      0.25      0.35       108\n",
      "\n",
      "    accuracy                           0.95      2185\n",
      "   macro avg       0.77      0.62      0.66      2185\n",
      "weighted avg       0.94      0.95      0.95      2185\n",
      "\n"
     ]
    }
   ],
   "source": [
    "# Detailed classification report for Tuned Random Forest\n",
    "print(confusion_matrix(y_test, new_data_predictions))\n",
    "print(classification_report(y_test, new_data_predictions))"
   ]
  },
  {
   "cell_type": "markdown",
   "metadata": {},
   "source": [
    "### Random Forest Conclusion\n",
    "In our quest to predict Formula 1 race winners, we've employed a Random Forest algorithm, examining its performance in both non-tuned and tuned states. \n",
    "\n",
    "**Non-Tuned** For the non-tuned Random Forest model, the classification report reveals a high precision and recall for class 0 (non-winners), suggesting strong performance in identifying races where a driver did not win. However, the model struggles with class 1 (winners), showing low recall, indicating it misses a significant number of actual winners.\n",
    "The confusion matrix for the non-tuned model, with values [[2057, 20], [81, 27]], further illustrates this point: out of 108 actual winners, it correctly identifies only 27, missing 81 — a substantial portion.\n",
    "\n",
    "**Tuned** Shifting our focus to the tuned Random Forest, which has been optimized with a maximum depth of `none` and `100` estimators, we observe no change. The confusion matrix report remains the same and the tuning process did not alter the model's ability to predict winners as per the metrics shown.\n",
    "\n",
    "In conclusion, while tuning parameters has optimized our model, it has not effectively enhanced its predictive accuracy for race winners (class 1). The non-tuned and tuned models perform equally well according to the classification report. Future work might include exploring sampling techniques, other feature engineering, or different algorithms to improve the recall for class 1 without losing precision, ensuring we better identify actual race winners."
   ]
  },
  {
   "cell_type": "markdown",
   "metadata": {},
   "source": [
    "## **What do the models show us so far?**"
   ]
  },
  {
   "cell_type": "code",
   "execution_count": null,
   "metadata": {},
   "outputs": [],
   "source": [
    "import pandas as pd\n",
    "\n",
    "# Example scores, replace these with your actual model scores\n",
    "model_names = ['Logistic Regression Untuned', 'Logistic Regression Tuned', \n",
    "          'Decision Tree Tuned', 'Random Forest', 'Random Forest Tuned']\n",
    "accuracies = [0.95, 0.95, 0.95, 0.95, 0.95]  # Replace with actual accuracy scores\n",
    "macro_f1s = [0.7, 0.70, 0.69, 0.66, 0.66]  # Replace with actual macro F1 scores\n",
    "precisions = [0.49, 0.52, 0.5, 0.57, 0.57]  # Replace with actual precision scores\n",
    "recalls = [0.39, 0.33, 0.34, 0.25, 0.25] # Replace with actual recall scores\n",
    "class_1_f1s = [0.43, 0.41, 0.41, 0.35, 0.35]  # Replace with actual '1' F1 scores\n",
    "\n",
    "# Initialize the DataFrame with these lists\n",
    "results_df = pd.DataFrame({\n",
    "    'Model': model_names,\n",
    "    'Model Accuracy': accuracies,\n",
    "    'Macro F1': macro_f1s,\n",
    "    'Class 1 Precision': precisions,\n",
    "    'Class 1 Recall': recalls,\n",
    "    'Class 1 F1': class_1_f1s\n",
    "})\n",
    "\n",
    "# Display the DataFrame\n",
    "results_df"
   ]
  },
  {
   "cell_type": "code",
   "execution_count": null,
   "metadata": {},
   "outputs": [
    {
     "data": {
      "image/png": "[encoded data removed]",
      "text/plain": [
       "<Figure size 1000x600 with 1 Axes>"
      ]
     },
     "metadata": {},
     "output_type": "display_data"
    }
   ],
   "source": [
    "import matplotlib.pyplot as plt\n",
    "import numpy as np\n",
    "\n",
    "# Define the model names and their respective scores\n",
    "models = ['Logistic Regression Untuned', 'Logistic Regression Tuned', \n",
    "          'Decision Tree Tuned', 'Random Forest', 'Random Forest Tuned']\n",
    "model_accuracy = [0.95, 0.95, 0.95, 0.95, 0.95]\n",
    "class_1_f1 = [0.43, 0.41, 0.41, 0.35, 0.35]\n",
    "\n",
    "# Set up the figure and axis\n",
    "fig, ax = plt.subplots(figsize=(10, 6))\n",
    "\n",
    "# Set the positions and width for the bars\n",
    "positions = np.arange(len(models))\n",
    "bar_width = 0.35\n",
    "\n",
    "# Brighter hues for 'Logistic Regression Tuned'\n",
    "bright_blue = '#0000FF'  # Bright blue color\n",
    "bright_orange = '#FFA500'  # Bright orange color\n",
    "\n",
    "# Standard hues for other models\n",
    "standard_blue = '#add8e6'  # Light blue color\n",
    "standard_orange = '#ffcc99'  # Light orange color\n",
    "\n",
    "# Define bar colors based on the model\n",
    "accuracy_colors = [bright_blue if model == 'Logistic Regression Tuned' else standard_blue for model in models]\n",
    "f1_score_colors = [bright_orange if model == 'Logistic Regression Tuned' else standard_orange for model in models]\n",
    "\n",
    "# Plot the 'Model Accuracy' bars\n",
    "ax.bar(positions - bar_width/2, model_accuracy, bar_width, label='Model Accuracy', color=accuracy_colors)\n",
    "\n",
    "# Plot the 'Class 1 F1 Score' bars\n",
    "ax.bar(positions + bar_width/2, class_1_f1, bar_width, label='Class 1 F1 Score', color=f1_score_colors)\n",
    "\n",
    "# Add the model names as x-axis labels\n",
    "ax.set_xticks(positions)\n",
    "ax.set_xticklabels(models, rotation=45, ha='right')\n",
    "\n",
    "# Set the chart title and labels\n",
    "ax.set_title('Model Performance: Accuracy vs. Class 1 F1 Score')\n",
    "ax.set_xlabel('Model')\n",
    "ax.set_ylabel('Score')\n",
    "\n",
    "# Add a legend\n",
    "ax.legend()\n",
    "\n",
    "# Show the plot\n",
    "plt.tight_layout()\n",
    "plt.show()\n",
    "\n"
   ]
  },
  {
   "cell_type": "markdown",
   "metadata": {},
   "source": [
    "The bar chart here clearly positions the Tuned Logistic Regression as our top-performing model, striking an impressive balance between model accuracy and the Class 1 F1 score. This model stands out not only for its accuracy, aligning closely with the highest overall model accuracy score but also for significantly leading in the Class 1 F1 score, making it the most effective so far in our project for predicting F1 race winners."
   ]
  },
  {
   "cell_type": "markdown",
   "metadata": {},
   "source": [
    "### **8. Correcting the Imbalance in the dataset**"
   ]
  },
  {
   "cell_type": "markdown",
   "metadata": {},
   "source": [
    "Predicting race winners so far has been a challenging binary classification challenge due to the significant class imbalance, as shown earlier on in this notebook. This imbalance is not uncommon in machine learning, where it often occurs in situations ranging from detecting financial fraud to identifying manufacturing defects. \n",
    "\n",
    "To tackle this, we can employ techniques like the **Synthetic Minority Oversampling Technique (SMOTE)**, which synthetically boosts the presence of the minority class—in our case, actual race winners—within the dataset. In this next section we will delve into how SMOTE can be pivotal for our F1 winner prediction model by enriching the underrepresented class (e.g. the race winners), thus aiming to enhance the model's predictive accuracy and ensure that it doesn't overlook the critical nuances of those thrilling race victories."
   ]
  },
  {
   "cell_type": "code",
   "execution_count": 2,
   "metadata": {},
   "outputs": [
    {
     "data": {
      "text/html": [
       "<div>\n",
       "<style scoped>\n",
       "    .dataframe tbody tr th:only-of-type {\n",
       "        vertical-align: middle;\n",
       "    }\n",
       "\n",
       "    .dataframe tbody tr th {\n",
       "        vertical-align: top;\n",
       "    }\n",
       "\n",
       "    .dataframe thead th {\n",
       "        text-align: right;\n",
       "    }\n",
       "</style>\n",
       "<table border=\"1\" class=\"dataframe\">\n",
       "  <thead>\n",
       "    <tr style=\"text-align: right;\">\n",
       "      <th></th>\n",
       "      <th>year</th>\n",
       "      <th>age</th>\n",
       "      <th>years_in_f1</th>\n",
       "      <th>races_with_each_team_since_1995</th>\n",
       "      <th>F2_champion</th>\n",
       "      <th>Former_F1_World_Champion</th>\n",
       "      <th>home_race</th>\n",
       "      <th>starting_grid_position</th>\n",
       "      <th>points_in_previous_race</th>\n",
       "      <th>laps_in_previous_race</th>\n",
       "      <th>...</th>\n",
       "      <th>constructorId_3</th>\n",
       "      <th>constructorId_30</th>\n",
       "      <th>constructorId_31</th>\n",
       "      <th>constructorId_4</th>\n",
       "      <th>constructorId_5</th>\n",
       "      <th>constructorId_51</th>\n",
       "      <th>constructorId_6</th>\n",
       "      <th>constructorId_7</th>\n",
       "      <th>constructorId_8</th>\n",
       "      <th>constructorId_9</th>\n",
       "    </tr>\n",
       "  </thead>\n",
       "  <tbody>\n",
       "    <tr>\n",
       "      <th>0</th>\n",
       "      <td>1995</td>\n",
       "      <td>29</td>\n",
       "      <td>4</td>\n",
       "      <td>1</td>\n",
       "      <td>0</td>\n",
       "      <td>0</td>\n",
       "      <td>0</td>\n",
       "      <td>17</td>\n",
       "      <td>1.0</td>\n",
       "      <td>70</td>\n",
       "      <td>...</td>\n",
       "      <td>False</td>\n",
       "      <td>False</td>\n",
       "      <td>False</td>\n",
       "      <td>False</td>\n",
       "      <td>False</td>\n",
       "      <td>False</td>\n",
       "      <td>False</td>\n",
       "      <td>False</td>\n",
       "      <td>False</td>\n",
       "      <td>False</td>\n",
       "    </tr>\n",
       "    <tr>\n",
       "      <th>1</th>\n",
       "      <td>1995</td>\n",
       "      <td>26</td>\n",
       "      <td>4</td>\n",
       "      <td>1</td>\n",
       "      <td>0</td>\n",
       "      <td>0</td>\n",
       "      <td>0</td>\n",
       "      <td>5</td>\n",
       "      <td>3.0</td>\n",
       "      <td>70</td>\n",
       "      <td>...</td>\n",
       "      <td>False</td>\n",
       "      <td>False</td>\n",
       "      <td>False</td>\n",
       "      <td>False</td>\n",
       "      <td>False</td>\n",
       "      <td>False</td>\n",
       "      <td>False</td>\n",
       "      <td>False</td>\n",
       "      <td>False</td>\n",
       "      <td>False</td>\n",
       "    </tr>\n",
       "    <tr>\n",
       "      <th>2</th>\n",
       "      <td>1995</td>\n",
       "      <td>24</td>\n",
       "      <td>1</td>\n",
       "      <td>1</td>\n",
       "      <td>0</td>\n",
       "      <td>0</td>\n",
       "      <td>0</td>\n",
       "      <td>1</td>\n",
       "      <td>6.0</td>\n",
       "      <td>71</td>\n",
       "      <td>...</td>\n",
       "      <td>True</td>\n",
       "      <td>False</td>\n",
       "      <td>False</td>\n",
       "      <td>False</td>\n",
       "      <td>False</td>\n",
       "      <td>False</td>\n",
       "      <td>False</td>\n",
       "      <td>False</td>\n",
       "      <td>False</td>\n",
       "      <td>False</td>\n",
       "    </tr>\n",
       "    <tr>\n",
       "      <th>3</th>\n",
       "      <td>1995</td>\n",
       "      <td>34</td>\n",
       "      <td>3</td>\n",
       "      <td>1</td>\n",
       "      <td>0</td>\n",
       "      <td>1</td>\n",
       "      <td>0</td>\n",
       "      <td>2</td>\n",
       "      <td>0.0</td>\n",
       "      <td>30</td>\n",
       "      <td>...</td>\n",
       "      <td>True</td>\n",
       "      <td>False</td>\n",
       "      <td>False</td>\n",
       "      <td>False</td>\n",
       "      <td>False</td>\n",
       "      <td>False</td>\n",
       "      <td>False</td>\n",
       "      <td>False</td>\n",
       "      <td>False</td>\n",
       "      <td>False</td>\n",
       "    </tr>\n",
       "    <tr>\n",
       "      <th>4</th>\n",
       "      <td>1995</td>\n",
       "      <td>30</td>\n",
       "      <td>6</td>\n",
       "      <td>1</td>\n",
       "      <td>0</td>\n",
       "      <td>0</td>\n",
       "      <td>0</td>\n",
       "      <td>6</td>\n",
       "      <td>2.0</td>\n",
       "      <td>70</td>\n",
       "      <td>...</td>\n",
       "      <td>False</td>\n",
       "      <td>False</td>\n",
       "      <td>False</td>\n",
       "      <td>False</td>\n",
       "      <td>False</td>\n",
       "      <td>False</td>\n",
       "      <td>True</td>\n",
       "      <td>False</td>\n",
       "      <td>False</td>\n",
       "      <td>False</td>\n",
       "    </tr>\n",
       "  </tbody>\n",
       "</table>\n",
       "<p>5 rows × 181 columns</p>\n",
       "</div>"
      ],
      "text/plain": [
       "   year  age  years_in_f1  races_with_each_team_since_1995  F2_champion  \\\n",
       "0  1995   29            4                                1            0   \n",
       "1  1995   26            4                                1            0   \n",
       "2  1995   24            1                                1            0   \n",
       "3  1995   34            3                                1            0   \n",
       "4  1995   30            6                                1            0   \n",
       "\n",
       "   Former_F1_World_Champion  home_race  starting_grid_position  \\\n",
       "0                         0          0                      17   \n",
       "1                         0          0                       5   \n",
       "2                         0          0                       1   \n",
       "3                         1          0                       2   \n",
       "4                         0          0                       6   \n",
       "\n",
       "   points_in_previous_race  laps_in_previous_race  ...  constructorId_3  \\\n",
       "0                      1.0                     70  ...            False   \n",
       "1                      3.0                     70  ...            False   \n",
       "2                      6.0                     71  ...             True   \n",
       "3                      0.0                     30  ...             True   \n",
       "4                      2.0                     70  ...            False   \n",
       "\n",
       "   constructorId_30  constructorId_31  constructorId_4  constructorId_5  \\\n",
       "0             False             False            False            False   \n",
       "1             False             False            False            False   \n",
       "2             False             False            False            False   \n",
       "3             False             False            False            False   \n",
       "4             False             False            False            False   \n",
       "\n",
       "   constructorId_51  constructorId_6  constructorId_7  constructorId_8  \\\n",
       "0             False            False            False            False   \n",
       "1             False            False            False            False   \n",
       "2             False            False            False            False   \n",
       "3             False            False            False            False   \n",
       "4             False             True            False            False   \n",
       "\n",
       "   constructorId_9  \n",
       "0            False  \n",
       "1            False  \n",
       "2            False  \n",
       "3            False  \n",
       "4            False  \n",
       "\n",
       "[5 rows x 181 columns]"
      ]
     },
     "execution_count": 2,
     "metadata": {},
     "output_type": "execute_result"
    }
   ],
   "source": [
    "import pandas as pd\n",
    "from sklearn.model_selection import train_test_split\n",
    "\n",
    "# Load the dataset\n",
    "smote_df = pd.read_csv('C:/Users/Alex/OneDrive/BrainStation/Data_Science_Bootcamp/Capstone_Project/capstone-Aboard89/Notebooks/model_data_v2.csv')\n",
    "\n",
    "smote_df.head()"
   ]
  },
  {
   "cell_type": "code",
   "execution_count": 3,
   "metadata": {},
   "outputs": [],
   "source": [
    "# Separate into features and target variable\n",
    "X = smote_df.drop('race_win', axis=1)\n",
    "y = smote_df['race_win']"
   ]
  },
  {
   "cell_type": "code",
   "execution_count": 4,
   "metadata": {},
   "outputs": [],
   "source": [
    "# Split the dataset into training and test sets\n",
    "X_train, X_test, y_train, y_test = train_test_split(X, y, test_size=0.2, random_state=42)\n"
   ]
  },
  {
   "cell_type": "code",
   "execution_count": 5,
   "metadata": {},
   "outputs": [],
   "source": [
    "from imblearn.over_sampling import SMOTE\n",
    "\n",
    "# Create a SMOTE object\n",
    "sm = SMOTE(random_state=42)\n",
    "\n",
    "# Fit SMOTE to the training data\n",
    "X_train_resampled, y_train_resampled = sm.fit_resample(X_train, y_train)\n"
   ]
  },
  {
   "cell_type": "code",
   "execution_count": 6,
   "metadata": {},
   "outputs": [
    {
     "name": "stderr",
     "output_type": "stream",
     "text": [
      "C:\\Users\\Alex\\AppData\\Local\\Temp\\ipykernel_20756\\183796797.py:2: PerformanceWarning: DataFrame is highly fragmented.  This is usually the result of calling `frame.insert` many times, which has poor performance.  Consider joining all columns at once using pd.concat(axis=1) instead. To get a de-fragmented frame, use `newframe = frame.copy()`\n",
      "  df_resampled['race_win'] = y_train_resampled  # Add target variable column\n"
     ]
    }
   ],
   "source": [
    "df_resampled = pd.DataFrame(X_train_resampled, columns=X_train.columns)  # Use original feature names\n",
    "df_resampled['race_win'] = y_train_resampled  # Add target variable column"
   ]
  },
  {
   "cell_type": "code",
   "execution_count": 7,
   "metadata": {},
   "outputs": [
    {
     "data": {
      "text/html": [
       "<div>\n",
       "<style scoped>\n",
       "    .dataframe tbody tr th:only-of-type {\n",
       "        vertical-align: middle;\n",
       "    }\n",
       "\n",
       "    .dataframe tbody tr th {\n",
       "        vertical-align: top;\n",
       "    }\n",
       "\n",
       "    .dataframe thead th {\n",
       "        text-align: right;\n",
       "    }\n",
       "</style>\n",
       "<table border=\"1\" class=\"dataframe\">\n",
       "  <thead>\n",
       "    <tr style=\"text-align: right;\">\n",
       "      <th></th>\n",
       "      <th>year</th>\n",
       "      <th>age</th>\n",
       "      <th>years_in_f1</th>\n",
       "      <th>races_with_each_team_since_1995</th>\n",
       "      <th>F2_champion</th>\n",
       "      <th>Former_F1_World_Champion</th>\n",
       "      <th>home_race</th>\n",
       "      <th>starting_grid_position</th>\n",
       "      <th>points_in_previous_race</th>\n",
       "      <th>laps_in_previous_race</th>\n",
       "      <th>...</th>\n",
       "      <th>constructorId_30</th>\n",
       "      <th>constructorId_31</th>\n",
       "      <th>constructorId_4</th>\n",
       "      <th>constructorId_5</th>\n",
       "      <th>constructorId_51</th>\n",
       "      <th>constructorId_6</th>\n",
       "      <th>constructorId_7</th>\n",
       "      <th>constructorId_8</th>\n",
       "      <th>constructorId_9</th>\n",
       "      <th>race_win</th>\n",
       "    </tr>\n",
       "  </thead>\n",
       "  <tbody>\n",
       "    <tr>\n",
       "      <th>0</th>\n",
       "      <td>2016</td>\n",
       "      <td>36</td>\n",
       "      <td>16</td>\n",
       "      <td>121</td>\n",
       "      <td>0</td>\n",
       "      <td>1</td>\n",
       "      <td>0</td>\n",
       "      <td>13</td>\n",
       "      <td>2.0</td>\n",
       "      <td>65</td>\n",
       "      <td>...</td>\n",
       "      <td>False</td>\n",
       "      <td>False</td>\n",
       "      <td>False</td>\n",
       "      <td>False</td>\n",
       "      <td>False</td>\n",
       "      <td>False</td>\n",
       "      <td>False</td>\n",
       "      <td>False</td>\n",
       "      <td>False</td>\n",
       "      <td>0</td>\n",
       "    </tr>\n",
       "    <tr>\n",
       "      <th>1</th>\n",
       "      <td>2012</td>\n",
       "      <td>27</td>\n",
       "      <td>5</td>\n",
       "      <td>96</td>\n",
       "      <td>1</td>\n",
       "      <td>1</td>\n",
       "      <td>0</td>\n",
       "      <td>2</td>\n",
       "      <td>10.0</td>\n",
       "      <td>78</td>\n",
       "      <td>...</td>\n",
       "      <td>False</td>\n",
       "      <td>False</td>\n",
       "      <td>False</td>\n",
       "      <td>False</td>\n",
       "      <td>False</td>\n",
       "      <td>False</td>\n",
       "      <td>False</td>\n",
       "      <td>False</td>\n",
       "      <td>False</td>\n",
       "      <td>1</td>\n",
       "    </tr>\n",
       "    <tr>\n",
       "      <th>2</th>\n",
       "      <td>1995</td>\n",
       "      <td>23</td>\n",
       "      <td>2</td>\n",
       "      <td>7</td>\n",
       "      <td>0</td>\n",
       "      <td>0</td>\n",
       "      <td>0</td>\n",
       "      <td>9</td>\n",
       "      <td>1.0</td>\n",
       "      <td>71</td>\n",
       "      <td>...</td>\n",
       "      <td>False</td>\n",
       "      <td>False</td>\n",
       "      <td>False</td>\n",
       "      <td>False</td>\n",
       "      <td>False</td>\n",
       "      <td>False</td>\n",
       "      <td>False</td>\n",
       "      <td>False</td>\n",
       "      <td>False</td>\n",
       "      <td>0</td>\n",
       "    </tr>\n",
       "    <tr>\n",
       "      <th>3</th>\n",
       "      <td>2017</td>\n",
       "      <td>28</td>\n",
       "      <td>6</td>\n",
       "      <td>70</td>\n",
       "      <td>0</td>\n",
       "      <td>0</td>\n",
       "      <td>0</td>\n",
       "      <td>6</td>\n",
       "      <td>10.0</td>\n",
       "      <td>51</td>\n",
       "      <td>...</td>\n",
       "      <td>False</td>\n",
       "      <td>False</td>\n",
       "      <td>False</td>\n",
       "      <td>False</td>\n",
       "      <td>False</td>\n",
       "      <td>False</td>\n",
       "      <td>False</td>\n",
       "      <td>False</td>\n",
       "      <td>True</td>\n",
       "      <td>0</td>\n",
       "    </tr>\n",
       "    <tr>\n",
       "      <th>4</th>\n",
       "      <td>2007</td>\n",
       "      <td>26</td>\n",
       "      <td>5</td>\n",
       "      <td>30</td>\n",
       "      <td>0</td>\n",
       "      <td>0</td>\n",
       "      <td>0</td>\n",
       "      <td>1</td>\n",
       "      <td>0.0</td>\n",
       "      <td>69</td>\n",
       "      <td>...</td>\n",
       "      <td>False</td>\n",
       "      <td>False</td>\n",
       "      <td>False</td>\n",
       "      <td>False</td>\n",
       "      <td>False</td>\n",
       "      <td>True</td>\n",
       "      <td>False</td>\n",
       "      <td>False</td>\n",
       "      <td>False</td>\n",
       "      <td>1</td>\n",
       "    </tr>\n",
       "  </tbody>\n",
       "</table>\n",
       "<p>5 rows × 181 columns</p>\n",
       "</div>"
      ],
      "text/plain": [
       "   year  age  years_in_f1  races_with_each_team_since_1995  F2_champion  \\\n",
       "0  2016   36           16                              121            0   \n",
       "1  2012   27            5                               96            1   \n",
       "2  1995   23            2                                7            0   \n",
       "3  2017   28            6                               70            0   \n",
       "4  2007   26            5                               30            0   \n",
       "\n",
       "   Former_F1_World_Champion  home_race  starting_grid_position  \\\n",
       "0                         1          0                      13   \n",
       "1                         1          0                       2   \n",
       "2                         0          0                       9   \n",
       "3                         0          0                       6   \n",
       "4                         0          0                       1   \n",
       "\n",
       "   points_in_previous_race  laps_in_previous_race  ...  constructorId_30  \\\n",
       "0                      2.0                     65  ...             False   \n",
       "1                     10.0                     78  ...             False   \n",
       "2                      1.0                     71  ...             False   \n",
       "3                     10.0                     51  ...             False   \n",
       "4                      0.0                     69  ...             False   \n",
       "\n",
       "   constructorId_31  constructorId_4  constructorId_5  constructorId_51  \\\n",
       "0             False            False            False             False   \n",
       "1             False            False            False             False   \n",
       "2             False            False            False             False   \n",
       "3             False            False            False             False   \n",
       "4             False            False            False             False   \n",
       "\n",
       "   constructorId_6  constructorId_7  constructorId_8  constructorId_9  \\\n",
       "0            False            False            False            False   \n",
       "1            False            False            False            False   \n",
       "2            False            False            False            False   \n",
       "3            False            False            False             True   \n",
       "4             True            False            False            False   \n",
       "\n",
       "   race_win  \n",
       "0         0  \n",
       "1         1  \n",
       "2         0  \n",
       "3         0  \n",
       "4         1  \n",
       "\n",
       "[5 rows x 181 columns]"
      ]
     },
     "execution_count": 7,
     "metadata": {},
     "output_type": "execute_result"
    }
   ],
   "source": [
    "df_resampled.head()"
   ]
  },
  {
   "cell_type": "markdown",
   "metadata": {},
   "source": [
    "#### Now what does the data look like in comparison to the old data?"
   ]
  },
  {
   "cell_type": "code",
   "execution_count": 10,
   "metadata": {},
   "outputs": [
    {
     "name": "stdout",
     "output_type": "stream",
     "text": [
      "Original class distribution: {0: 8319, 1: 417}\n",
      "Resampled class distribution: {0: 8319, 1: 8319}\n"
     ]
    }
   ],
   "source": [
    "# Original class distribution\n",
    "original_classes, original_counts = np.unique(y_train, return_counts=True)\n",
    "print(\"Original class distribution:\", dict(zip(original_classes, original_counts)))\n",
    "\n",
    "# Resampled class distribution\n",
    "resampled_classes, resampled_counts = np.unique(y_train_resampled, return_counts=True)\n",
    "print(\"Resampled class distribution:\", dict(zip(resampled_classes, resampled_counts)))"
   ]
  },
  {
   "cell_type": "code",
   "execution_count": 11,
   "metadata": {},
   "outputs": [
    {
     "data": {
      "image/png": "[encoded data removed]",
      "text/plain": [
       "<Figure size 640x480 with 1 Axes>"
      ]
     },
     "metadata": {},
     "output_type": "display_data"
    }
   ],
   "source": [
    "# Get the normalized value counts for the 'race_win' column and multiply by 100 to get percentages\n",
    "value_counts = df_resampled['race_win'].value_counts(normalize=True) * 100\n",
    "\n",
    "# Create the bar chart\n",
    "plt.figure()\n",
    "plt.bar(value_counts.index.astype(str), value_counts.values)\n",
    "plt.xlabel('Race Win or Not')\n",
    "plt.ylabel('Percentage of Total Training Set (%)')\n",
    "plt.xticks([0, 1], ['Did not Win', 'Did Win'])\n",
    "plt.title('Distribution of \"Win\" rows in dataset')\n",
    "plt.show()"
   ]
  },
  {
   "cell_type": "markdown",
   "metadata": {},
   "source": [
    "The resampling output tells us that before applying SMOTE, our training data was significantly imbalanced with 8319 instances of the majority class (likely non-winners) and only 417 instances of the minority class (winners). After applying SMOTE, the class distribution is perfectly balanced, with an equal number of instances (8319) for both classes. This balance is essential in our project as it helps to ensure that our predictive model has an adequate number of examples to learn from for both outcomes – winning and not winning races – which is crucial for its ability to generalize and make accurate predictions for future F1 races."
   ]
  },
  {
   "cell_type": "markdown",
   "metadata": {},
   "source": [
    "This output showcases the new synthetic samples generated by the SMOTE algorithm, which we applied to our dataset to balance the number of instances between the winners and non-winners of F1 races. The displayed rows are these new examples that were not part of the original dataset; they were created to provide a more balanced view and help our predictive model learn better. "
   ]
  },
  {
   "cell_type": "code",
   "execution_count": 12,
   "metadata": {},
   "outputs": [
    {
     "data": {
      "image/png": "[encoded data removed]",
      "text/plain": [
       "<Figure size 640x480 with 1 Axes>"
      ]
     },
     "metadata": {},
     "output_type": "display_data"
    }
   ],
   "source": [
    "# Reduce the data to two dimensions for visualization\n",
    "pca = PCA(n_components=2)\n",
    "X_train_pca = pca.fit_transform(X_train_resampled)\n",
    "\n",
    "# Plot the original samples and the synthetic samples\n",
    "plt.scatter(X_train_pca[:len(y_train), 0], X_train_pca[:len(y_train), 1], label='Original')\n",
    "plt.scatter(X_train_pca[len(y_train):, 0], X_train_pca[len(y_train):, 1], label='SMOTE')\n",
    "plt.legend()\n",
    "plt.title('Visualization of Original and SMOTE Resampled Data')\n",
    "plt.xlabel('First Principal Component') # Label for the x-axis\n",
    "plt.ylabel('Second Principal Component') # Label for the y-axis\n",
    "plt.show()\n"
   ]
  },
  {
   "cell_type": "markdown",
   "metadata": {},
   "source": [
    "This chart visualizes our dataset after applying SMOTE (Synthetic Minority Over-sampling Technique) to address class imbalance. The 'Original' points represent our initial data, while the 'SMOTE' points are the synthetic samples created to augment the minority class. Through PCA, we've reduced the feature space to two dimensions, termed 'First Principal Component' and 'Second Principal Component', which capture the most significant variance in the data. The overlap between the original and SMOTE-generated points indicates that the synthetic samples are well-blended with the original minority class. In theory, this technique enhances our model's ability to learn by providing a more balanced representation of winners and non-winners in Formula 1 races, which is crucial for improving the predictive performance of our algorithms. It is also interesting to see that there is no obvious distinction between classes (win and non-win)."
   ]
  },
  {
   "cell_type": "markdown",
   "metadata": {},
   "source": [
    "### 9. Gridsearch for best model on the new SMOTE data"
   ]
  },
  {
   "cell_type": "markdown",
   "metadata": {},
   "source": [
    "Now we are orchestrating a hyperparameter tuning exercise to refine models for predicting F1 race winners with this new SMOTE data. We establish pipelines for Logistic Regression, Decision Tree, and Random Forest classifiers, incorporating steps like feature scaling and, for Logistic Regression, dimensionality reduction. Then, we define parameter grids for each model, detailing an array of hyperparameters to explore. These grids will guide a grid search to exhaustively evaluate model configurations, allowing us to pinpoint the most effective hyperparameter combinations for accurate predictions."
   ]
  },
  {
   "cell_type": "code",
   "execution_count": 13,
   "metadata": {},
   "outputs": [],
   "source": [
    "# Create pipelines for each model\n",
    "pipe_lr = Pipeline([\n",
    "    ('scl', StandardScaler()),\n",
    "    ('dim_reducer', PCA()),\n",
    "    ('clf', LogisticRegression(random_state=42, max_iter=1000))\n",
    "])\n",
    "\n",
    "pipe_dt = Pipeline([\n",
    "    ('scl', StandardScaler()),\n",
    "    ('clf', DecisionTreeClassifier(random_state=42))\n",
    "])\n",
    "\n",
    "pipe_rf = Pipeline([\n",
    "    ('scl', StandardScaler()),\n",
    "    ('clf', RandomForestClassifier(random_state=42))\n",
    "])"
   ]
  },
  {
   "cell_type": "code",
   "execution_count": 14,
   "metadata": {},
   "outputs": [],
   "source": [
    "# Create parameter grids for each model\n",
    "# Let's try the same range of C values from earlier\n",
    "c_values = [.00001, .0001, .001, .1, 1, 10, 100, 1000, 10000]\n",
    "\n",
    "# Parameter grid\n",
    "lr_param_grid = {\n",
    "    'clf__C': c_values,  # Corrected from 'model__C' to 'clf__C'\n",
    "    'clf__penalty': ['l2'],  # lbfgs supports only 'l2' or 'none'\n",
    "    # Include other parameters if needed\n",
    "}\n",
    "\n",
    "dt_param_grid = [{'clf__criterion': ['gini', 'entropy'],\n",
    "                  'clf__min_samples_leaf': [1, 2, 3, 4, 5, 6],\n",
    "                  'clf__max_depth': [1, 2, 3, 4, 5, 6, 7, 8, 9, 10, 11, 12],\n",
    "                  'clf__min_samples_split': [2, 3, 4, 5, 6]}]\n",
    "\n",
    "rf_param_grid = [{\n",
    "    'clf__n_estimators': [100, 200, 300],  # Prefix with 'clf__'\n",
    "    'clf__max_depth': [10, 20, 30, 40, 50, 60],  # Prefix with 'clf__'\n",
    "}]"
   ]
  },
  {
   "cell_type": "markdown",
   "metadata": {},
   "source": [
    "In this predictive model for F1 race winners, the parameters selected for testing have been chosen for their influence on model performance and their common use in model tuning. \n",
    "\n",
    "1. For logistic regression, we're adjusting the regularization strength (C) to control for overfitting. \n",
    "2. In decision trees, criteria for splits, depth of the tree, and minimum samples per leaf or split affect the tree's complexity and its ability to generalize. \n",
    "3. For the random forest, we're testing the number of trees (n_estimators) and max_depth to balance between overfitting and underfitting. "
   ]
  },
  {
   "cell_type": "code",
   "execution_count": 15,
   "metadata": {},
   "outputs": [],
   "source": [
    "# Create a list to store GridSearchCV objects for each pipeline\n",
    "grid_search_objects = []"
   ]
  },
  {
   "cell_type": "code",
   "execution_count": 16,
   "metadata": {},
   "outputs": [],
   "source": [
    "# Define a list of tuples to keep model and its grid parameters together\n",
    "models_grids = [(pipe_lr, lr_param_grid), (pipe_dt, dt_param_grid), (pipe_rf, rf_param_grid)]"
   ]
  },
  {
   "cell_type": "code",
   "execution_count": 17,
   "metadata": {},
   "outputs": [
    {
     "name": "stdout",
     "output_type": "stream",
     "text": [
      "Fitting 5 folds for each of 9 candidates, totalling 45 fits\n"
     ]
    },
    {
     "name": "stdout",
     "output_type": "stream",
     "text": [
      "Fitting 5 folds for each of 720 candidates, totalling 3600 fits\n",
      "Fitting 5 folds for each of 18 candidates, totalling 90 fits\n"
     ]
    }
   ],
   "source": [
    "# Perform GridSearchCV for each model\n",
    "for pipe, param_grid in models_grids:\n",
    "    gs = GridSearchCV(estimator=pipe,\n",
    "                      param_grid=param_grid,\n",
    "                      scoring='accuracy',\n",
    "                      cv=5,\n",
    "                      n_jobs=-1,\n",
    "                      verbose=1)\n",
    "    gs.fit(X_train_resampled, y_train_resampled)\n",
    "    grid_search_objects.append(gs)"
   ]
  },
  {
   "cell_type": "markdown",
   "metadata": {},
   "source": [
    "This code systematically searches through combinations of parameters for each of our models, evaluating their performance through cross-validation. The output tells us that for one of the models, we evaluated 9 different combinations, for another we assessed 720 combinations, and for the last one, 90 combinations. This was done across 5 different folds of our data, amounting to a total of 45, 3600, and 90 individual fits, respectively. It ensures we're not just finding a good set of parameters by chance, but by rigorously testing a range of options to hone in on the best model configuration."
   ]
  },
  {
   "cell_type": "code",
   "execution_count": 18,
   "metadata": {},
   "outputs": [
    {
     "name": "stdout",
     "output_type": "stream",
     "text": [
      "Logistic Regression Test Accuracy: 0.9473684210526315\n",
      "Logistic Regression Best Params: {'clf__C': 10, 'clf__penalty': 'l2'}\n",
      "Decision Trees Test Accuracy: 0.922654462242563\n",
      "Decision Trees Best Params: {'clf__criterion': 'gini', 'clf__max_depth': 12, 'clf__min_samples_leaf': 2, 'clf__min_samples_split': 2}\n",
      "Random Forest Test Accuracy: 0.9524027459954233\n",
      "Random Forest Best Params: {'clf__max_depth': 40, 'clf__n_estimators': 100}\n"
     ]
    }
   ],
   "source": [
    "# Now each model has been fitted, we can inspect them\n",
    "grid_dict = {0: 'Logistic Regression', 1: 'Decision Trees', 2: 'Random Forest'}\n",
    "for i, gs in enumerate(grid_search_objects):\n",
    "    print(f\"{grid_dict[i]} Test Accuracy: {gs.score(X_test, y_test)}\")\n",
    "    print(f\"{grid_dict[i]} Best Params: {gs.best_params_}\")"
   ]
  },
  {
   "cell_type": "markdown",
   "metadata": {},
   "source": [
    "This output summarizes the results of our grid search, where we have tuned and evaluated three different models for predicting F1 race winners. For each model—Logistic Regression, Decision Trees, and Random Forest—we show the best combination of hyperparameters (like 'C' and 'penalty' for Logistic Regression, 'criterion' and 'max_depth' for Decision Trees) that led to the highest accuracy score during the cross-validation process. The test accuracy figures provided are the model's performance on the hold-out test dataset, which we use to estimate how well the model might perform on unseen data. From these results, we can conclude that the Random Forest model with 'max_depth' set to 40, and using 300 estimators provides the best accuracy among the models we evaluated."
   ]
  },
  {
   "cell_type": "markdown",
   "metadata": {},
   "source": [
    "#### What about the confusion matrices and classification reports"
   ]
  },
  {
   "cell_type": "code",
   "execution_count": 19,
   "metadata": {},
   "outputs": [
    {
     "name": "stdout",
     "output_type": "stream",
     "text": [
      "Model: Logistic Regression\n",
      "Classification report:\n",
      "              precision    recall  f1-score   support\n",
      "\n",
      "           0       0.97      0.97      0.97      2077\n",
      "           1       0.47      0.47      0.47       108\n",
      "\n",
      "    accuracy                           0.95      2185\n",
      "   macro avg       0.72      0.72      0.72      2185\n",
      "weighted avg       0.95      0.95      0.95      2185\n",
      "\n",
      "Confusion matrix:\n",
      "[[2019   58]\n",
      " [  57   51]]\n",
      "\n",
      "Model: Decision Trees\n",
      "Classification report:\n",
      "              precision    recall  f1-score   support\n",
      "\n",
      "           0       0.98      0.93      0.96      2077\n",
      "           1       0.36      0.69      0.47       108\n",
      "\n",
      "    accuracy                           0.92      2185\n",
      "   macro avg       0.67      0.81      0.71      2185\n",
      "weighted avg       0.95      0.92      0.93      2185\n",
      "\n",
      "Confusion matrix:\n",
      "[[1941  136]\n",
      " [  33   75]]\n",
      "\n",
      "Model: Random Forest\n",
      "Classification report:\n",
      "              precision    recall  f1-score   support\n",
      "\n",
      "           0       0.97      0.98      0.97      2077\n",
      "           1       0.52      0.50      0.51       108\n",
      "\n",
      "    accuracy                           0.95      2185\n",
      "   macro avg       0.75      0.74      0.74      2185\n",
      "weighted avg       0.95      0.95      0.95      2185\n",
      "\n",
      "Confusion matrix:\n",
      "[[2027   50]\n",
      " [  54   54]]\n",
      "\n"
     ]
    }
   ],
   "source": [
    "# grid_search_objects is a list of GridSearchCV objects\n",
    "for i, gs in enumerate(grid_search_objects):\n",
    "    # Predict using the best estimator found in the grid search\n",
    "    y_pred = gs.best_estimator_.predict(X_test)\n",
    "    \n",
    "    # Print model name\n",
    "    print(f\"Model: {grid_dict[i]}\")\n",
    "    \n",
    "    # Classification report\n",
    "    print(\"Classification report:\")\n",
    "    print(classification_report(y_test, y_pred))\n",
    "    \n",
    "    # Confusion matrix\n",
    "    print(\"Confusion matrix:\")\n",
    "    print(confusion_matrix(y_test, y_pred))\n",
    "    print()  # Add an empty line for better readability"
   ]
  },
  {
   "cell_type": "markdown",
   "metadata": {},
   "source": [
    "#### Pickling the models"
   ]
  },
  {
   "cell_type": "code",
   "execution_count": 20,
   "metadata": {},
   "outputs": [
    {
     "name": "stdout",
     "output_type": "stream",
     "text": [
      "Saved Logistic Regression model to logistic_regression_grid_search.pkl\n",
      "Saved Decision Trees model to decision_trees_grid_search.pkl\n",
      "Saved Random Forest model to random_forest_grid_search.pkl\n"
     ]
    }
   ],
   "source": [
    "import pickle\n",
    "\n",
    "# Assuming grid_search_objects contains your GridSearchCV fitted models\n",
    "for i, gs in enumerate(grid_search_objects):\n",
    "    model_name = grid_dict[i].replace(\" \", \"_\").lower()  # Creating a filename-friendly version of the model name\n",
    "    filename = f\"{model_name}_grid_search.pkl\"\n",
    "    \n",
    "    with open(filename, 'wb') as file:\n",
    "        pickle.dump(gs, file)\n",
    "    \n",
    "    print(f\"Saved {grid_dict[i]} model to {filename}\")\n"
   ]
  },
  {
   "cell_type": "markdown",
   "metadata": {},
   "source": [
    "#### Output the model results to CSV"
   ]
  },
  {
   "cell_type": "code",
   "execution_count": 21,
   "metadata": {},
   "outputs": [],
   "source": [
    "# For each model, predict the race_win values and create a CSV\n",
    "for i, gs in enumerate(grid_search_objects):\n",
    "    model_name = grid_dict[i]\n",
    "\n",
    "    # Create a DataFrame for predictions\n",
    "    predictions_df = X_test.copy()\n",
    "    predictions_df['Predicted_Winner'] = gs.predict(X_test)\n",
    "\n",
    "    # Define the path to save the CSV file\n",
    "    save_path = f\"C:\\\\Users\\\\Alex\\\\OneDrive\\\\BrainStation\\\\Data_Science_Bootcamp\\\\Capstone_Project\\\\capstone-Aboard89\\\\Data\\\\Betting\\\\{model_name}_predictions.csv\"\n",
    "\n",
    "    # Export each model's prediction to a separate CSV file in the specified directory\n",
    "    predictions_df.to_csv(save_path, index=False)\n"
   ]
  },
  {
   "cell_type": "markdown",
   "metadata": {},
   "source": [
    "### XG Boost"
   ]
  },
  {
   "cell_type": "code",
   "execution_count": 22,
   "metadata": {},
   "outputs": [],
   "source": [
    "from xgboost import XGBClassifier\n",
    "\n",
    "# Define the pipeline for XGBoost\n",
    "pipe_xgb = Pipeline([\n",
    "    ('sc', StandardScaler()),\n",
    "    ('dim_reducer', PCA()),\n",
    "    ('clf', XGBClassifier(random_state=42, use_label_encoder=False, eval_metric='mlogloss'))\n",
    "])"
   ]
  },
  {
   "cell_type": "code",
   "execution_count": 23,
   "metadata": {},
   "outputs": [],
   "source": [
    "# Create the parameter grid for XGBoost\n",
    "param_grid_xgb = {\n",
    "    'clf__n_estimators': [100, 200, 300],\n",
    "    'clf__learning_rate': [0.01, 0.1, 0.3],\n",
    "    'clf__max_depth': [3, 4, 5, 6],\n",
    "    'clf__min_child_weight': [1, 2, 3],\n",
    "    'clf__subsample': [0.8, 0.9, 1.0],\n",
    "    'clf__colsample_bytree': [0.8, 0.9, 1.0],\n",
    "}"
   ]
  },
  {
   "cell_type": "code",
   "execution_count": 24,
   "metadata": {},
   "outputs": [],
   "source": [
    "# Combine all pipelines into a list\n",
    "pipelines = [pipe_xgb]\n",
    "\n",
    "# Combine all parameter grids into a list\n",
    "param_grids = [param_grid_xgb]"
   ]
  },
  {
   "cell_type": "code",
   "execution_count": 25,
   "metadata": {},
   "outputs": [
    {
     "name": "stdout",
     "output_type": "stream",
     "text": [
      "Fitting 5 folds for each of 972 candidates, totalling 4860 fits\n"
     ]
    }
   ],
   "source": [
    "from sklearn.metrics import f1_score, make_scorer\n",
    "\n",
    "# Define your custom scorer, focusing on the F1 score for class 1\n",
    "f1_scorer = make_scorer(f1_score, pos_label=1)\n",
    "\n",
    "# Now update the GridSearchCV call to use your custom scorer\n",
    "for pipe, param_grid in zip(pipelines, param_grids):\n",
    "    gs = GridSearchCV(estimator=pipe,\n",
    "                      param_grid=param_grid,\n",
    "                      scoring=f1_scorer,  # Use the custom F1 scorer for class 1\n",
    "                      cv=5,\n",
    "                      n_jobs=-1,\n",
    "                      verbose=3)\n",
    "    gs.fit(X_train_resampled, y_train_resampled)\n",
    "    grid_search_objects.append(gs)"
   ]
  },
  {
   "cell_type": "code",
   "execution_count": 26,
   "metadata": {},
   "outputs": [],
   "source": [
    "# After fitting, you can access the best estimator, parameters, and score like this:\n",
    "best_estimators = [gs.best_estimator_ for gs in grid_search_objects]\n",
    "best_params = [gs.best_params_ for gs in grid_search_objects]\n",
    "best_scores = [gs.best_score_ for gs in grid_search_objects]"
   ]
  },
  {
   "cell_type": "code",
   "execution_count": 27,
   "metadata": {},
   "outputs": [
    {
     "name": "stdout",
     "output_type": "stream",
     "text": [
      "XG Boost Test Accuracy: 0.9473684210526315\n",
      "XG Boost Best Params: {'clf__C': 10, 'clf__penalty': 'l2'}\n"
     ]
    },
    {
     "ename": "KeyError",
     "evalue": "1",
     "output_type": "error",
     "traceback": [
      "\u001b[1;31m---------------------------------------------------------------------------\u001b[0m",
      "\u001b[1;31mKeyError\u001b[0m                                  Traceback (most recent call last)",
      "Cell \u001b[1;32mIn[27], line 4\u001b[0m\n\u001b[0;32m      2\u001b[0m grid_dict \u001b[38;5;241m=\u001b[39m {\u001b[38;5;241m0\u001b[39m: \u001b[38;5;124m'\u001b[39m\u001b[38;5;124mXG Boost\u001b[39m\u001b[38;5;124m'\u001b[39m}\n\u001b[0;32m      3\u001b[0m \u001b[38;5;28;01mfor\u001b[39;00m i, gs \u001b[38;5;129;01min\u001b[39;00m \u001b[38;5;28menumerate\u001b[39m(grid_search_objects):\n\u001b[1;32m----> 4\u001b[0m     \u001b[38;5;28mprint\u001b[39m(\u001b[38;5;124mf\u001b[39m\u001b[38;5;124m\"\u001b[39m\u001b[38;5;132;01m{\u001b[39;00mgrid_dict[i]\u001b[38;5;132;01m}\u001b[39;00m\u001b[38;5;124m Test Accuracy: \u001b[39m\u001b[38;5;132;01m{\u001b[39;00mgs\u001b[38;5;241m.\u001b[39mscore(X_test,\u001b[38;5;250m \u001b[39my_test)\u001b[38;5;132;01m}\u001b[39;00m\u001b[38;5;124m\"\u001b[39m)\n\u001b[0;32m      5\u001b[0m     \u001b[38;5;28mprint\u001b[39m(\u001b[38;5;124mf\u001b[39m\u001b[38;5;124m\"\u001b[39m\u001b[38;5;132;01m{\u001b[39;00mgrid_dict[i]\u001b[38;5;132;01m}\u001b[39;00m\u001b[38;5;124m Best Params: \u001b[39m\u001b[38;5;132;01m{\u001b[39;00mgs\u001b[38;5;241m.\u001b[39mbest_params_\u001b[38;5;132;01m}\u001b[39;00m\u001b[38;5;124m\"\u001b[39m)\n",
      "\u001b[1;31mKeyError\u001b[0m: 1"
     ]
    }
   ],
   "source": [
    "# Now each model has been fitted, we can inspect them\n",
    "grid_dict = {0: 'XG Boost'}\n",
    "for i, gs in enumerate(grid_search_objects):\n",
    "    print(f\"{grid_dict[i]} Test Accuracy: {gs.score(X_test, y_test)}\")\n",
    "    print(f\"{grid_dict[i]} Best Params: {gs.best_params_}\")"
   ]
  },
  {
   "cell_type": "code",
   "execution_count": 28,
   "metadata": {},
   "outputs": [
    {
     "name": "stdout",
     "output_type": "stream",
     "text": [
      "Model: XG Boost\n",
      "Classification report:\n",
      "              precision    recall  f1-score   support\n",
      "\n",
      "           0       0.97      0.97      0.97      2077\n",
      "           1       0.47      0.47      0.47       108\n",
      "\n",
      "    accuracy                           0.95      2185\n",
      "   macro avg       0.72      0.72      0.72      2185\n",
      "weighted avg       0.95      0.95      0.95      2185\n",
      "\n",
      "Confusion matrix:\n",
      "[[2019   58]\n",
      " [  57   51]]\n",
      "\n"
     ]
    },
    {
     "ename": "KeyError",
     "evalue": "1",
     "output_type": "error",
     "traceback": [
      "\u001b[1;31m---------------------------------------------------------------------------\u001b[0m",
      "\u001b[1;31mKeyError\u001b[0m                                  Traceback (most recent call last)",
      "Cell \u001b[1;32mIn[28], line 7\u001b[0m\n\u001b[0;32m      4\u001b[0m y_pred \u001b[38;5;241m=\u001b[39m gs\u001b[38;5;241m.\u001b[39mbest_estimator_\u001b[38;5;241m.\u001b[39mpredict(X_test)\n\u001b[0;32m      6\u001b[0m \u001b[38;5;66;03m# Print model name\u001b[39;00m\n\u001b[1;32m----> 7\u001b[0m \u001b[38;5;28mprint\u001b[39m(\u001b[38;5;124mf\u001b[39m\u001b[38;5;124m\"\u001b[39m\u001b[38;5;124mModel: \u001b[39m\u001b[38;5;132;01m{\u001b[39;00mgrid_dict[i]\u001b[38;5;132;01m}\u001b[39;00m\u001b[38;5;124m\"\u001b[39m)\n\u001b[0;32m      9\u001b[0m \u001b[38;5;66;03m# Classification report\u001b[39;00m\n\u001b[0;32m     10\u001b[0m \u001b[38;5;28mprint\u001b[39m(\u001b[38;5;124m\"\u001b[39m\u001b[38;5;124mClassification report:\u001b[39m\u001b[38;5;124m\"\u001b[39m)\n",
      "\u001b[1;31mKeyError\u001b[0m: 1"
     ]
    }
   ],
   "source": [
    "# grid_search_objects is a list of GridSearchCV objects\n",
    "for i, gs in enumerate(grid_search_objects):\n",
    "    # Predict using the best estimator found in the grid search\n",
    "    y_pred = gs.best_estimator_.predict(X_test)\n",
    "    \n",
    "    # Print model name\n",
    "    print(f\"Model: {grid_dict[i]}\")\n",
    "    \n",
    "    # Classification report\n",
    "    print(\"Classification report:\")\n",
    "    print(classification_report(y_test, y_pred))\n",
    "    \n",
    "    # Confusion matrix\n",
    "    print(\"Confusion matrix:\")\n",
    "    print(confusion_matrix(y_test, y_pred))\n",
    "    print()  # Add an empty line for better readability"
   ]
  },
  {
   "cell_type": "markdown",
   "metadata": {},
   "source": [
    "### **Conclusions from SMOTE**:\n",
    "\n",
    " **Logistic Regression (LR)** : the classification report indicates a high precision for the non-winner class (0), meaning that when it predicts a driver will not win, it is correct 98% of the time. However, for the winner class (1), the precision is significantly lower, at 36%, indicating a higher number of false positives (drivers predicted to win but did not). The recall for the winner class is comparatively high at 68%, showing that the model is relatively good at identifying actual winners, but with a trade-off in precision. The overall accuracy of the model is 92%. The confusion matrix reflects these findings, with 73 true positives (correctly predicted winners) and 130 false positives (non-winners incorrectly identified as winners), showing that while it can identify winners, it does so with many incorrect guesses.\n",
    "\n",
    " **Decision Trees (DT)** :  the precision for the winner class is slightly lower than for logistic regression, at 34%, and the recall is higher, at 69%. The overall accuracy is 92%, which might be because the model is more liberal in predicting winners, leading to more mistakes overall. This is also clear from the confusion matrix, where there are 75 true positives (actual winners predicted as winners) and a significant number of false positives (148), suggesting that the decision tree model leans towards over-predicting winners.\n",
    "\n",
    " **Random Forest (RF)** : the RF model shows a balance between precision and recall for the winner class, with values at 47% and 51% respectively, indicating a more conservative and balanced prediction pattern. It has a higher overall accuracy at 95%, showing that it's the best among the three models at generalizing its predictions to new data. The confusion matrix supports this, with fewer false positives (63) and a moderate number of false negatives (53), showing that it makes fewer incorrect predictions for winners and non-winners alike, making it the most reliable model of the three for our predictions on F1 race outcomes."
   ]
  },
  {
   "cell_type": "markdown",
   "metadata": {},
   "source": [
    "## **What model to choose?**"
   ]
  },
  {
   "cell_type": "code",
   "execution_count": null,
   "metadata": {},
   "outputs": [],
   "source": [
    "import pandas as pd\n",
    "\n",
    "# Example scores, replace these with your actual model scores\n",
    "model_names = ['Logistic Regression Untuned', 'Logistic Regression Tuned', \n",
    "          'Decision Tree Tuned', 'Random Forest', 'Random Forest Tuned',\n",
    "          'Logistic Regression SMOTE', 'Decision Tree SMOTE', 'Random Forest SMOTE', 'XG Boost SMOTE']\n",
    "accuracies = [0.96, 0.95, 0.95, 0.96, 0.96, 0.94, 0.92, 0.95, 0.96]  # Replace with actual accuracy scores\n",
    "macro_f1s = [0.72, 0.70, 0.68, 0.69, 0.69, 0.75, 0.71, 0.74, 0.68]  # Replace with actual macro F1 scores\n",
    "precisions = [0.59, 0.53, 0.48, 0.62, 0.62, 0.43, 0.35, 0.50, 0.61]  # Replace with actual precision scores\n",
    "recalls = [0.38, 0.36, 0.33, 0.31, 0.31, 0.69, 0.69, 0.52, 0.28] # Replace with actual recall scores\n",
    "class_1_f1s = [0.46, 0.43, 0.39, 0.41, 0.41, 0.53, 0.46, 0.51, 0.38]  # Replace with actual '1' F1 scores\n",
    "\n",
    "# Initialize the DataFrame with these lists\n",
    "results_df = pd.DataFrame({\n",
    "    'Model': model_names,\n",
    "    'Model Accuracy': accuracies,\n",
    "    'Macro F1': macro_f1s,\n",
    "    'Class 1 Precision': precisions,\n",
    "    'Class 1 Recall': recalls,\n",
    "    'Class 1 F1': class_1_f1s\n",
    "})\n",
    "\n",
    "# Display the DataFrame\n",
    "results_df\n"
   ]
  },
  {
   "cell_type": "markdown",
   "metadata": {},
   "source": [
    "This table showcases the predictive performance of various models we've developed. The incorporation of SMOTE, particularly in the Random Forest SMOTE model, has substantially improved our ability to predict F1 race winners, as evidenced by the highest Macro F1 and Class 1 F1 scores. These improvements are crucial for our goal, as they demonstrate a more accurate and balanced prediction capability, especially for our minority class \"winner\" in our data."
   ]
  },
  {
   "cell_type": "code",
   "execution_count": null,
   "metadata": {},
   "outputs": [],
   "source": [
    "import matplotlib.pyplot as plt\n",
    "import numpy as np\n",
    "\n",
    "# Define the model names and their respective scores\n",
    "models = ['Logistic Regression Untuned', 'Logistic Regression Tuned', \n",
    "          'Decision Tree Tuned', 'Random Forest', 'Random Forest Tuned',\n",
    "          'Logistic Regression SMOTE', 'Decision Tree SMOTE', 'Random Forest SMOTE', 'XG Boost SMOTE']\n",
    "model_accuracy = [0.96, 0.95, 0.95, 0.96, 0.96, 0.94, 0.92, 0.95, 0.96]\n",
    "class_1_f1 = [0.46, 0.43, 0.39, 0.41, 0.41, 0.53, 0.46, 0.51, 0.38]\n",
    "\n",
    "# Set up the figure and axis\n",
    "fig, ax = plt.subplots(figsize=(12, 6))\n",
    "\n",
    "# Set the positions and width for the bars\n",
    "positions = np.arange(len(models))\n",
    "bar_width = 0.35\n",
    "\n",
    "# Colors\n",
    "standard_blue = '#add8e6'  # Light blue color\n",
    "standard_orange = '#ffcc99'  # Light orange color\n",
    "bright_blue = '#0000FF'  # Bright blue color\n",
    "bright_orange = '#FFA500'  # Bright orange color\n",
    "\n",
    "# Define bar colors based on whether the model uses SMOTE\n",
    "model_accuracy_colors = [bright_blue if 'SMOTE' in model else standard_blue for model in models]\n",
    "class_1_f1_colors = [bright_orange if 'SMOTE' in model else standard_orange for model in models]\n",
    "\n",
    "# Plot the 'Model Accuracy' bars\n",
    "ax.bar(positions - bar_width/2, model_accuracy, bar_width, label='Model Accuracy', color=model_accuracy_colors)\n",
    "\n",
    "# Plot the 'Class 1 F1 Score' bars\n",
    "ax.bar(positions + bar_width/2, class_1_f1, bar_width, label='Class 1 F1 Score', color=class_1_f1_colors)\n",
    "\n",
    "# Add the model names as x-axis labels\n",
    "ax.set_xticks(positions)\n",
    "ax.set_xticklabels(models, rotation=45, ha='right')\n",
    "\n",
    "# Set the chart title and labels\n",
    "ax.set_title('Model Performance with SMOTE Enhancement')\n",
    "ax.set_xlabel('Model')\n",
    "ax.set_ylabel('Score')\n",
    "\n",
    "# Add a legend to explain the colors and move it to the left outside of the plot\n",
    "ax.legend(loc='center left', bbox_to_anchor=(1, 0.5))\n",
    "\n",
    "# Show the plot\n",
    "plt.tight_layout()\n",
    "plt.show()\n"
   ]
  },
  {
   "cell_type": "markdown",
   "metadata": {},
   "source": [
    "Incorporating SMOTE into our data preprocessing has significantly enhanced our model's ability to predict F1 race winners. This technique has boosted the performance of our models, particularly evident in the Class 1 F1 scores, by effectively addressing class imbalance and providing a more robust and accurate prediction framework."
   ]
  },
  {
   "cell_type": "markdown",
   "metadata": {},
   "source": [
    "1. **Overall Accuracy Score**:\n",
    "\n",
    "The overall accuracy score is the proportion of all predictions our model gets right, both winners and non-winners. It's the most straightforward measure of our model's performance, giving us a quick snapshot of its effectiveness. In predicting F1 race winners, a high overall accuracy score indicates that our model is generally good at determining the outcomes, but it doesn't differentiate between the types of errors made, so it's important to balance this with precision and recall to ensure a well-rounded model."
   ]
  },
  {
   "cell_type": "code",
   "execution_count": null,
   "metadata": {},
   "outputs": [],
   "source": [
    "import plotly.graph_objects as go\n",
    "\n",
    "# Accuracy scores for each model\n",
    "accuracies = [0.96, 0.95, 0.95, 0.96, 0.96, 0.94, 0.92, 0.95, 0.96]\n",
    "models = [\n",
    "    'Logistic Regression Untuned', 'Logistic Regression Tuned', \n",
    "          'Decision Tree Tuned', 'Random Forest', 'Random Forest Tuned',\n",
    "          'Logistic Regression SMOTE', 'Decision Tree SMOTE', 'Random Forest SMOTE', 'XG Boost SMOTE'\n",
    "]\n",
    "\n",
    "# Colors for the bars - red if the score is the maximum, blue otherwise\n",
    "colors = ['red' if accuracy == max(accuracies) else 'blue' for accuracy in accuracies]\n",
    "\n",
    "# Create bar chart\n",
    "fig = go.Figure([go.Bar(x=models, y=accuracies, marker_color=colors)])\n",
    "fig.update_layout(\n",
    "    title='Logistics Regressions (Untuned), Random Forest Models and XG Boost SMOTE Show Highest Overall Accuracy',\n",
    "    xaxis_title='Model',\n",
    "    yaxis_title='Accuracy',\n",
    "    yaxis=dict(range=[0.85, 1])\n",
    ")\n",
    "fig.show()\n"
   ]
  },
  {
   "cell_type": "markdown",
   "metadata": {},
   "source": [
    "The chart showcases the accuracy scores of various predictive models in our analysis of Formula 1 race outcomes. Notably, Logistic Regression (Untined), both Random Forest models (pre-SMOTE) and XG Boost SMOTE models stand out with the highest accuracy, suggesting a robust predictive capability. Nevertheless, in the context of an imbalanced dataset where predicting race winners (a less frequent class) is crucial, accuracy alone can be misleading. Therefore, it is essential to examine other performance metrics such as precision and recall to ensure that our model is not only good at predicting non-winners but also effective in identifying the true winners, which is our primary objective."
   ]
  },
  {
   "cell_type": "markdown",
   "metadata": {},
   "source": [
    "2. **Recall**:\n",
    "\n",
    "Recall, also known as sensitivity, measures our model's ability to correctly identify all actual race winners. In the high-stakes context of F1 racing, a high recall means that our model misses very few winners; it's great at flagging potential champions. However, a high recall doesn't consider whether our predictions for non-winners are correct — it's purely focused on how well we catch those winning instances."
   ]
  },
  {
   "cell_type": "code",
   "execution_count": null,
   "metadata": {},
   "outputs": [],
   "source": [
    "# Recall scores for the winner class for each model\n",
    "recalls = [0.38, 0.36, 0.33, 0.31, 0.31, 0.69, 0.69, 0.52, 0.28]\n",
    "\n",
    "# Colors for the bars - red if the score is the maximum, blue otherwise\n",
    "colors = ['red' if recall == max(recalls) else 'blue' for recall in recalls]\n",
    "\n",
    "# Create bar chart\n",
    "fig = go.Figure([go.Bar(x=models, y=recalls, marker_color=colors)])\n",
    "fig.update_layout(\n",
    "    title='\"Decision Trees SMOTE and Logistic Regression SMOTE Achieve Highest Recall for Predicting Winners\"',\n",
    "    xaxis_title='Model',\n",
    "    yaxis_title='Recall',\n",
    "    yaxis=dict(range=[0, 1])\n",
    ")\n",
    "fig.show()"
   ]
  },
  {
   "cell_type": "markdown",
   "metadata": {},
   "source": [
    "This chart presents the recall metrics for various predictive models in our study on F1 race outcomes. Evidently, the Decision Trees SMOTE and Logistic Regression SMOTE models, highlighted in red, achieved the highest recall, excelling at correctly identifying actual race winners. High recall is essential in F1 race prediction because it means fewer genuine winners are missed. For stakeholders relying on these forecasts, a model like the Decision Trees SMOTE and Logistic Regression SMOTE models minimizes the chance of overlooking a victor, which is crucial since undetected winners could result in missed opportunities or financial losses."
   ]
  },
  {
   "cell_type": "markdown",
   "metadata": {},
   "source": [
    "3. **Precision**:\n",
    "\n",
    "Precision tells us how accurate our predictions are when the model declares a driver as a potential winner. It's a critical measure when considering the costs of false positives — in other words, how often our model incorrectly signals an unlikely driver as a winner. High precision in our F1 race winner prediction model would mean that when it predicts a win, we can be quite confident in placing our bets on that driver."
   ]
  },
  {
   "cell_type": "code",
   "execution_count": null,
   "metadata": {},
   "outputs": [],
   "source": [
    "# Precision scores for the winner class for each model\n",
    "precisions = [0.59, 0.53, 0.48, 0.62, 0.62, 0.43, 0.35, 0.50, 0.61]\n",
    "\n",
    "# Colors for the bars - red if the score is the maximum, blue otherwise\n",
    "colors = ['red' if precision == max(precisions) else 'blue' for precision in precisions]\n",
    "\n",
    "# Create bar chart\n",
    "fig = go.Figure([go.Bar(x=models, y=precisions, marker_color=colors)])\n",
    "fig.update_layout(\n",
    "    title='Random Forest (Untuned and Tuned) Maintains Highest Precision for Winner Predictions',\n",
    "    xaxis_title='Model',\n",
    "    yaxis_title='Precision',\n",
    "    yaxis=dict(range=[0, 1])\n",
    ")\n",
    "fig.show()\n"
   ]
  },
  {
   "cell_type": "markdown",
   "metadata": {},
   "source": [
    "The chart depicts the precision of various predictive models used to discern victors in Formula 1 races. The Random Forest models, both untuned and tuned, shown in red, boast the highest precision scores. This suggests that when these models predict a driver as a potential winner, they are more often correct than their counterparts. In the high-stakes arena of F1 racing, where accurate predictions are pivotal, the precision of the Random Forest models is especially beneficial. It ensures that predictions are reliable, which is essential for stakeholders making strategic decisions, and it minimizes the likelihood of false positives, focusing attention on the drivers with the best chances of winning."
   ]
  },
  {
   "cell_type": "markdown",
   "metadata": {},
   "source": [
    "### What about Class 1 F1 scores?"
   ]
  },
  {
   "cell_type": "markdown",
   "metadata": {},
   "source": [
    "In our project aimed at predicting F1 race winners, comparing the models' F1 scores, particularly the Macro F1 scores, is pivotal because it allows us to evaluate how well each model performs across both the frequent and rare outcomes — that is, losses and wins — with a balanced view. Since our data is highly skewed with much fewer wins than losses, the Macro F1 score is especially valuable; it ensures that the model's ability to correctly predict the less frequent but crucial 'win' outcomes is just as important in our evaluation as the 'loss' outcomes, leading us to a more effective and fair predictive model."
   ]
  },
  {
   "cell_type": "code",
   "execution_count": null,
   "metadata": {},
   "outputs": [],
   "source": [
    "import plotly.graph_objects as go\n",
    "\n",
    "# F1 macro average scores for each model\n",
    "f1_scores = [0.46, 0.43, 0.39, 0.41, 0.41, 0.53, 0.46, 0.51, 0.38]\n",
    "models = [\n",
    "    'Logistic Regression Untuned', 'Logistic Regression Tuned',\n",
    "    'Decision Tree Tuned', 'Random Forest Untuned',\n",
    "    'Random Forest Tuned', 'Logistic Regression SMOTE',\n",
    "    'Decision Trees SMOTE', 'Random Forest SMOTE', 'XG Boost SMOTE'\n",
    "]\n",
    "\n",
    "# Colors for the bars - red if the score is the maximum, blue otherwise\n",
    "colors = ['red' if f1_score == max(f1_scores) else 'blue' for f1_score in f1_scores]\n",
    "\n",
    "# Create bar chart\n",
    "fig = go.Figure([go.Bar(x=models, y=f1_scores, marker_color=colors)])\n",
    "fig.update_layout(\n",
    "    title='Logistics Regression SMOTE has highest Class 1 F1 Scores Across Models',\n",
    "    xaxis_title='Model',\n",
    "    yaxis_title='Class 1 F1 Score',\n",
    "    yaxis=dict(range=[0, 1])\n",
    ")\n",
    "fig.show()\n"
   ]
  },
  {
   "cell_type": "markdown",
   "metadata": {},
   "source": [
    "The chart highlights the Class 1 F1 Scores for various models developed to predict the winners in Formula 1 races. The prominent red bar signifies that the Logistic Regression SMOTE model outperforms the others with the highest F1 score for Class 1, implying a superior harmony between precision and recall for the minority class—our race winners. Given the challenges posed by the imbalanced nature of our dataset, where winners are less frequent than non-winners, the Logistic Regression SMOTE model is currently our frontrunner, adeptly identifying true winners without an excess of false positives."
   ]
  },
  {
   "cell_type": "markdown",
   "metadata": {},
   "source": []
  },
  {
   "cell_type": "markdown",
   "metadata": {},
   "source": [
    "### **Conclusion after SMOTE and Extra Feature Engineering**\n",
    "\n",
    "As we navigate through the complex dynamics of Formula 1 race predictions, our analyses have led us to a standout performer: the **Logistic Regression SMOTE** model. Excelling with the highest Class 1 F1 score, this model has demonstrated a superior grasp of the intricate factors at play in discerning race winners. It adeptly balances the scales of precision and recall, crucial in an environment where the minority class—our race winners—are our primary interest. Its ability to minimize false negatives is particularly valuable, ensuring we capture as many true winning events as possible. Therefore, the **Logistic Regression SMOTE** model is our method of choice for the deployment in this high-velocity domain, ensuring that our predictions are as sharp and accurate as the racers on the track."
   ]
  },
  {
   "cell_type": "markdown",
   "metadata": {},
   "source": [
    "### **Next Steps**\n",
    "\n",
    "With the Logistic Regression SMOTE model leading the pack in terms of Class 1 F1 score, our venture into the fast-paced world of Formula 1 race predictions is shifting gears. The next phase involves an exciting practical application: we plan to evaluate how much money each of our SMOTE-enhanced models could have generated based on their predictions. This will involve a detailed cost-benefit analysis, considering the betting odds and the models' ability to correctly identify race winners. By doing so, we can translate the statistical prowess of our models into concrete financial outcomes, offering us a tangible measure of their performance in real-world scenarios. This step will be crucial in not only affirming the models' effectiveness but also in fine-tuning them for maximum return on investment in future races."
   ]
  },
  {
   "cell_type": "code",
   "execution_count": null,
   "metadata": {},
   "outputs": [],
   "source": [
    "import joblib\n",
    "\n",
    "# Assuming 'logreg_gs', 'dt_grid_search', and 'grid_search' are the final GridSearchCV objects\n",
    "# that were created for logistic regression, decision tree, and random forest respectively.\n",
    "# The 'gs' is for the XGBoost model.\n",
    "\n",
    "# Save the logistic regression model\n",
    "joblib.dump(logreg_gs.best_estimator_, '/mnt/data/logistic_regression_best_estimator.pkl')\n",
    "\n",
    "# Save the decision tree model\n",
    "joblib.dump(dt_grid_search.best_estimator_, '/mnt/data/decision_tree_best_estimator.pkl')\n",
    "\n",
    "# Save the random forest model\n",
    "joblib.dump(grid_search.best_estimator_, '/mnt/data/random_forest_best_estimator.pkl')\n",
    "\n",
    "# Save the XGBoost model\n",
    "joblib.dump(gs.best_estimator_, '/mnt/data/xgboost_best_estimator.pkl')\n",
    "\n",
    "# List of the saved models\n",
    "model_files = [\n",
    "    'logistic_regression_best_estimator.pkl',\n",
    "    'decision_tree_best_estimator.pkl',\n",
    "    'random_forest_best_estimator.pkl',\n",
    "    'xgboost_best_estimator.pkl'\n",
    "]\n",
    "\n",
    "# Print out the paths to the saved models\n",
    "for model_file in model_files:\n",
    "    print(f\"Model saved: {model_file}\")\n"
   ]
  }
 ],
 "metadata": {
  "kernelspec": {
   "display_name": "capstone",
   "language": "python",
   "name": "python3"
  },
  "language_info": {
   "codemirror_mode": {
    "name": "ipython",
    "version": 3
   },
   "file_extension": ".py",
   "mimetype": "text/x-python",
   "name": "python",
   "nbconvert_exporter": "python",
   "pygments_lexer": "ipython3",
   "version": "3.8.18"
  }
 },
 "nbformat": 4,
 "nbformat_minor": 2
}
